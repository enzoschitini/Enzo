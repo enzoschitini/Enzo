{
 "cells": [
  {
   "cell_type": "markdown",
   "metadata": {},
   "source": [
    "<img src=\"Images/Group.png\" alt=\"ebac-logo\">\n",
    "\n",
    "---\n",
    "\n",
    "# **Programas** | Python: Página dedicada ao GitHub\n",
    "Caderno de **Projetos**<br> \n",
    "Desenvolvedor [Enzo Schitini](https://enzo-schitini.bubbleapps.io/version-test/)\n",
    "\n",
    "---"
   ]
  },
  {
   "cell_type": "markdown",
   "metadata": {},
   "source": [
    "## 1\\. `UMBRIA: Imprimindo resposta em PDF`"
   ]
  },
  {
   "cell_type": "markdown",
   "metadata": {},
   "source": [
    "<img src=\"Group2.png\" alt=\"ebac-logo\"> "
   ]
  },
  {
   "cell_type": "markdown",
   "metadata": {},
   "source": [
    "##### **1. Definição** "
   ]
  },
  {
   "cell_type": "markdown",
   "metadata": {},
   "source": [
    "O **Umbria** gera todos os dados em PDF"
   ]
  },
  {
   "cell_type": "code",
   "execution_count": 4,
   "metadata": {},
   "outputs": [],
   "source": [
    "# Construindo PDF\n",
    "\n",
    "from reportlab.pdfgen import canvas\n",
    "from reportlab.lib.pagesizes import A4\n",
    "# Images/Group 11105.png\n",
    "cnv = canvas.Canvas(\"Meu_pdf.pdf\", pagesize=A4)\n",
    "# Imagens\n",
    "cnv.drawImage(\"Group2.png\", 44, 650, width= 508, height= 174)\n",
    "cnv.save()"
   ]
  },
  {
   "cell_type": "markdown",
   "metadata": {},
   "source": [
    "## 2\\. `Palermo - Funções e classes`"
   ]
  },
  {
   "cell_type": "markdown",
   "metadata": {},
   "source": [
    "<img src=\"Group2.png\" alt=\"ebac-logo\"> "
   ]
  },
  {
   "cell_type": "code",
   "execution_count": 2,
   "metadata": {},
   "outputs": [
    {
     "name": "stdout",
     "output_type": "stream",
     "text": [
      "Writing usuarios.csv\n"
     ]
    }
   ],
   "source": [
    "%%writefile usuarios.csv\n",
    "nome, email, senha, pontos"
   ]
  },
  {
   "cell_type": "code",
   "execution_count": 15,
   "metadata": {},
   "outputs": [],
   "source": [
    "# Definindo a classe Usuário\n",
    "\n",
    "class Usuario(object):\n",
    "    \n",
    "    def __init__(self, nome, email, senha, pontos) -> None:\n",
    "        self.nome = nome\n",
    "        self.email = email\n",
    "        self.senha = senha\n",
    "        self.pontos = pontos\n",
    "    \n",
    "    def recarga(self, quanto):\n",
    "        recarga_pontos = self.pontos = quanto\n",
    "        return recarga_pontos\n",
    "\n",
    "enzo = Usuario(nome='Enzo', email='schitinienzo@gmail.com', senha='1234', pontos=14)\n"
   ]
  },
  {
   "cell_type": "code",
   "execution_count": 11,
   "metadata": {},
   "outputs": [],
   "source": [
    "# Sistama de logIn\n",
    "\n"
   ]
  }
 ],
 "metadata": {
  "kernelspec": {
   "display_name": "Python 3",
   "language": "python",
   "name": "python3"
  },
  "language_info": {
   "codemirror_mode": {
    "name": "ipython",
    "version": 3
   },
   "file_extension": ".py",
   "mimetype": "text/x-python",
   "name": "python",
   "nbconvert_exporter": "python",
   "pygments_lexer": "ipython3",
   "version": "3.11.5"
  },
  "orig_nbformat": 4
 },
 "nbformat": 4,
 "nbformat_minor": 2
}
