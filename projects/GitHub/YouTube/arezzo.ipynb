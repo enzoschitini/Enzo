{
 "cells": [
  {
   "cell_type": "markdown",
   "metadata": {},
   "source": [
    "<img src=\"Image/Capa.png\" alt=\"ebac-logo\">\n",
    "\n",
    "---\n",
    "\n",
    "# **Arezzo** | Python: YouTube metrics and statistics by country\n",
    "Caderno de **Conteúdos**<br> \n",
    "Desenvolvedor [Enzo Schitini](https://enzo-schitini.bubbleapps.io/version-test/)\n",
    "\n",
    "---"
   ]
  },
  {
   "cell_type": "code",
   "execution_count": 10,
   "metadata": {},
   "outputs": [
    {
     "name": "stdout",
     "output_type": "stream",
     "text": [
      "nan\n",
      "Nonprofits & Activism\n",
      "Autos & Vehicles\n",
      "Movies\n",
      "Shows\n",
      "Film & Animation\n",
      "Comedy\n",
      "Pets & Animals\n",
      "Gaming\n",
      "People & Blogs\n",
      "Sports\n",
      "Travel & Events\n",
      "Science & Technology\n",
      "Education\n",
      "Music\n",
      "News & Politics\n",
      "Howto & Style\n",
      "Entertainment\n",
      "Trailers\n",
      "19\n"
     ]
    }
   ],
   "source": [
    "lista = []\n",
    "\n",
    "with open(file='./youtube.csv', mode='r') as file:\n",
    "    linha = file.readline()\n",
    "    linha = file.readline()\n",
    "    while linha:\n",
    "        linha_x = linha.split(sep=',')\n",
    "        linha_add = linha_x[4]\n",
    "        lista.append(linha_add)\n",
    "        linha = file.readline()\n",
    "\n",
    "lista = list(set(lista))\n",
    "for x in lista:\n",
    "    print(x)\n",
    "print(len(lista))"
   ]
  }
 ],
 "metadata": {
  "kernelspec": {
   "display_name": "Python 3",
   "language": "python",
   "name": "python3"
  },
  "language_info": {
   "codemirror_mode": {
    "name": "ipython",
    "version": 3
   },
   "file_extension": ".py",
   "mimetype": "text/x-python",
   "name": "python",
   "nbconvert_exporter": "python",
   "pygments_lexer": "ipython3",
   "version": "3.11.5"
  }
 },
 "nbformat": 4,
 "nbformat_minor": 2
}
