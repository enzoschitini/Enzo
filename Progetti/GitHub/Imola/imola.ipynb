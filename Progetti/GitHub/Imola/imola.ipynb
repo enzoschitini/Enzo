{
 "cells": [
  {
   "cell_type": "markdown",
   "metadata": {},
   "source": [
    "<img src=\"image/Capa.png\" alt=\"ebac-logo\">\n",
    "\n",
    "---\n",
    "\n",
    "# **Imola** | Python: DataSet Space: Stars and Planets \n",
    "\n",
    "Caderno de **Códigos**<br> \n",
    "Desenvolvedor [Enzo Schitini](https://enzo-schitini.bubbleapps.io/version-test/)\n",
    "\n",
    "---"
   ]
  },
  {
   "cell_type": "markdown",
   "metadata": {},
   "source": [
    "## -> `Definição`"
   ]
  },
  {
   "cell_type": "markdown",
   "metadata": {},
   "source": [
    "### `Sobre a função do programa`"
   ]
  },
  {
   "cell_type": "markdown",
   "metadata": {},
   "source": [
    "### `Kepler`"
   ]
  },
  {
   "cell_type": "code",
   "execution_count": 49,
   "metadata": {},
   "outputs": [
    {
     "name": "stdout",
     "output_type": "stream",
     "text": [
      "9564 Kepler Exoplanet Search Results\n",
      "-------------------------- \n",
      " \n"
     ]
    },
    {
     "name": "stderr",
     "output_type": "stream",
     "text": [
      "100%|██████████| 2/2 [00:01<00:00,  1.99it/s]"
     ]
    },
    {
     "name": "stdout",
     "output_type": "stream",
     "text": [
      "-------------------------- \n",
      " \n",
      "24 % Exoplanet confirmed -> 2293\n",
      "76 % Exoplanet no confirmed -> 7271\n",
      "Average score: 0.48, 0 - 1\n",
      "[0.969, 0.992, 0.811, 0.998, 0.98, 0.971, 0.992, 0.978, 0.998, 0.998, 0.989, 0.952, 0.994, 0.999, 0.95, 0.745, 0.998, 0.99, 0.992, 0.998, 0.999, 0.996, 0.997, 0.995, 0.989, 0.878, 0.999, 0.876, 0.999, 0.985, 0.942, 0.912, 0.996, 0.974, 0.959, 0.994, 0.987, 0.983, 0.997, 0.998, 0.0, 0.986, 0.999, 0.635, 0.997, 0.415, 0.999, 0.999, 0.998, 0.999, 0.997, 0.996, 0.957, 0.999, 0.92, 0.996, 0.999, 0.998, 0.973, 0.953, 0.704, 0.996, 0.998, 0.949, 0.999, 0.989, 0.994, 0.998, 0.993, 0.995, 0.945, 0.765, 0.815, 0.999, 0.912, 0.989, 0.994, 0.881, 0.999, 0.758, 0.99, 0.999, 0.999, 0.848, 0.884, 0.986, 0.994, 0.998, 0.976, 0.985, 0.829, 0.991, 0.998, 0.998, 0.99, 0.992, 0.998, 0.995, 0.821, 0.998, 0.997, 0.989, 0.982, 0.968, 0.996, 0.934, 0.875, 0.885, 0.994, 0.991, 0.961, 0.999, 0.0, 0.998, 0.907, 0.999, 0.996, 0.098, 0.978, 0.994, 0.95, 0.983, 0.996, 0.91, 0.999, 0.997, 0.857, 0.997, 0.999, 0.998, 0.996, 0.754, 0.68, 0.997, 0.995, 0.98, 0.996, 0.117, 0.997, 0.999, 0.041, 0.992, 0.986, 0.979, 0.995, 0.998, 0.927, 0.999, 0.991, 0.936, 0.992, 0.976, 0.896, 0.992, 0.997, 0.971, 0.998, 0.808, 0.999, 0.996, 0.999, 0.999, 0.998, 0.999, 0.999, 0.986, 0.999, 0.935, 0.997, 0.981, 0.92, 0.987, 0.995, 0.981, 0.985, 0.086, 0.242, 0.998, 0.984, 0.969, 0.964, 0.998, 0.996, 0.991, 0.82, 0.992, 0.999, 0.999, 0.995, 0.748, 0.998, 0.997, 0.999, 0.999, 0.912, 0.989, 0.982, 0.995, 0.998, 0.999, 0.977, 0.988, 0.986, 0.996, 0.802, 0.889, 0.991, 0.0, 0.999, 0.987, 0.677, 0.972, 0.995, 0.994, 0.998, 0.994, 0.998, 0.998, 0.993, 0.989, 0.991, 0.997, 0.998, 0.996, 0.996, 0.994, 0.997, 0.993, 0.956, 0.936, 0.985, 0.913, 0.761, 0.999, 0.964, 0.959, 0.693, 0.961, 0.998, 0.986, 0.999, 0.998, 0.0, 0.999, 0.838, 0.0, 0.997, 0.991, 0.331, 0.998, 0.603, 0.998, 0.978, 0.987, 0.999, 0.998, 0.99, 0.95, 0.243, 0.899, 0.889, 0.998, 0.995, 0.974, 0.999, 0.975, 0.984, 0.998, 0.4, 0.978, 0.998, 0.999, 0.998, 0.994, 0.987, 0.995, 0.993, 0.862, 0.995, 0.978, 0.999, 0.993, 0.933, 0.861, 0.983, 0.999, 0.998, 0.997, 0.99, 0.975, 0.937, 0.9, 0.999, 0.999, 0.999, 0.933, 0.359, 0.998, 0.999, 0.998, 0.996, 0.974, 0.992, 0.879, 0.999, 0.982, 0.967, 0.738, 0.944, 0.999, 0.989, 0.996, 0.989, 0.972, 0.999, 0.996, 0.99, 0.854, 0.99, 0.371, 0.404, 0.992, 0.998, 0.996, 0.999, 0.894, 0.997, 0.967, 0.998, 0.973, 0.978, 0.999, 0.996, 0.998, 0.998, 0.996, 0.999, 0.999, 0.0, 0.997, 0.999, 0.979, 0.998, 0.989, 0.998, 0.992, 0.999, 0.991, 0.999, 0.15, 0.99, 0.998, 0.99, 0.969, 0.998, 0.999, 0.007, 0.999, 0.978, 0.999, 0.997, 0.991, 0.997, 0.0, 0.991, 0.998, 0.998, 0.995, 0.999, 0.982, 0.997, 0.059, 0.988, 0.999, 0.199, 0.944, 0.998, 0.998, 0.912, 0.979, 0.997, 0.994, 0.99, 0.996, 0.997, 0.994, 0.998, 0.995, 0.999, 0.991, 0.983, 0.992, 0.982, 0.993, 0.999, 0.995, 0.995, 0.999, 0.999, 0.749, 0.989, 0.999, 0.999, 0.998, 0.971, 0.997, 0.526, 0.859, 0.995, 0.485, 0.993, 0.983, 0.972, 0.959, 0.997, 0.996, 0.951, 0.997, 0.995, 0.997, 0.999, 0.407, 0.998, 0.993, 0.897, 0.989, 0.97, 0.995, 0.993, 0.919, 0.816, 0.995, 0.98, 0.996, 0.991, 0.983, 0.952, 0.991, 0.939, 0.998, 0.987, 0.972, 0.973, 0.974, 0.993, 0.956, 0.999, 0.918, 0.937, 0.998, 0.996, 0.999, 0.992, 0.985, 0.983, 0.986, 0.922, 0.978, 0.894, 0.986, 0.997, 0.82, 0.982, 0.976, 0.989, 0.999, 0.982, 0.987, 0.98, 0.998, 0.984, 0.999, 0.965, 0.993, 0.993, 0.932, 0.986, 0.999, 0.996, 0.991, 0.995, 0.998, 0.951, 0.996, 0.969, 0.942, 0.836, 0.968, 0.982, 0.999, 0.997, 0.993, 0.998, 0.999, 0.996, 0.95, 0.999, 0.985, 0.999, 0.998, 0.956, 0.743, 0.883, 0.997, 0.993, 0.99, 0.975, 0.997, 0.94, 0.868, 0.997, 0.997, 0.739, 0.994, 0.997, 0.95, 0.992, 0.757, 0.998, 0.996, 0.998, 0.993, 0.998, 0.995, 0.992, 0.98, 0.999, 0.939, 0.999, 0.998, 0.998, 0.997, 0.0, 0.998, 0.992, 0.918, 0.931, 0.999, 0.73, 0.982, 0.998, 0.996, 0.829, 0.997, 0.998, 0.996, 0.982, 0.99, 0.992, 0.999, 0.985, 0.995, 0.948, 0.063, 0.98, 0.997, 0.999, 0.992, 0.999, 0.981, 0.993, 0.989, 0.986, 0.997, 0.96, 0.797, 0.987, 0.995, 0.993, 0.999, 0.952, 0.933, 0.992, 0.993, 0.999, 0.989, 0.996, 0.998, 0.988, 0.992, 0.996, 0.975, 0.991, 0.803, 0.887, 0.844, 0.941, 0.996, 0.936, 0.997, 0.95, 0.999, 0.995, 0.603, 0.996, 0.755, 0.939, 0.999, 0.996, 0.999, 0.999, 0.989, 0.006, 0.983, 0.982, 0.976, 0.998, 0.917, 0.992, 0.0, 0.958, 0.998, 0.894, 0.998, 0.999, 0.989, 0.972, 0.999, 0.987, 0.993, 0.973, 0.998, 0.98, 0.996, 0.976, 0.993, 0.915, 0.998, 0.999, 0.973, 0.957, 0.998, 0.983, 0.799, 0.998, 0.959, 0.972, 0.893, 0.999, 0.984, 0.997, 0.971, 0.858, 0.768, 0.987, 0.254, 0.977, 0.997, 0.998, 0.919, 0.995, 0.0, 0.996, 0.933, 0.59, 0.958, 0.88, 0.999, 0.987, 0.998, 0.996, 0.983, 0.989, 0.999, 0.999, 0.995, 0.962, 0.989, 0.994, 0.559, 0.963, 0.932, 0.997, 0.992, 0.0, 0.921, 0.994, 0.0, 0.987, 0.997, 0.999, 0.992, 0.9, 0.999, 0.996, 0.955, 0.982, 0.868, 0.999, 0.881, 0.982, 0.895, 0.0, 0.953, 0.932, 0.996, 0.998, 0.963, 0.981, 0.997, 0.0, 0.998, 0.001, 0.963, 0.932, 0.998, 0.881, 0.993, 0.996, 0.989, 0.922, 0.998, 0.996, 0.563, 0.999, 0.999, 0.766, 0.996, 0.999, 0.994, 0.978, 0.992, 0.999, 0.954, 0.997, 0.99, 0.955, 0.886, 0.997, 0.976, 0.999, 0.994, 0.97, 0.997, 0.992, 0.999, 0.997, 0.984, 0.999, 0.959, 0.073, 0.008, 0.483, 0.972, 0.772, 0.999, 0.999, 0.998, 0.997, 0.978, 0.999, 0.992, 0.997, 0.999, 0.999, 0.999, 0.97, 0.284, 0.995, 0.985, 0.973, 0.992, 0.999, 0.994, 0.378, 0.995, 0.767, 0.999, 0.927, 0.402, 0.987, 0.989, 0.999, 0.995, 0.82, 0.992, 0.915, 0.001, 0.958, 0.966, 0.988, 0.987, 0.987, 0.0, 0.993, 0.999, 0.1, 0.965, 0.979, 0.976, 0.997, 0.996, 0.995, 0.997, 0.08, 0.991, 0.994, 0.979, 0.956, 0.677, 0.868, 0.999, 0.976, 0.985, 0.997, 0.914, 0.995, 0.995, 0.996, 0.996, 0.877, 0.995, 0.999, 0.998, 0.999, 0.966, 0.997, 0.948, 0.895, 0.992, 0.99, 0.364, 0.999, 0.997, 0.998, 0.947, 0.974, 0.992, 0.997, 0.931, 0.741, 0.994, 0.947, 0.996, 0.994, 0.995, 0.146, 0.996, 0.998, 0.974, 0.905, 0.896, 0.975, 0.944, 0.997, 0.665, 0.989, 0.806, 0.995, 0.987, 0.872, 0.552, 0.334, 0.972, 0.956, 0.99, 0.971, 0.919, 0.979, 0.97, 0.984, 0.912, 0.96, 0.993, 0.999, 0.974, 0.996, 0.973, 0.927, 0.994, 0.955, 0.986, 0.975, 0.502, 0.993, 0.966, 0.995, 0.99, 0.997, 0.993, 0.994, 0.877, 0.98, 0.899, 0.996, 0.945, 0.949, 0.834, 0.989, 0.901, 0.969, 0.995, 0.996, 0.974, 0.998, 0.969, 0.985, 0.861, 0.971, 0.99, 0.982, 0.925, 0.998, 0.966, 0.0, 0.002, 0.999, 0.849, 0.844, 0.993, 0.943, 0.989, 0.966, 0.67, 0.999, 0.972, 0.999, 0.94, 0.995, 0.967, 0.998, 0.997, 0.996, 0.988, 0.993, 0.991, 0.997, 0.992, 0.996, 0.783, 0.947, 0.884, 0.998, 0.986, 0.993, 0.86, 0.995, 0.992, 0.985, 0.999, 0.999, 0.998, 0.997, 0.977, 0.998, 0.0, 0.808, 0.761, 0.982, 0.0, 0.636, 0.963, 0.927, 0.994, 0.99, 0.99, 0.999, 0.999, 0.998, 0.997, 0.991, 0.997, 0.988, 0.999, 0.999, 0.854, 0.984, 0.999, 0.916, 0.986, 0.971, 0.941, 0.999, 0.902, 0.998, 0.988, 0.0, 0.992, 0.94, 0.958, 0.0, 0.814, 0.904, 0.999, 0.999, 0.954, 0.848, 0.905, 0.997, 0.996, 0.976, 0.937, 0.999, 0.955, 0.968, 0.949, 0.994, 0.0, 0.991, 0.999, 0.981, 0.997, 0.985, 0.999, 0.771, 0.901, 0.965, 0.896, 0.0, 0.976, 0.941, 0.877, 0.476, 0.911]\n"
     ]
    },
    {
     "name": "stderr",
     "output_type": "stream",
     "text": [
      "\n"
     ]
    }
   ],
   "source": [
    "from adige import ArquivoCSV\n",
    "import time\n",
    "from tqdm import tqdm\n",
    "\n",
    "def analisar_exoplanetas():\n",
    "    \n",
    "    def sleep():\n",
    "        print('-------------------------- \\n ')\n",
    "        for i in tqdm(range(2)):\n",
    "            time.sleep(0.5)\n",
    "        print('-------------------------- \\n ')\n",
    "\n",
    "    csv = ArquivoCSV('./satelite.csv')\n",
    "\n",
    "    num = len(csv.extrair_coluna(0))\n",
    "    print(num, 'Kepler Exoplanet Search Results')\n",
    "\n",
    "    yon = csv.extrair_coluna(4)\n",
    "    conf = 0\n",
    "    no_confirmed = 0\n",
    "\n",
    "    for x in yon:\n",
    "        x = x.strip()\n",
    "        if x == 'CONFIRMED':\n",
    "            conf = conf + 1\n",
    "        else:\n",
    "            no_confirmed = no_confirmed + 1\n",
    "\n",
    "    percentuale = lambda x: (x * 100) / num\n",
    "\n",
    "    sleep()\n",
    "\n",
    "    print(round(percentuale(conf)), '%', 'Exoplanet confirmed', '->', conf)\n",
    "    print(round(percentuale(no_confirmed)), '%', 'Exoplanet no confirmed', '->', no_confirmed)\n",
    "\n",
    "# Agora você pode chamar a função assim:\n",
    "analisar_exoplanetas()\n",
    "\n",
    "def score():\n",
    "    from adige import ArquivoCSV\n",
    "    from functools import reduce\n",
    "\n",
    "    file = ArquivoCSV('./satelite.csv')\n",
    "    lista = file.extrair_coluna(6)\n",
    "    \n",
    "    # Media Score\n",
    "    lista_x = []\n",
    "    for x in lista:\n",
    "        if x != '':\n",
    "            x = float(x)\n",
    "            lista_x.append(x)\n",
    "    media_score = reduce(lambda x, y: x + y, lista_x) / len(lista_x)\n",
    "    print(f'Average score: {round(media_score, 2)}, 0 - 1')\n",
    "\n",
    "    # Scala di accettazione\n",
    "    lista_conf_score_x = []\n",
    "    with open(file='./satelite.csv', mode='r', encoding='utf-8') as fp:\n",
    "        line = fp.readline()\n",
    "        line = fp.readline()\n",
    "        while line:\n",
    "            line = line.strip().split(sep=',')\n",
    "            if line[4] == 'CONFIRMED':\n",
    "                lista_conf_score_x.append(line[6])\n",
    "                line = fp.readline()\n",
    "            else:\n",
    "                line = fp.readline()\n",
    "    #print(lista_conf_score_x)\n",
    "\n",
    "    lista_conf_score_x = [float(i) for i in lista_conf_score_x if i]\n",
    "    elementi_minori_di_1 = [i for i in lista_conf_score_x if i < 1.0000]\n",
    "    print(elementi_minori_di_1)\n",
    "\n",
    "score()"
   ]
  },
  {
   "cell_type": "markdown",
   "metadata": {},
   "source": [
    "### `Stars`"
   ]
  },
  {
   "cell_type": "code",
   "execution_count": null,
   "metadata": {},
   "outputs": [],
   "source": [
    "csv_nome = './Stars.csv'\n",
    "# Total de linhas\n",
    "from adige import ArquivoCSV\n",
    "csv = ArquivoCSV(csv_nome)\n",
    "print('--------------------------')\n",
    "print(len(csv.extrair_coluna(0)))\n",
    "\n",
    "# Category of Stars\n",
    "from adige import limp\n",
    "catg = csv.extrair_coluna(4)\n",
    "catg = limp(catg)\n",
    "print(catg)\n",
    "print(len(catg))\n",
    "\n",
    "def cat_val(cat:int, val:int) -> list:\n",
    "    lista = []\n",
    "    with open(file=csv_nome, mode='r', encoding='utf-8') as fp:\n",
    "        line = fp.readline()\n",
    "        line = fp.readline()\n",
    "        while line:\n",
    "            line = line.split(sep=',')\n",
    "            p1 = line[cat]\n",
    "            p2 = line[val]\n",
    "            lista_x = p1 + '; ' + p2\n",
    "            lista.append(lista_x)\n",
    "            line = fp.readline()\n",
    "    return lista\n",
    "\n",
    "todos = cat_val(4, 0)\n",
    "print(todos)\n",
    "print('-------------------------- \\n ')\n",
    "\n",
    "# I tuoi dati\n",
    "data_str = todos\n",
    "\n",
    "# Elabora ogni stringa per creare una tupla e aggiungila a una nuova lista\n",
    "data = []\n",
    "for elemento in data_str:\n",
    "    colore, temperatura = elemento.split(\"; \")\n",
    "    data.append((colore.strip(), int(temperatura)))\n",
    "\n",
    "# Creiamo un dizionario per sommare le temperature e contare le occorrenze di ciascun colore\n",
    "somme = {}\n",
    "conteggi = {}\n",
    "\n",
    "for colore, temperatura in data:\n",
    "    if colore not in somme:\n",
    "        somme[colore] = 0\n",
    "        conteggi[colore] = 0\n",
    "    somme[colore] += temperatura\n",
    "    conteggi[colore] += 1\n",
    "\n",
    "# Calcoliamo la media per ciascun colore\n",
    "medie = {colore: somma / conteggi[colore] for colore, somma in somme.items()}\n",
    "\n",
    "cor_temperatura = []\n",
    "# Stampiamo le medie\n",
    "for colore, media in medie.items():\n",
    "    media = round(media)\n",
    "    print(f'La media per {colore} è {media}')\n",
    "    linha = str(colore) + ';' + str(media)\n",
    "    cor_temperatura.append(linha)\n"
   ]
  },
  {
   "cell_type": "code",
   "execution_count": null,
   "metadata": {},
   "outputs": [],
   "source": [
    "import pandas as pd\n",
    "\n",
    "from adige import limp_csv\n",
    "limp_csv('./base.csv')\n",
    "\n",
    "import csv\n",
    "# Abra o arquivo em modo de escrita ('w')\n",
    "with open('./base.csv', 'w', newline='') as file:\n",
    "    writer = csv.writer(file)\n",
    "    # Escreva o cabeçalho\n",
    "    writer.writerow(['Color', 'Temperature'])\n",
    "\n",
    "from adige import ArquivoCSV\n",
    "csv = ArquivoCSV('./Stars.csv')\n",
    "catg = csv.extrair_coluna(4)\n",
    "\n",
    "data = []\n",
    "with open(file='./base.csv', mode='a', encoding='utf8') as fp:\n",
    "  for x in cor_temperatura:\n",
    "    x = x.split(sep=';')\n",
    "    linha = str(x[0]) + ',' + str(x[1]) + '\\n'\n",
    "    fp.write(linha)\n",
    "    data.append(linha.strip())\n",
    "\n",
    "# Ordina i dati in base alla temperatura (dal più alto al più basso)\n",
    "data.sort(key=lambda x: int(x.split(',')[1]), reverse=True)\n",
    "\n",
    "def smistando(data:list):\n",
    "   ordem = 0\n",
    "   print('-------------------------- \\n ')\n",
    "   for x in data:\n",
    "      x = x.strip().split(sep=',')\n",
    "      ordem = ordem + 1\n",
    "      print(f'{ordem}°  {x[0]}  --> temperatura de {x[1]}')\n",
    "smistando(data)\n",
    "\n",
    "# Grafico \n",
    "\n",
    "base_extrair = ArquivoCSV('./base.csv')\n",
    "cores = base_extrair.extrair_coluna(0)\n",
    "temperaturas = base_extrair.extrair_coluna(1)\n",
    "\n",
    "def grafico(x:list, y:list):\n",
    "   import matplotlib.pyplot as plt\n",
    "\n",
    "   plt.bar(x,y,color='blue')\n",
    "   plt.plot\n",
    "   plt.show()\n"
   ]
  }
 ],
 "metadata": {
  "kernelspec": {
   "display_name": "Python 3",
   "language": "python",
   "name": "python3"
  },
  "language_info": {
   "codemirror_mode": {
    "name": "ipython",
    "version": 3
   },
   "file_extension": ".py",
   "mimetype": "text/x-python",
   "name": "python",
   "nbconvert_exporter": "python",
   "pygments_lexer": "ipython3",
   "version": "3.11.5"
  }
 },
 "nbformat": 4,
 "nbformat_minor": 2
}
