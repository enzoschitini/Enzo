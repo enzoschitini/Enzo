{
 "cells": [
  {
   "cell_type": "markdown",
   "metadata": {},
   "source": [
    "<img src=\"Capa.png\" alt=\"ebac-logo\">\n",
    "\n",
    "---\n",
    "\n",
    "# **ADIGE** | Python: Programa com repositório de recursos\n",
    "Caderno de **Library**<br> \n",
    "Desenvolvedor [Enzo Schitini](https://enzo-schitini.bubbleapps.io/version-test/)\n",
    "\n",
    "---"
   ]
  },
  {
   "cell_type": "markdown",
   "metadata": {},
   "source": [
    "### **Limpando lista** "
   ]
  },
  {
   "cell_type": "code",
   "execution_count": null,
   "metadata": {},
   "outputs": [],
   "source": [
    "import numero\n",
    "lista = [2, 2, 5]\n",
    "print(numero.limp(lista))"
   ]
  },
  {
   "cell_type": "markdown",
   "metadata": {},
   "source": [
    "### **Extrair elemento de uma lista** "
   ]
  },
  {
   "cell_type": "code",
   "execution_count": null,
   "metadata": {},
   "outputs": [],
   "source": [
    "import numero\n",
    "cel = ['Users/Soldado/AppData/Local/Programs/Python']\n",
    "print(numero.extcel(cel, 1, '/', 'str'))"
   ]
  },
  {
   "cell_type": "markdown",
   "metadata": {},
   "source": [
    "### **Média de lista** "
   ]
  },
  {
   "cell_type": "code",
   "execution_count": null,
   "metadata": {},
   "outputs": [],
   "source": [
    "import numero\n",
    "lista = [2, 2, 5]\n",
    "print(numero.media_de_lista(lista, 2))"
   ]
  },
  {
   "cell_type": "markdown",
   "metadata": {},
   "source": [
    "### **Barra de progresso** "
   ]
  },
  {
   "cell_type": "code",
   "execution_count": null,
   "metadata": {},
   "outputs": [],
   "source": [
    "from numero import prograss_bar\n",
    "prograss_bar(5)\n",
    "prograss_bar(5)"
   ]
  },
  {
   "cell_type": "markdown",
   "metadata": {},
   "source": [
    "### **Arquivo CSV** "
   ]
  },
  {
   "cell_type": "code",
   "execution_count": null,
   "metadata": {},
   "outputs": [],
   "source": [
    "from numero import ArquivoCSV\n",
    "\n",
    "csv = ArquivoCSV(arquivo='./data.csv')\n",
    "\n",
    "print(csv.extrair_coluna(indice_coluna=1))\n",
    "print(csv._extrair_nome_colunas())\n",
    "print(csv._extrair_conteudo())"
   ]
  },
  {
   "cell_type": "markdown",
   "metadata": {},
   "source": [
    "100.000.000\n",
    "100.000000\n",
    "100000000"
   ]
  },
  {
   "cell_type": "code",
   "execution_count": 2,
   "metadata": {},
   "outputs": [
    {
     "name": "stdout",
     "output_type": "stream",
     "text": [
      "3.291.785.714.285.714\n"
     ]
    }
   ],
   "source": [
    "def valor_abreviado(valor:str) -> str:\n",
    "    alg_valor = list(valor)\n",
    "    num = len(alg_valor)\n",
    "    num_punt = sum(map(lambda x: x == '.', valor))\n",
    "    for x in range(num_punt):\n",
    "     alg_valor.remove('.')\n",
    "    numero = int(\"\".join(alg_valor))\n",
    "    numero_format = \"{:,}\".format(numero).replace(\",\", \".\")\n",
    "    print(numero_format)\n",
    "\n",
    "valor_abreviado(valor='3291.785714285714')"
   ]
  },
  {
   "cell_type": "code",
   "execution_count": 65,
   "metadata": {},
   "outputs": [
    {
     "name": "stdout",
     "output_type": "stream",
     "text": [
      "100000000\n"
     ]
    }
   ],
   "source": [
    "lista = ['1', '0', '0', '0', '0', '0', '0', '0', '0']\n",
    "numero = int(\"\".join(lista))\n",
    "print(numero)\n"
   ]
  },
  {
   "cell_type": "markdown",
   "metadata": {},
   "source": [
    "## 12\\. `Categorisação`"
   ]
  },
  {
   "cell_type": "code",
   "execution_count": 6,
   "metadata": {},
   "outputs": [
    {
     "name": "stdout",
     "output_type": "stream",
     "text": [
      "240\n"
     ]
    }
   ],
   "source": [
    "# Total de linhas\n",
    "from numero import ArquivoCSV\n",
    "csv = ArquivoCSV('./data.csv')\n",
    "print(len(csv.extrair_coluna(0)))"
   ]
  },
  {
   "cell_type": "code",
   "execution_count": 7,
   "metadata": {},
   "outputs": [
    {
     "name": "stdout",
     "output_type": "stream",
     "text": [
      "['Orange-Red', 'White-Yellow', 'Blue-White', 'yellow-white', 'yellowish', 'Blue-white', 'Blue White', 'White', 'Pale yellow orange', 'Blue', 'Whitish', 'Yellowish White', 'Red', 'Yellowish', 'white', 'Blue white', 'Orange']\n",
      "17\n"
     ]
    }
   ],
   "source": [
    "# Category of Stars\n",
    "from numero import limp\n",
    "catg = csv.extrair_coluna(4)\n",
    "catg = limp(catg)\n",
    "print(catg)\n",
    "print(len(catg))"
   ]
  },
  {
   "cell_type": "code",
   "execution_count": 11,
   "metadata": {},
   "outputs": [
    {
     "name": "stdout",
     "output_type": "stream",
     "text": [
      "['Red; 3068', 'Red; 3042', 'Red; 2600', 'Red; 2800', 'Red; 1939', 'Red; 2840', 'Red; 2637', 'Red; 2600', 'Red; 2650', 'Red; 2700', 'Red; 3600', 'Red; 3129', 'Red; 3134', 'Red; 3628', 'Red; 2650', 'Red; 3340', 'Red; 2799', 'Red; 3692', 'Red; 3192', 'Red; 3441', 'Blue White; 25000', 'White; 7740', 'White; 7220', 'White; 8500', 'Blue White; 16500', 'Yellowish White; 12990', 'Blue white; 8570', 'Yellowish White; 7700', 'Yellowish White; 11790', 'Pale yellow orange; 7230', 'Blue; 39000', 'Blue-white; 30000', 'Blue-white; 15276', 'Whitish; 9700', 'yellow-white; 5800', 'Whitish; 8052', 'yellow-white; 6757', 'yellow-white; 6380', 'yellow-white; 5936', 'yellow-white; 5587', 'Red; 3826', 'Red; 3365', 'Red; 3270', 'Red; 3200', 'Red; 3008', 'Red; 3600', 'Red; 3575', 'Red; 3574', 'Red; 3625', 'Blue; 33750', 'Red; 3490', 'Red; 3750', 'Red; 3834', 'Orange; 3749', 'Red; 3650', 'Red; 3450', 'Red; 3660', 'Red; 3450', 'Red; 3752', 'Red; 3535', 'Red; 3341', 'Red; 3432', 'Red; 2983', 'Red; 2835', 'Red; 2935', 'Red; 3295', 'Red; 2945', 'Red; 2817', 'Red; 2774', 'Red; 2871', 'Red; 3345', 'Red; 3607', 'Red; 3304', 'Red; 3150', 'Red; 3550', 'Red; 3180', 'Red; 2890', 'Red; 3342', 'Red; 2621', 'Red; 3158', 'White-Yellow; 7100', 'White; 10574', 'white; 8930', 'Blue White; 17200', 'Blue White; 14100', 'Blue White; 9675', 'Blue White; 12010', 'Blue White; 10980', 'white; 13720', 'Blue; 19860', 'yellow-white; 5300', 'yellowish; 4526', 'yellowish; 4077', 'Yellowish; 4980', 'Blue-white; 9030', 'Blue-white; 11250', 'Orange-Red; 5112', 'yellow-white; 7720', 'Blue-white; 12098', 'Blue; 36108', 'Blue; 33300', 'Blue; 40000', 'Blue; 23000', 'Blue; 17120', 'Blue; 11096', 'Blue; 14245', 'Blue; 24630', 'Blue; 12893', 'Blue; 24345', 'Blue; 33421', 'Red; 3459', 'Red; 3605', 'Red; 3615', 'Red; 3399', 'Red; 3610', 'Red; 3553', 'Red; 4015', 'Red; 3625', 'Red; 6850', 'Red; 3780', 'Red; 3323', 'Red; 3531', 'Red; 3218', 'Red; 3146', 'Red; 3511', 'Red; 3225', 'Red; 2935', 'Red; 2861', 'Red; 2856', 'Red; 2731', 'Red; 3095', 'Red; 3607', 'Red; 3100', 'Red; 2989', 'Red; 3542', 'Red; 3243', 'Red; 3091', 'Red; 3598', 'Red; 3324', 'Red; 3541', 'Blue White; 13420', 'Blue; 21020', 'Blue; 18290', 'Blue White; 14520', 'Blue white; 11900', 'Blue white; 8924', 'Blue white; 12912', 'white; 14732', 'White; 7723', 'Blue White; 12984', 'Blue-white; 29560', 'Blue-White; 8945', 'Blue-white; 14060', 'Blue-white; 16390', 'Blue-white; 25070', 'Blue-white; 28700', 'Blue-white; 26140', 'Blue-white; 20120', 'Blue-white; 13023', 'Blue; 37800', 'Blue; 25390', 'Blue; 11567', 'Blue; 12675', 'Blue; 5752', 'Blue; 8927', 'Blue; 7282', 'Blue; 19923', 'Blue; 26373', 'Blue; 17383', 'Blue; 9373', 'Red; 3570', 'Red; 3500', 'Orange; 4287', 'Blue; 26000', 'Red; 3600', 'Red; 3614', 'Blue; 18000', 'Blue-white; 11000', 'Blue-white; 12100', 'Blue-white; 24490', 'Red; 2831', 'Red; 2914', 'Red; 3419', 'Red; 3218', 'Red; 3453', 'Red; 2889', 'Red; 2968', 'Red; 3484', 'Red; 2778', 'Red; 3523', 'Red; 3462', 'Red; 3257', 'Red; 2994', 'Red; 3212', 'Red; 3523', 'Red; 3598', 'Red; 3142', 'Red; 3496', 'Red; 3324', 'Red; 3463', 'Blue; 16790', 'Blue; 15680', 'Blue; 14982', 'Blue; 13340', 'Blue; 18340', 'Blue; 19920', 'Blue; 24020', 'Blue; 23092', 'Blue; 17920', 'Blue; 19360', 'Blue-white; 22350', 'Blue-white; 10012', 'Blue-white; 13089', 'Blue-white; 22012', 'Blue; 34190', 'Blue; 32460', 'Blue-white; 9320', 'Blue-white; 19400', 'Blue-white; 17140', 'yellow-white; 8250', 'Blue; 23678', 'Blue; 12749', 'Blue; 9383', 'Blue; 23440', 'Blue; 16787', 'Blue; 18734', 'Blue; 9892', 'Blue; 10930', 'Blue; 23095', 'Blue; 21738', 'Blue-white; 24145', 'Blue; 38234', 'Blue; 32489', 'Blue-white; 27739', 'Blue-white; 21904', 'Blue; 38940', 'Blue; 30839', 'White; 8829', 'White; 9235', 'Blue; 37882']\n"
     ]
    }
   ],
   "source": [
    "def cat_val(cat:int, val:int) -> list:\n",
    "    lista = []\n",
    "    with open(file='./data.csv', mode='r', encoding='utf-8') as fp:\n",
    "        line = fp.readline()\n",
    "        line = fp.readline()\n",
    "        while line:\n",
    "            line = line.split(sep=',')\n",
    "            p1 = line[cat]\n",
    "            p2 = line[val]\n",
    "            lista_x = p1 + '; ' + p2\n",
    "            lista.append(lista_x)\n",
    "            line = fp.readline()\n",
    "    return lista\n",
    "\n",
    "todos = cat_val(4, 0)\n",
    "print(todos)"
   ]
  },
  {
   "cell_type": "code",
   "execution_count": null,
   "metadata": {},
   "outputs": [],
   "source": [
    "# I tuoi dati\n",
    "data_str = todos\n",
    "\n",
    "# Elabora ogni stringa per creare una tupla e aggiungila a una nuova lista\n",
    "data = []\n",
    "for elemento in data_str:\n",
    "    colore, temperatura = elemento.split(\"; \")\n",
    "    data.append((colore.strip(), int(temperatura)))\n",
    "\n",
    "# Creiamo un dizionario per sommare le temperature e contare le occorrenze di ciascun colore\n",
    "somme = {}\n",
    "conteggi = {}\n",
    "\n",
    "for colore, temperatura in data:\n",
    "    if colore not in somme:\n",
    "        somme[colore] = 0\n",
    "        conteggi[colore] = 0\n",
    "    somme[colore] += temperatura\n",
    "    conteggi[colore] += 1\n",
    "\n",
    "# Calcoliamo la media per ciascun colore\n",
    "medie = {colore: somma / conteggi[colore] for colore, somma in somme.items()}\n",
    "\n",
    "# Stampiamo le medie\n",
    "for colore, media in medie.items():\n",
    "    print(f'La media per {colore} è {media}')\n"
   ]
  },
  {
   "cell_type": "code",
   "execution_count": 20,
   "metadata": {},
   "outputs": [],
   "source": [
    "class Categories(object):\n",
    "\n",
    "   def __init__(self) -> None:\n",
    "      pass\n",
    "\n",
    "   def extrair_categorias(self, conteudo:list) -> list:\n",
    "\n",
    "      # I tuoi dati\n",
    "      data_str = conteudo\n",
    "\n",
    "\n",
    "      # Elabora ogni stringa per creare una tupla e aggiungila a una nuova lista\n",
    "      data = []\n",
    "      for elemento in data_str:\n",
    "         colore, temperatura = elemento.split(\"; \")\n",
    "         data.append((colore.strip(), int(temperatura)))\n",
    "      \n",
    "      # Creiamo un dizionario per sommare le temperature e contare le occorrenze di ciascun colore\n",
    "      somme = {}\n",
    "      conteggi = {}\n",
    "\n",
    "      for colore, temperatura in data:\n",
    "         if colore not in somme:\n",
    "            somme[colore] = 0\n",
    "            conteggi[colore] = 0\n",
    "         somme[colore] += temperatura\n",
    "         conteggi[colore] += 1\n",
    "\n",
    "      # Calcoliamo la media per ciascun colore\n",
    "      medie = {colore: somma / conteggi[colore] for colore, somma in somme.items()}\n",
    "\n",
    "      # Stampiamo le medie\n",
    "      for colore, media in medie.items():\n",
    "         print(f'La media per {colore} è {media}')"
   ]
  },
  {
   "cell_type": "code",
   "execution_count": 21,
   "metadata": {},
   "outputs": [
    {
     "ename": "TypeError",
     "evalue": "Categories.extrair_categorias() missing 1 required positional argument: 'conteudo'",
     "output_type": "error",
     "traceback": [
      "\u001b[1;31m---------------------------------------------------------------------------\u001b[0m",
      "\u001b[1;31mTypeError\u001b[0m                                 Traceback (most recent call last)",
      "\u001b[1;32mc:\\Users\\Soldado\\Downloads\\Python\\GitHub\\Adige\\adge.ipynb Cella 21\u001b[0m line \u001b[0;36m1\n\u001b[1;32m----> <a href='vscode-notebook-cell:/c%3A/Users/Soldado/Downloads/Python/GitHub/Adige/adge.ipynb#X33sZmlsZQ%3D%3D?line=0'>1</a>\u001b[0m Categories\u001b[39m.\u001b[39;49mextrair_categorias(todos)\n",
      "\u001b[1;31mTypeError\u001b[0m: Categories.extrair_categorias() missing 1 required positional argument: 'conteudo'"
     ]
    }
   ],
   "source": [
    "Categories.extrair_categorias(todos)"
   ]
  }
 ],
 "metadata": {
  "kernelspec": {
   "display_name": "Python 3",
   "language": "python",
   "name": "python3"
  },
  "language_info": {
   "codemirror_mode": {
    "name": "ipython",
    "version": 3
   },
   "file_extension": ".py",
   "mimetype": "text/x-python",
   "name": "python",
   "nbconvert_exporter": "python",
   "pygments_lexer": "ipython3",
   "version": "3.11.5"
  }
 },
 "nbformat": 4,
 "nbformat_minor": 2
}
