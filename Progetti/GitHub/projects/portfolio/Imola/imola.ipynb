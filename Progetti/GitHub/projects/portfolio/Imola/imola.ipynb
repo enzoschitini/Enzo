{
 "cells": [
  {
   "cell_type": "markdown",
   "metadata": {},
   "source": [
    "<img src=\"image/Capa.png\" alt=\"ebac-logo\">\n",
    "\n",
    "---\n",
    "\n",
    "# **Imola** | Python: DataSet Space: Stars and Planets \n",
    "\n",
    "Caderno de **Códigos**<br> \n",
    "Desenvolvedor [Enzo Schitini](https://enzo-schitini.bubbleapps.io/version-test/)\n",
    "\n",
    "---"
   ]
  },
  {
   "cell_type": "markdown",
   "metadata": {},
   "source": [
    "## -> `Definição`"
   ]
  },
  {
   "cell_type": "markdown",
   "metadata": {},
   "source": [
    "### `Sobre a função do programa`"
   ]
  },
  {
   "cell_type": "markdown",
   "metadata": {},
   "source": [
    "Olá, meu nome é `Enzo Schtini` e quero compartilhar `Imola` com você. É um algoritmo que revela dados incríveis sobre ‘exoplanetas e a temperatura das estrelas’."
   ]
  },
  {
   "cell_type": "markdown",
   "metadata": {},
   "source": [
    "### `Kepler`"
   ]
  },
  {
   "cell_type": "markdown",
   "metadata": {},
   "source": [
    "##### Contexto"
   ]
  },
  {
   "cell_type": "markdown",
   "metadata": {},
   "source": [
    "O `Observatório Espacial Kepler` é um satélite construído pela NASA que foi lançado em 2009. O telescópio é dedicado à busca de exoplanetas em sistemas estelares além do nosso, com o objetivo final de possivelmente encontrar planetas habitáveis ​​diferentes do nosso. A missão original terminou em 2013 devido a falhas mecânicas, mas o telescópio está operando desde 2014 em uma missão estendida “K2”.\n",
    "\n",
    "O Kepler verificou 1.284 novos exoplanetas em maio de 2016. Em outubro de 2017, havia mais de 3.000 exoplanetas confirmados no total (usando todos os métodos de detecção, incluindo os baseados em terra). O telescópio ainda está ativo e continua a recolher novos dados na sua missão expandida."
   ]
  },
  {
   "cell_type": "markdown",
   "metadata": {},
   "source": [
    "##### Contente"
   ]
  },
  {
   "cell_type": "markdown",
   "metadata": {},
   "source": [
    "Este conjunto de dados é um registro cumulativo de todos os `objetos de interesse` observados pelo Kepler – basicamente, todos os `aproximadamente 10.000 candidatos a exoplanetas` dos quais o Kepler fez observações."
   ]
  },
  {
   "cell_type": "code",
   "execution_count": null,
   "metadata": {},
   "outputs": [],
   "source": [
    "from functools import reduce\n",
    "from tqdm import tqdm\n",
    "import pandas as pd\n",
    "import time\n",
    "import csv\n",
    "\n",
    "from adige import ArquivoCSV\n",
    "from adige import limp_csv"
   ]
  },
  {
   "cell_type": "code",
   "execution_count": null,
   "metadata": {},
   "outputs": [],
   "source": [
    "def analisar_exoplanetas():\n",
    "    \n",
    "    def sleep():\n",
    "        print('-------------------------- \\n ')\n",
    "        for i in tqdm(range(2)):\n",
    "            time.sleep(0.5)\n",
    "        print('-------------------------- \\n ')\n",
    "\n",
    "    csv = ArquivoCSV('./satelite.csv')\n",
    "\n",
    "    num = len(csv.extrair_coluna(0))\n",
    "    print(num, 'Kepler Exoplanet Search Results')\n",
    "\n",
    "    yon = csv.extrair_coluna(4)\n",
    "    conf = 0\n",
    "    no_confirmed = 0\n",
    "\n",
    "    for x in yon:\n",
    "        x = x.strip()\n",
    "        if x == 'CONFIRMED':\n",
    "            conf = conf + 1\n",
    "        else:\n",
    "            no_confirmed = no_confirmed + 1\n",
    "\n",
    "    percentuale = lambda x: (x * 100) / num\n",
    "\n",
    "    sleep()\n",
    "\n",
    "    print(round(percentuale(conf)), '%', 'Exoplanet confirmed', '->', conf)\n",
    "    print(round(percentuale(no_confirmed)), '%', 'Exoplanet no confirmed', '->', no_confirmed)"
   ]
  },
  {
   "cell_type": "code",
   "execution_count": null,
   "metadata": {},
   "outputs": [],
   "source": [
    "analisar_exoplanetas()"
   ]
  },
  {
   "cell_type": "code",
   "execution_count": null,
   "metadata": {},
   "outputs": [],
   "source": [
    "def score():\n",
    "\n",
    "    file = ArquivoCSV('./satelite.csv')\n",
    "    lista = file.extrair_coluna(6)\n",
    "    \n",
    "    # Media Score\n",
    "    lista_x = []\n",
    "    for x in lista:\n",
    "        if x != '':\n",
    "            x = float(x)\n",
    "            lista_x.append(x)\n",
    "    media_score = reduce(lambda x, y: x + y, lista_x) / len(lista_x)\n",
    "    print(f'Average score: {round(media_score, 2)}, 0 - 1')\n",
    "\n",
    "    # Scala di accettazione\n",
    "    lista_conf_score_x = []\n",
    "    with open(file='./satelite.csv', mode='r', encoding='utf-8') as fp:\n",
    "        line = fp.readline()\n",
    "        line = fp.readline()\n",
    "        while line:\n",
    "            line = line.strip().split(sep=',')\n",
    "            if line[4] == 'CONFIRMED':\n",
    "                lista_conf_score_x.append(line[6])\n",
    "                line = fp.readline()\n",
    "            else:\n",
    "                line = fp.readline()"
   ]
  },
  {
   "cell_type": "code",
   "execution_count": null,
   "metadata": {},
   "outputs": [],
   "source": [
    "score()"
   ]
  },
  {
   "cell_type": "markdown",
   "metadata": {},
   "source": [
    "### `Stars`"
   ]
  },
  {
   "cell_type": "markdown",
   "metadata": {},
   "source": [
    "##### Você já se perguntou qual estrela colorida tem a temperatura mais alta?"
   ]
  },
  {
   "cell_type": "markdown",
   "metadata": {},
   "source": [
    "Então, através deste algoritmo podemos entender que uma estrela que tem a `cor Azul brilha` mais enquanto as `Vermelhas brilham menos`"
   ]
  },
  {
   "cell_type": "code",
   "execution_count": null,
   "metadata": {},
   "outputs": [],
   "source": [
    "csv_nome = './Stars.csv'\n",
    "from adige import ArquivoCSV"
   ]
  },
  {
   "cell_type": "code",
   "execution_count": null,
   "metadata": {},
   "outputs": [],
   "source": [
    "csv = ArquivoCSV(csv_nome)\n",
    "print('--------------------------')\n",
    "print(len(csv.extrair_coluna(0)))"
   ]
  },
  {
   "cell_type": "code",
   "execution_count": null,
   "metadata": {},
   "outputs": [],
   "source": [
    "# Category of Stars\n",
    "from adige import limp\n",
    "catg = csv.extrair_coluna(4)\n",
    "catg = limp(catg)\n",
    "print(catg)\n",
    "print(len(catg))"
   ]
  },
  {
   "cell_type": "code",
   "execution_count": null,
   "metadata": {},
   "outputs": [],
   "source": [
    "def cat_val(cat:int, val:int) -> list:\n",
    "    lista = []\n",
    "    with open(file=csv_nome, mode='r', encoding='utf-8') as fp:\n",
    "        line = fp.readline()\n",
    "        line = fp.readline()\n",
    "        while line:\n",
    "            line = line.split(sep=',')\n",
    "            p1 = line[cat]\n",
    "            p2 = line[val]\n",
    "            lista_x = p1 + '; ' + p2\n",
    "            lista.append(lista_x)\n",
    "            line = fp.readline()\n",
    "    return lista"
   ]
  },
  {
   "cell_type": "code",
   "execution_count": null,
   "metadata": {},
   "outputs": [],
   "source": [
    "print(cat_val(4, 0))"
   ]
  },
  {
   "cell_type": "code",
   "execution_count": null,
   "metadata": {},
   "outputs": [],
   "source": [
    "# I tuoi dati\n",
    "data_str = cat_val(4, 0)"
   ]
  },
  {
   "cell_type": "code",
   "execution_count": null,
   "metadata": {},
   "outputs": [],
   "source": [
    "# Elabora ogni stringa per creare una tupla e aggiungila a una nuova lista\n",
    "data = []\n",
    "for elemento in data_str:\n",
    "    colore, temperatura = elemento.split(\"; \")\n",
    "    data.append((colore.strip(), int(temperatura)))"
   ]
  },
  {
   "cell_type": "code",
   "execution_count": null,
   "metadata": {},
   "outputs": [],
   "source": [
    "# Creiamo un dizionario per sommare le temperature e contare le occorrenze di ciascun colore\n",
    "somme = {}\n",
    "conteggi = {}\n",
    "\n",
    "for colore, temperatura in data:\n",
    "    if colore not in somme:\n",
    "        somme[colore] = 0\n",
    "        conteggi[colore] = 0\n",
    "    somme[colore] += temperatura\n",
    "    conteggi[colore] += 1"
   ]
  },
  {
   "cell_type": "code",
   "execution_count": null,
   "metadata": {},
   "outputs": [],
   "source": [
    "# Calcoliamo la media per ciascun colore\n",
    "medie = {colore: somma / conteggi[colore] for colore, somma in somme.items()}"
   ]
  },
  {
   "cell_type": "code",
   "execution_count": null,
   "metadata": {},
   "outputs": [],
   "source": [
    "cor_temperatura = []\n",
    "# Stampiamo le medie\n",
    "for colore, media in medie.items():\n",
    "    media = round(media)\n",
    "    print(f'La media per {colore} è {media}')\n",
    "    linha = str(colore) + ';' + str(media)\n",
    "    cor_temperatura.append(linha)\n"
   ]
  },
  {
   "cell_type": "code",
   "execution_count": null,
   "metadata": {},
   "outputs": [],
   "source": [
    "csv = ArquivoCSV('./Stars.csv')\n",
    "catg = csv.extrair_coluna(4)"
   ]
  },
  {
   "cell_type": "code",
   "execution_count": null,
   "metadata": {},
   "outputs": [],
   "source": [
    "data = []\n",
    "with open(file='./base.csv', mode='a', encoding='utf8') as fp:\n",
    "  for x in cor_temperatura:\n",
    "    x = x.split(sep=';')\n",
    "    linha = str(x[0]) + ',' + str(x[1]) + '\\n'\n",
    "    fp.write(linha)\n",
    "    data.append(linha.strip())"
   ]
  },
  {
   "cell_type": "code",
   "execution_count": null,
   "metadata": {},
   "outputs": [],
   "source": [
    "# Ordina i dati in base alla temperatura (dal più alto al più basso)\n",
    "data.sort(key=lambda x: int(x.split(',')[1]), reverse=True)\n",
    "\n",
    "def smistando(data:list):\n",
    "   ordem = 0\n",
    "   print('-------------------------- \\n ')\n",
    "   for x in data:\n",
    "      x = x.strip().split(sep=',')\n",
    "      ordem = ordem + 1\n",
    "      print(f'{ordem}°  {x[0]}  --> Average temperature {x[1]} K')\n",
    "smistando(data)"
   ]
  }
 ],
 "metadata": {
  "kernelspec": {
   "display_name": "Python 3",
   "language": "python",
   "name": "python3"
  },
  "language_info": {
   "codemirror_mode": {
    "name": "ipython",
    "version": 3
   },
   "file_extension": ".py",
   "mimetype": "text/x-python",
   "name": "python",
   "nbconvert_exporter": "python",
   "pygments_lexer": "ipython3",
   "version": "3.11.5"
  }
 },
 "nbformat": 4,
 "nbformat_minor": 2
}
