{
 "cells": [
  {
   "cell_type": "markdown",
   "metadata": {},
   "source": [
    "<img src=\"image/Capa.png\" alt=\"ebac-logo\">\n",
    "\n",
    "---\n",
    "\n",
    "# **Imola** | Python: DataSet Space: Stars and Planets \n",
    "\n",
    "Caderno de **Códigos**<br> \n",
    "Desenvolvedor [Enzo Schitini](https://enzo-schitini.bubbleapps.io/version-test/)\n",
    "\n",
    "---"
   ]
  },
  {
   "cell_type": "markdown",
   "metadata": {},
   "source": [
    "## -> `Definição`"
   ]
  },
  {
   "cell_type": "markdown",
   "metadata": {},
   "source": [
    "### `Sobre a função do programa`"
   ]
  },
  {
   "cell_type": "markdown",
   "metadata": {},
   "source": [
    "Olá, meu nome é `Enzo Schtini` e quero compartilhar `Imola` com você. É um algoritmo que revela dados incríveis sobre `exoplanetas e a temperatura das estrelas.`"
   ]
  },
  {
   "cell_type": "markdown",
   "metadata": {},
   "source": [
    "### `Kepler`"
   ]
  },
  {
   "cell_type": "markdown",
   "metadata": {},
   "source": [
    "##### Context"
   ]
  },
  {
   "cell_type": "markdown",
   "metadata": {},
   "source": [
    "O `Observatório Espacial Kepler` é um satélite construído pela NASA que foi lançado em 2009. O telescópio é dedicado à busca de exoplanetas em sistemas estelares além do nosso, com o objetivo final de possivelmente encontrar outros planetas habitáveis além do nosso. A missão original terminou em 2013 devido a falhas mecânicas, mas o telescópio está funcionando desde 2014 em uma missão estendida “K2”.\n",
    "\n",
    "Kepler havia verificado 1.284 novos exoplanetas em maio de 2016. Em outubro de 2017, havia mais de 3.000 exoplanetas confirmados no total (usando todos os métodos de detecção, incluindo os baseados em terra). O telescópio ainda está ativo e continua a recolher novos dados na sua missão alargada."
   ]
  },
  {
   "cell_type": "markdown",
   "metadata": {},
   "source": [
    "##### Content"
   ]
  },
  {
   "cell_type": "markdown",
   "metadata": {},
   "source": [
    "Este conjunto de dados é um registro cumulativo de todos os “objetos de interesse” observados pelo Kepler – basicamente, todos os “aproximadamente 10.000 candidatos a exoplanetas” sobre os quais o Kepler fez observações."
   ]
  },
  {
   "cell_type": "code",
   "execution_count": 10,
   "metadata": {},
   "outputs": [
    {
     "name": "stdout",
     "output_type": "stream",
     "text": [
      "9564 Kepler Exoplanet Search Results\n",
      "-------------------------- \n",
      " \n"
     ]
    },
    {
     "name": "stderr",
     "output_type": "stream",
     "text": [
      "100%|██████████| 2/2 [00:01<00:00,  1.99it/s]"
     ]
    },
    {
     "name": "stdout",
     "output_type": "stream",
     "text": [
      "-------------------------- \n",
      " \n",
      "24 % Exoplanet confirmed -> 2293\n",
      "76 % Exoplanet no confirmed -> 7271\n",
      "Average score: 0.48, 0 - 1\n",
      "[0.969, 0.992, 0.811, 0.998, 0.98, 0.971, 0.992, 0.978, 0.998, 0.998, 0.989, 0.952, 0.994, 0.999, 0.95, 0.745, 0.998, 0.99, 0.992, 0.998, 0.999, 0.996, 0.997, 0.995, 0.989, 0.878, 0.999, 0.876, 0.999, 0.985, 0.942, 0.912, 0.996, 0.974, 0.959, 0.994, 0.987, 0.983, 0.997, 0.998, 0.0, 0.986, 0.999, 0.635, 0.997, 0.415, 0.999, 0.999, 0.998, 0.999, 0.997, 0.996, 0.957, 0.999, 0.92, 0.996, 0.999, 0.998, 0.973, 0.953, 0.704, 0.996, 0.998, 0.949, 0.999, 0.989, 0.994, 0.998, 0.993, 0.995, 0.945, 0.765, 0.815, 0.999, 0.912, 0.989, 0.994, 0.881, 0.999, 0.758, 0.99, 0.999, 0.999, 0.848, 0.884, 0.986, 0.994, 0.998, 0.976, 0.985, 0.829, 0.991, 0.998, 0.998, 0.99, 0.992, 0.998, 0.995, 0.821, 0.998, 0.997, 0.989, 0.982, 0.968, 0.996, 0.934, 0.875, 0.885, 0.994, 0.991, 0.961, 0.999, 0.0, 0.998, 0.907, 0.999, 0.996, 0.098, 0.978, 0.994, 0.95, 0.983, 0.996, 0.91, 0.999, 0.997, 0.857, 0.997, 0.999, 0.998, 0.996, 0.754, 0.68, 0.997, 0.995, 0.98, 0.996, 0.117, 0.997, 0.999, 0.041, 0.992, 0.986, 0.979, 0.995, 0.998, 0.927, 0.999, 0.991, 0.936, 0.992, 0.976, 0.896, 0.992, 0.997, 0.971, 0.998, 0.808, 0.999, 0.996, 0.999, 0.999, 0.998, 0.999, 0.999, 0.986, 0.999, 0.935, 0.997, 0.981, 0.92, 0.987, 0.995, 0.981, 0.985, 0.086, 0.242, 0.998, 0.984, 0.969, 0.964, 0.998, 0.996, 0.991, 0.82, 0.992, 0.999, 0.999, 0.995, 0.748, 0.998, 0.997, 0.999, 0.999, 0.912, 0.989, 0.982, 0.995, 0.998, 0.999, 0.977, 0.988, 0.986, 0.996, 0.802, 0.889, 0.991, 0.0, 0.999, 0.987, 0.677, 0.972, 0.995, 0.994, 0.998, 0.994, 0.998, 0.998, 0.993, 0.989, 0.991, 0.997, 0.998, 0.996, 0.996, 0.994, 0.997, 0.993, 0.956, 0.936, 0.985, 0.913, 0.761, 0.999, 0.964, 0.959, 0.693, 0.961, 0.998, 0.986, 0.999, 0.998, 0.0, 0.999, 0.838, 0.0, 0.997, 0.991, 0.331, 0.998, 0.603, 0.998, 0.978, 0.987, 0.999, 0.998, 0.99, 0.95, 0.243, 0.899, 0.889, 0.998, 0.995, 0.974, 0.999, 0.975, 0.984, 0.998, 0.4, 0.978, 0.998, 0.999, 0.998, 0.994, 0.987, 0.995, 0.993, 0.862, 0.995, 0.978, 0.999, 0.993, 0.933, 0.861, 0.983, 0.999, 0.998, 0.997, 0.99, 0.975, 0.937, 0.9, 0.999, 0.999, 0.999, 0.933, 0.359, 0.998, 0.999, 0.998, 0.996, 0.974, 0.992, 0.879, 0.999, 0.982, 0.967, 0.738, 0.944, 0.999, 0.989, 0.996, 0.989, 0.972, 0.999, 0.996, 0.99, 0.854, 0.99, 0.371, 0.404, 0.992, 0.998, 0.996, 0.999, 0.894, 0.997, 0.967, 0.998, 0.973, 0.978, 0.999, 0.996, 0.998, 0.998, 0.996, 0.999, 0.999, 0.0, 0.997, 0.999, 0.979, 0.998, 0.989, 0.998, 0.992, 0.999, 0.991, 0.999, 0.15, 0.99, 0.998, 0.99, 0.969, 0.998, 0.999, 0.007, 0.999, 0.978, 0.999, 0.997, 0.991, 0.997, 0.0, 0.991, 0.998, 0.998, 0.995, 0.999, 0.982, 0.997, 0.059, 0.988, 0.999, 0.199, 0.944, 0.998, 0.998, 0.912, 0.979, 0.997, 0.994, 0.99, 0.996, 0.997, 0.994, 0.998, 0.995, 0.999, 0.991, 0.983, 0.992, 0.982, 0.993, 0.999, 0.995, 0.995, 0.999, 0.999, 0.749, 0.989, 0.999, 0.999, 0.998, 0.971, 0.997, 0.526, 0.859, 0.995, 0.485, 0.993, 0.983, 0.972, 0.959, 0.997, 0.996, 0.951, 0.997, 0.995, 0.997, 0.999, 0.407, 0.998, 0.993, 0.897, 0.989, 0.97, 0.995, 0.993, 0.919, 0.816, 0.995, 0.98, 0.996, 0.991, 0.983, 0.952, 0.991, 0.939, 0.998, 0.987, 0.972, 0.973, 0.974, 0.993, 0.956, 0.999, 0.918, 0.937, 0.998, 0.996, 0.999, 0.992, 0.985, 0.983, 0.986, 0.922, 0.978, 0.894, 0.986, 0.997, 0.82, 0.982, 0.976, 0.989, 0.999, 0.982, 0.987, 0.98, 0.998, 0.984, 0.999, 0.965, 0.993, 0.993, 0.932, 0.986, 0.999, 0.996, 0.991, 0.995, 0.998, 0.951, 0.996, 0.969, 0.942, 0.836, 0.968, 0.982, 0.999, 0.997, 0.993, 0.998, 0.999, 0.996, 0.95, 0.999, 0.985, 0.999, 0.998, 0.956, 0.743, 0.883, 0.997, 0.993, 0.99, 0.975, 0.997, 0.94, 0.868, 0.997, 0.997, 0.739, 0.994, 0.997, 0.95, 0.992, 0.757, 0.998, 0.996, 0.998, 0.993, 0.998, 0.995, 0.992, 0.98, 0.999, 0.939, 0.999, 0.998, 0.998, 0.997, 0.0, 0.998, 0.992, 0.918, 0.931, 0.999, 0.73, 0.982, 0.998, 0.996, 0.829, 0.997, 0.998, 0.996, 0.982, 0.99, 0.992, 0.999, 0.985, 0.995, 0.948, 0.063, 0.98, 0.997, 0.999, 0.992, 0.999, 0.981, 0.993, 0.989, 0.986, 0.997, 0.96, 0.797, 0.987, 0.995, 0.993, 0.999, 0.952, 0.933, 0.992, 0.993, 0.999, 0.989, 0.996, 0.998, 0.988, 0.992, 0.996, 0.975, 0.991, 0.803, 0.887, 0.844, 0.941, 0.996, 0.936, 0.997, 0.95, 0.999, 0.995, 0.603, 0.996, 0.755, 0.939, 0.999, 0.996, 0.999, 0.999, 0.989, 0.006, 0.983, 0.982, 0.976, 0.998, 0.917, 0.992, 0.0, 0.958, 0.998, 0.894, 0.998, 0.999, 0.989, 0.972, 0.999, 0.987, 0.993, 0.973, 0.998, 0.98, 0.996, 0.976, 0.993, 0.915, 0.998, 0.999, 0.973, 0.957, 0.998, 0.983, 0.799, 0.998, 0.959, 0.972, 0.893, 0.999, 0.984, 0.997, 0.971, 0.858, 0.768, 0.987, 0.254, 0.977, 0.997, 0.998, 0.919, 0.995, 0.0, 0.996, 0.933, 0.59, 0.958, 0.88, 0.999, 0.987, 0.998, 0.996, 0.983, 0.989, 0.999, 0.999, 0.995, 0.962, 0.989, 0.994, 0.559, 0.963, 0.932, 0.997, 0.992, 0.0, 0.921, 0.994, 0.0, 0.987, 0.997, 0.999, 0.992, 0.9, 0.999, 0.996, 0.955, 0.982, 0.868, 0.999, 0.881, 0.982, 0.895, 0.0, 0.953, 0.932, 0.996, 0.998, 0.963, 0.981, 0.997, 0.0, 0.998, 0.001, 0.963, 0.932, 0.998, 0.881, 0.993, 0.996, 0.989, 0.922, 0.998, 0.996, 0.563, 0.999, 0.999, 0.766, 0.996, 0.999, 0.994, 0.978, 0.992, 0.999, 0.954, 0.997, 0.99, 0.955, 0.886, 0.997, 0.976, 0.999, 0.994, 0.97, 0.997, 0.992, 0.999, 0.997, 0.984, 0.999, 0.959, 0.073, 0.008, 0.483, 0.972, 0.772, 0.999, 0.999, 0.998, 0.997, 0.978, 0.999, 0.992, 0.997, 0.999, 0.999, 0.999, 0.97, 0.284, 0.995, 0.985, 0.973, 0.992, 0.999, 0.994, 0.378, 0.995, 0.767, 0.999, 0.927, 0.402, 0.987, 0.989, 0.999, 0.995, 0.82, 0.992, 0.915, 0.001, 0.958, 0.966, 0.988, 0.987, 0.987, 0.0, 0.993, 0.999, 0.1, 0.965, 0.979, 0.976, 0.997, 0.996, 0.995, 0.997, 0.08, 0.991, 0.994, 0.979, 0.956, 0.677, 0.868, 0.999, 0.976, 0.985, 0.997, 0.914, 0.995, 0.995, 0.996, 0.996, 0.877, 0.995, 0.999, 0.998, 0.999, 0.966, 0.997, 0.948, 0.895, 0.992, 0.99, 0.364, 0.999, 0.997, 0.998, 0.947, 0.974, 0.992, 0.997, 0.931, 0.741, 0.994, 0.947, 0.996, 0.994, 0.995, 0.146, 0.996, 0.998, 0.974, 0.905, 0.896, 0.975, 0.944, 0.997, 0.665, 0.989, 0.806, 0.995, 0.987, 0.872, 0.552, 0.334, 0.972, 0.956, 0.99, 0.971, 0.919, 0.979, 0.97, 0.984, 0.912, 0.96, 0.993, 0.999, 0.974, 0.996, 0.973, 0.927, 0.994, 0.955, 0.986, 0.975, 0.502, 0.993, 0.966, 0.995, 0.99, 0.997, 0.993, 0.994, 0.877, 0.98, 0.899, 0.996, 0.945, 0.949, 0.834, 0.989, 0.901, 0.969, 0.995, 0.996, 0.974, 0.998, 0.969, 0.985, 0.861, 0.971, 0.99, 0.982, 0.925, 0.998, 0.966, 0.0, 0.002, 0.999, 0.849, 0.844, 0.993, 0.943, 0.989, 0.966, 0.67, 0.999, 0.972, 0.999, 0.94, 0.995, 0.967, 0.998, 0.997, 0.996, 0.988, 0.993, 0.991, 0.997, 0.992, 0.996, 0.783, 0.947, 0.884, 0.998, 0.986, 0.993, 0.86, 0.995, 0.992, 0.985, 0.999, 0.999, 0.998, 0.997, 0.977, 0.998, 0.0, 0.808, 0.761, 0.982, 0.0, 0.636, 0.963, 0.927, 0.994, 0.99, 0.99, 0.999, 0.999, 0.998, 0.997, 0.991, 0.997, 0.988, 0.999, 0.999, 0.854, 0.984, 0.999, 0.916, 0.986, 0.971, 0.941, 0.999, 0.902, 0.998, 0.988, 0.0, 0.992, 0.94, 0.958, 0.0, 0.814, 0.904, 0.999, 0.999, 0.954, 0.848, 0.905, 0.997, 0.996, 0.976, 0.937, 0.999, 0.955, 0.968, 0.949, 0.994, 0.0, 0.991, 0.999, 0.981, 0.997, 0.985, 0.999, 0.771, 0.901, 0.965, 0.896, 0.0, 0.976, 0.941, 0.877, 0.476, 0.911]\n"
     ]
    },
    {
     "name": "stderr",
     "output_type": "stream",
     "text": [
      "\n"
     ]
    }
   ],
   "source": [
    "from adige import ArquivoCSV\n",
    "import time\n",
    "from tqdm import tqdm\n",
    "\n",
    "def analisar_exoplanetas():\n",
    "    \n",
    "    def sleep():\n",
    "        print('-------------------------- \\n ')\n",
    "        for i in tqdm(range(2)):\n",
    "            time.sleep(0.5)\n",
    "        print('-------------------------- \\n ')\n",
    "\n",
    "    csv = ArquivoCSV('./satelite.csv')\n",
    "\n",
    "    num = len(csv.extrair_coluna(0))\n",
    "    print(num, 'Kepler Exoplanet Search Results')\n",
    "\n",
    "    yon = csv.extrair_coluna(4)\n",
    "    conf = 0\n",
    "    no_confirmed = 0\n",
    "\n",
    "    for x in yon:\n",
    "        x = x.strip()\n",
    "        if x == 'CONFIRMED':\n",
    "            conf = conf + 1\n",
    "        else:\n",
    "            no_confirmed = no_confirmed + 1\n",
    "\n",
    "    percentuale = lambda x: (x * 100) / num\n",
    "\n",
    "    sleep()\n",
    "\n",
    "    print(round(percentuale(conf)), '%', 'Exoplanet confirmed', '->', conf)\n",
    "    print(round(percentuale(no_confirmed)), '%', 'Exoplanet no confirmed', '->', no_confirmed)\n",
    "\n",
    "# Agora você pode chamar a função assim:\n",
    "analisar_exoplanetas()\n",
    "\n",
    "def score():\n",
    "    from adige import ArquivoCSV\n",
    "    from functools import reduce\n",
    "\n",
    "    file = ArquivoCSV('./satelite.csv')\n",
    "    lista = file.extrair_coluna(6)\n",
    "    \n",
    "    # Media Score\n",
    "    lista_x = []\n",
    "    for x in lista:\n",
    "        if x != '':\n",
    "            x = float(x)\n",
    "            lista_x.append(x)\n",
    "    media_score = reduce(lambda x, y: x + y, lista_x) / len(lista_x)\n",
    "    print(f'Average score: {round(media_score, 2)}, 0 - 1')\n",
    "\n",
    "    # Scala di accettazione\n",
    "    lista_conf_score_x = []\n",
    "    with open(file='./satelite.csv', mode='r', encoding='utf-8') as fp:\n",
    "        line = fp.readline()\n",
    "        line = fp.readline()\n",
    "        while line:\n",
    "            line = line.strip().split(sep=',')\n",
    "            if line[4] == 'CONFIRMED':\n",
    "                lista_conf_score_x.append(line[6])\n",
    "                line = fp.readline()\n",
    "            else:\n",
    "                line = fp.readline()\n",
    "    #print(lista_conf_score_x)\n",
    "\n",
    "    lista_conf_score_x = [float(i) for i in lista_conf_score_x if i]\n",
    "    elementi_minori_di_1 = [i for i in lista_conf_score_x if i < 1.0000]\n",
    "    print(elementi_minori_di_1)\n",
    "\n",
    "score()"
   ]
  },
  {
   "cell_type": "markdown",
   "metadata": {},
   "source": [
    "### `Stars`"
   ]
  },
  {
   "cell_type": "markdown",
   "metadata": {},
   "source": [
    "##### Você já se perguntou qual cor de estrela tem a temperatura mais alta?"
   ]
  },
  {
   "cell_type": "markdown",
   "metadata": {},
   "source": [
    "Então, através deste algoritmo podemos entender que uma estrela que tem a `cor Azul brilha` mais enquanto as `Vermelhas brilham menos`"
   ]
  },
  {
   "cell_type": "code",
   "execution_count": 11,
   "metadata": {},
   "outputs": [
    {
     "name": "stdout",
     "output_type": "stream",
     "text": [
      "--------------------------\n",
      "240\n",
      "['white', 'yellowish', 'Whitish', 'Orange-Red', 'Yellowish White', 'Blue White', 'Pale yellow orange', 'White', 'Blue', 'yellow-white', 'White-Yellow', 'Red', 'Yellowish', 'Blue-white', 'Blue white', 'Blue-White', 'Orange']\n",
      "17\n",
      "['Red; 3068', 'Red; 3042', 'Red; 2600', 'Red; 2800', 'Red; 1939', 'Red; 2840', 'Red; 2637', 'Red; 2600', 'Red; 2650', 'Red; 2700', 'Red; 3600', 'Red; 3129', 'Red; 3134', 'Red; 3628', 'Red; 2650', 'Red; 3340', 'Red; 2799', 'Red; 3692', 'Red; 3192', 'Red; 3441', 'Blue White; 25000', 'White; 7740', 'White; 7220', 'White; 8500', 'Blue White; 16500', 'Yellowish White; 12990', 'Blue white; 8570', 'Yellowish White; 7700', 'Yellowish White; 11790', 'Pale yellow orange; 7230', 'Blue; 39000', 'Blue-white; 30000', 'Blue-white; 15276', 'Whitish; 9700', 'yellow-white; 5800', 'Whitish; 8052', 'yellow-white; 6757', 'yellow-white; 6380', 'yellow-white; 5936', 'yellow-white; 5587', 'Red; 3826', 'Red; 3365', 'Red; 3270', 'Red; 3200', 'Red; 3008', 'Red; 3600', 'Red; 3575', 'Red; 3574', 'Red; 3625', 'Blue; 33750', 'Red; 3490', 'Red; 3750', 'Red; 3834', 'Orange; 3749', 'Red; 3650', 'Red; 3450', 'Red; 3660', 'Red; 3450', 'Red; 3752', 'Red; 3535', 'Red; 3341', 'Red; 3432', 'Red; 2983', 'Red; 2835', 'Red; 2935', 'Red; 3295', 'Red; 2945', 'Red; 2817', 'Red; 2774', 'Red; 2871', 'Red; 3345', 'Red; 3607', 'Red; 3304', 'Red; 3150', 'Red; 3550', 'Red; 3180', 'Red; 2890', 'Red; 3342', 'Red; 2621', 'Red; 3158', 'White-Yellow; 7100', 'White; 10574', 'white; 8930', 'Blue White; 17200', 'Blue White; 14100', 'Blue White; 9675', 'Blue White; 12010', 'Blue White; 10980', 'white; 13720', 'Blue; 19860', 'yellow-white; 5300', 'yellowish; 4526', 'yellowish; 4077', 'Yellowish; 4980', 'Blue-white; 9030', 'Blue-white; 11250', 'Orange-Red; 5112', 'yellow-white; 7720', 'Blue-white; 12098', 'Blue; 36108', 'Blue; 33300', 'Blue; 40000', 'Blue; 23000', 'Blue; 17120', 'Blue; 11096', 'Blue; 14245', 'Blue; 24630', 'Blue; 12893', 'Blue; 24345', 'Blue; 33421', 'Red; 3459', 'Red; 3605', 'Red; 3615', 'Red; 3399', 'Red; 3610', 'Red; 3553', 'Red; 4015', 'Red; 3625', 'Red; 6850', 'Red; 3780', 'Red; 3323', 'Red; 3531', 'Red; 3218', 'Red; 3146', 'Red; 3511', 'Red; 3225', 'Red; 2935', 'Red; 2861', 'Red; 2856', 'Red; 2731', 'Red; 3095', 'Red; 3607', 'Red; 3100', 'Red; 2989', 'Red; 3542', 'Red; 3243', 'Red; 3091', 'Red; 3598', 'Red; 3324', 'Red; 3541', 'Blue White; 13420', 'Blue; 21020', 'Blue; 18290', 'Blue White; 14520', 'Blue white; 11900', 'Blue white; 8924', 'Blue white; 12912', 'white; 14732', 'White; 7723', 'Blue White; 12984', 'Blue-white; 29560', 'Blue-White; 8945', 'Blue-white; 14060', 'Blue-white; 16390', 'Blue-white; 25070', 'Blue-white; 28700', 'Blue-white; 26140', 'Blue-white; 20120', 'Blue-white; 13023', 'Blue; 37800', 'Blue; 25390', 'Blue; 11567', 'Blue; 12675', 'Blue; 5752', 'Blue; 8927', 'Blue; 7282', 'Blue; 19923', 'Blue; 26373', 'Blue; 17383', 'Blue; 9373', 'Red; 3570', 'Red; 3500', 'Orange; 4287', 'Blue; 26000', 'Red; 3600', 'Red; 3614', 'Blue; 18000', 'Blue-white; 11000', 'Blue-white; 12100', 'Blue-white; 24490', 'Red; 2831', 'Red; 2914', 'Red; 3419', 'Red; 3218', 'Red; 3453', 'Red; 2889', 'Red; 2968', 'Red; 3484', 'Red; 2778', 'Red; 3523', 'Red; 3462', 'Red; 3257', 'Red; 2994', 'Red; 3212', 'Red; 3523', 'Red; 3598', 'Red; 3142', 'Red; 3496', 'Red; 3324', 'Red; 3463', 'Blue; 16790', 'Blue; 15680', 'Blue; 14982', 'Blue; 13340', 'Blue; 18340', 'Blue; 19920', 'Blue; 24020', 'Blue; 23092', 'Blue; 17920', 'Blue; 19360', 'Blue-white; 22350', 'Blue-white; 10012', 'Blue-white; 13089', 'Blue-white; 22012', 'Blue; 34190', 'Blue; 32460', 'Blue-white; 9320', 'Blue-white; 19400', 'Blue-white; 17140', 'yellow-white; 8250', 'Blue; 23678', 'Blue; 12749', 'Blue; 9383', 'Blue; 23440', 'Blue; 16787', 'Blue; 18734', 'Blue; 9892', 'Blue; 10930', 'Blue; 23095', 'Blue; 21738', 'Blue-white; 24145', 'Blue; 38234', 'Blue; 32489', 'Blue-white; 27739', 'Blue-white; 21904', 'Blue; 38940', 'Blue; 30839', 'White; 8829', 'White; 9235', 'Blue; 37882']\n",
      "-------------------------- \n",
      " \n",
      "La media per Red è 3292\n",
      "La media per Blue White è 14639\n",
      "La media per White è 8546\n",
      "La media per Yellowish White è 10827\n",
      "La media per Blue white è 10576\n",
      "La media per Pale yellow orange è 7230\n",
      "La media per Blue è 21918\n",
      "La media per Blue-white è 18670\n",
      "La media per Whitish è 8876\n",
      "La media per yellow-white è 6466\n",
      "La media per Orange è 4018\n",
      "La media per White-Yellow è 7100\n",
      "La media per white è 12461\n",
      "La media per yellowish è 4302\n",
      "La media per Yellowish è 4980\n",
      "La media per Orange-Red è 5112\n",
      "La media per Blue-White è 8945\n"
     ]
    }
   ],
   "source": [
    "csv_nome = './Stars.csv'\n",
    "# Total de linhas\n",
    "from adige import ArquivoCSV\n",
    "csv = ArquivoCSV(csv_nome)\n",
    "print('--------------------------')\n",
    "print(len(csv.extrair_coluna(0)))\n",
    "\n",
    "# Category of Stars\n",
    "from adige import limp\n",
    "catg = csv.extrair_coluna(4)\n",
    "catg = limp(catg)\n",
    "print(catg)\n",
    "print(len(catg))\n",
    "\n",
    "def cat_val(cat:int, val:int) -> list:\n",
    "    lista = []\n",
    "    with open(file=csv_nome, mode='r', encoding='utf-8') as fp:\n",
    "        line = fp.readline()\n",
    "        line = fp.readline()\n",
    "        while line:\n",
    "            line = line.split(sep=',')\n",
    "            p1 = line[cat]\n",
    "            p2 = line[val]\n",
    "            lista_x = p1 + '; ' + p2\n",
    "            lista.append(lista_x)\n",
    "            line = fp.readline()\n",
    "    return lista\n",
    "\n",
    "todos = cat_val(4, 0)\n",
    "print(todos)\n",
    "print('-------------------------- \\n ')\n",
    "\n",
    "# I tuoi dati\n",
    "data_str = todos\n",
    "\n",
    "# Elabora ogni stringa per creare una tupla e aggiungila a una nuova lista\n",
    "data = []\n",
    "for elemento in data_str:\n",
    "    colore, temperatura = elemento.split(\"; \")\n",
    "    data.append((colore.strip(), int(temperatura)))\n",
    "\n",
    "# Creiamo un dizionario per sommare le temperature e contare le occorrenze di ciascun colore\n",
    "somme = {}\n",
    "conteggi = {}\n",
    "\n",
    "for colore, temperatura in data:\n",
    "    if colore not in somme:\n",
    "        somme[colore] = 0\n",
    "        conteggi[colore] = 0\n",
    "    somme[colore] += temperatura\n",
    "    conteggi[colore] += 1\n",
    "\n",
    "# Calcoliamo la media per ciascun colore\n",
    "medie = {colore: somma / conteggi[colore] for colore, somma in somme.items()}\n",
    "\n",
    "cor_temperatura = []\n",
    "# Stampiamo le medie\n",
    "for colore, media in medie.items():\n",
    "    media = round(media)\n",
    "    print(f'La media per {colore} è {media}')\n",
    "    linha = str(colore) + ';' + str(media)\n",
    "    cor_temperatura.append(linha)\n"
   ]
  },
  {
   "cell_type": "code",
   "execution_count": 14,
   "metadata": {},
   "outputs": [
    {
     "name": "stdout",
     "output_type": "stream",
     "text": [
      "-------------------------- \n",
      " \n",
      "1°  Blue  --> Average temperature 21918 K\n",
      "2°  Blue-white  --> Average temperature 18670 K\n",
      "3°  Blue White  --> Average temperature 14639 K\n",
      "4°  white  --> Average temperature 12461 K\n",
      "5°  Yellowish White  --> Average temperature 10827 K\n",
      "6°  Blue white  --> Average temperature 10576 K\n",
      "7°  Blue-White  --> Average temperature 8945 K\n",
      "8°  Whitish  --> Average temperature 8876 K\n",
      "9°  White  --> Average temperature 8546 K\n",
      "10°  Pale yellow orange  --> Average temperature 7230 K\n",
      "11°  White-Yellow  --> Average temperature 7100 K\n",
      "12°  yellow-white  --> Average temperature 6466 K\n",
      "13°  Orange-Red  --> Average temperature 5112 K\n",
      "14°  Yellowish  --> Average temperature 4980 K\n",
      "15°  yellowish  --> Average temperature 4302 K\n",
      "16°  Orange  --> Average temperature 4018 K\n",
      "17°  Red  --> Average temperature 3292 K\n"
     ]
    }
   ],
   "source": [
    "import pandas as pd\n",
    "\n",
    "from adige import limp_csv\n",
    "limp_csv('./base.csv')\n",
    "\n",
    "import csv\n",
    "# Abra o arquivo em modo de escrita ('w')\n",
    "with open('./base.csv', 'w', newline='') as file:\n",
    "    writer = csv.writer(file)\n",
    "    # Escreva o cabeçalho\n",
    "    writer.writerow(['Color', 'Temperature'])\n",
    "\n",
    "from adige import ArquivoCSV\n",
    "csv = ArquivoCSV('./Stars.csv')\n",
    "catg = csv.extrair_coluna(4)\n",
    "\n",
    "data = []\n",
    "with open(file='./base.csv', mode='a', encoding='utf8') as fp:\n",
    "  for x in cor_temperatura:\n",
    "    x = x.split(sep=';')\n",
    "    linha = str(x[0]) + ',' + str(x[1]) + '\\n'\n",
    "    fp.write(linha)\n",
    "    data.append(linha.strip())\n",
    "\n",
    "# Ordina i dati in base alla temperatura (dal più alto al più basso)\n",
    "data.sort(key=lambda x: int(x.split(',')[1]), reverse=True)\n",
    "\n",
    "def smistando(data:list):\n",
    "   ordem = 0\n",
    "   print('-------------------------- \\n ')\n",
    "   for x in data:\n",
    "      x = x.strip().split(sep=',')\n",
    "      ordem = ordem + 1\n",
    "      print(f'{ordem}°  {x[0]}  --> Average temperature {x[1]} K')\n",
    "smistando(data)\n"
   ]
  }
 ],
 "metadata": {
  "kernelspec": {
   "display_name": "Python 3",
   "language": "python",
   "name": "python3"
  },
  "language_info": {
   "codemirror_mode": {
    "name": "ipython",
    "version": 3
   },
   "file_extension": ".py",
   "mimetype": "text/x-python",
   "name": "python",
   "nbconvert_exporter": "python",
   "pygments_lexer": "ipython3",
   "version": "3.11.5"
  }
 },
 "nbformat": 4,
 "nbformat_minor": 2
}
