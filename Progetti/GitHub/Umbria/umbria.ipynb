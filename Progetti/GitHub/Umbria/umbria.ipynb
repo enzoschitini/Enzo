{
 "cells": [
  {
   "cell_type": "markdown",
   "metadata": {},
   "source": [
    "<img src=\"image/Capa.png\" alt=\"ebac-logo\">\n",
    "\n",
    "---\n",
    "\n",
    "# **Umbria** | Python: Behavior of CO2 emissions in the planet's atmosphere\n",
    "Caderno de **Programa**<br> \n",
    "Desenvolvedor [Enzo Schitini](https://enzo-schitini.bubbleapps.io/version-test/)\n",
    "\n",
    "---"
   ]
  },
  {
   "cell_type": "code",
   "execution_count": 109,
   "metadata": {},
   "outputs": [
    {
     "name": "stdout",
     "output_type": "stream",
     "text": [
      ",Country,Energy_type,Year,Energy_consumption,Energy_production,GDP,Population,Energy_intensity_per_capita,Energy_intensity_by_GDP,CO2_emission\n",
      "\n"
     ]
    }
   ],
   "source": [
    "csv_base = './Paesi_Emissioni_di_CO2.csv'\n",
    "csv_dati = './base.csv'\n",
    "\n",
    "# Le intestazioni\n",
    "from adige import ArquivoCSV\n",
    "csv = ArquivoCSV(csv_base)\n",
    "intestazioni = (csv._extrair_conteudo())[0]\n",
    "print(intestazioni)"
   ]
  },
  {
   "cell_type": "markdown",
   "metadata": {},
   "source": [
    "### `Pulizia dei dati`"
   ]
  },
  {
   "cell_type": "code",
   "execution_count": 110,
   "metadata": {},
   "outputs": [
    {
     "name": "stdout",
     "output_type": "stream",
     "text": [
      "Totale di righe dell'archivio csv_base: 45.966\n"
     ]
    }
   ],
   "source": [
    "nuovi = []\n",
    "with open(file=csv_base, mode='r', encoding='utf8') as fp:\n",
    "    line = fp.readline()\n",
    "    line = fp.readline()\n",
    "    while line:\n",
    "        list(line)\n",
    "        ultimo = line.split(',')[7]\n",
    "        if ultimo != '':\n",
    "            nuovi.append(line)\n",
    "            line = fp.readline()\n",
    "        else:\n",
    "            line = fp.readline()\n",
    "            \n",
    "from adige import limp_csv\n",
    "limp_csv(csv_base)\n",
    "#intestazioni = ',Country,Energy_type,Year,Energy_consumption,Energy_production,GDP,Population,Energy_intensity_per_capita,Energy_intensity_by_GDP,CO2_emission'\n",
    "with open(file=csv_base, mode='a', encoding='utf8') as fp:\n",
    "    fp.write(intestazioni)\n",
    "    for x in nuovi:\n",
    "        fp.write(x)\n",
    "\n",
    "def valore_abbreviato(valore:str) -> str:\n",
    "    alg_valore = list(valore)\n",
    "    num_punt = sum(map(lambda x: x == '.', valore))\n",
    "    for x in range(num_punt):\n",
    "     alg_valore.remove('.')\n",
    "    numero = int(\"\".join(alg_valore))\n",
    "    numero_format = \"{:,}\".format(numero).replace(\",\", \".\")\n",
    "    return numero_format\n",
    "\n",
    "from adige import ArquivoCSV\n",
    "csv = ArquivoCSV(csv_base)\n",
    "totale = valore_abbreviato(str(len(csv.extrair_coluna(0))))\n",
    "print(f\"Totale di righe dell'archivio csv_base: {totale}\")"
   ]
  },
  {
   "cell_type": "markdown",
   "metadata": {},
   "source": [
    "### `Su i dati`"
   ]
  },
  {
   "cell_type": "code",
   "execution_count": 111,
   "metadata": {},
   "outputs": [
    {
     "name": "stdout",
     "output_type": "stream",
     "text": [
      "I dati vanno dal 1980 fino a 2019 in un periodo di 39 anni.\n"
     ]
    }
   ],
   "source": [
    "# Gli anni\n",
    "\n",
    "def gli_anni(archivio:str):\n",
    "    anni = []\n",
    "    with open(file=archivio, mode='r', encoding='utf8') as fp:\n",
    "        line = fp.readline()\n",
    "        line = fp.readline()\n",
    "        while line:\n",
    "            list(line)\n",
    "            anno = line.split(',')[3]\n",
    "            anni.append(anno)\n",
    "            line = fp.readline()\n",
    "    return anni\n",
    "\n",
    "lista_anni = gli_anni(csv_base)\n",
    "lista_anni_pulita = []\n",
    "for x in lista_anni:\n",
    "    totale = len(list(x))\n",
    "    if (totale == 4) & (x != 'coal'):\n",
    "        x = int(x)\n",
    "        lista_anni_pulita.append(x)\n",
    "\n",
    "print(f'I dati vanno dal {min(lista_anni_pulita)} fino a {max(lista_anni_pulita)} in un periodo di {(max(lista_anni_pulita)) - (min(lista_anni_pulita))} anni.')"
   ]
  },
  {
   "cell_type": "code",
   "execution_count": 112,
   "metadata": {},
   "outputs": [
    {
     "name": "stdout",
     "output_type": "stream",
     "text": [
      "Ci sono: 204 \n",
      "\n",
      "1 Chad\n",
      "2 Sierra Leone\n",
      "3 Burundi\n",
      "4 Solomon Islands\n",
      "5 Hungary\n",
      "6 Vanuatu\n",
      "7 Uzbekistan\n",
      "8 Brazil\n",
      "9 Hong Kong\n",
      "10 Botswana\n",
      "11 Thailand\n",
      "12 Guatemala\n",
      "13 Bolivia\n",
      "14 Qatar\n",
      "15 Samoa\n",
      "16 Senegal\n",
      "17 Laos\n",
      "18 Czech Republic\n",
      "19 Switzerland\n",
      "20 United Kingdom\n",
      "21 Spain\n",
      "22 Saint Vincent/Grenadines\n",
      "23 Armenia\n",
      "24 Togo\n",
      "25 Peru\n",
      "26 Italy\n",
      "27 Niger\n",
      "28 Sudan\n",
      "29 Bulgaria\n",
      "30 Gabon\n",
      "31 Belarus\n",
      "32 Japan\n",
      "33 British Virgin Islands\n",
      "34 Dominican Republic\n",
      "35 Austria\n",
      "36 Morocco\n",
      "37 Congo-Kinshasa\n",
      "38 Estonia\n",
      "39 Martinique\n",
      "40 Lebanon\n",
      "41 Pakistan\n",
      "42 Namibia\n",
      "43 Mali\n",
      "44 Tanzania\n",
      "45 Greenland\n",
      "46 Cayman Islands\n",
      "47 Mozambique\n",
      "48 Guyana\n",
      "49 Nigeria\n",
      "50 Mexico\n",
      "51 Seychelles\n",
      "52 Nepal\n",
      "53 Kyrgyzstan\n",
      "54 Bhutan\n",
      "55 Sweden\n",
      "56 Grenada\n",
      "57 Russia\n",
      "58 Rwanda\n",
      "59 South Korea\n",
      "60 Ukraine\n",
      "61 Bermuda\n",
      "62 Georgia\n",
      "63 Montenegro\n",
      "64 Lesotho\n",
      "65 Denmark\n",
      "66 Barbados\n",
      "67 Iceland\n",
      "68 Portugal\n",
      "69 Saint Lucia\n",
      "70 United States\n",
      "71 New Zealand\n",
      "72 Kuwait\n",
      "73 North Korea\n",
      "74 Reunion\n",
      "75 Cameroon\n",
      "76 Comoros\n",
      "77 Philippines\n",
      "78 Liberia\n",
      "79 Eritrea\n",
      "80 \"Gambia\n",
      "81 Congo-Brazzaville\n",
      "82 Mauritania\n",
      "83 Madagascar\n",
      "84 Lithuania\n",
      "85 Northern Mariana Islands\n",
      "86 Oman\n",
      "87 Zimbabwe\n",
      "88 Equatorial Guinea\n",
      "89 Benin\n",
      "90 Honduras\n",
      "91 Malta\n",
      "92 Kazakhstan\n",
      "93 North Macedonia\n",
      "94 Argentina\n",
      "95 Haiti\n",
      "96 Panama\n",
      "97 Latvia\n",
      "98 Bahrain\n",
      "99 Puerto Rico\n",
      "100 Algeria\n",
      "101 Australia\n",
      "102 Malaysia\n",
      "103 Azerbaijan\n",
      "104 Uganda\n",
      "105 Sao Tome and Principe\n",
      "106 Guam\n",
      "107 World\n",
      "108 Albania\n",
      "109 Ecuador\n",
      "110 Kiribati\n",
      "111 Angola\n",
      "112 Singapore\n",
      "113 Egypt\n",
      "114 Romania\n",
      "115 Saudi Arabia\n",
      "116 Somalia\n",
      "117 Cyprus\n",
      "118 Uruguay\n",
      "119 Mongolia\n",
      "120 The Bahamas\n",
      "121 China\n",
      "122 Fiji\n",
      "123 Guadeloupe\n",
      "124 Dominica\n",
      "125 Cambodia\n",
      "126 Trinidad and Tobago\n",
      "127 Burkina Faso\n",
      "128 Turkey\n",
      "129 Slovakia\n",
      "130 Greece\n",
      "131 Kosovo\n",
      "132 Cuba\n",
      "133 Sri Lanka\n",
      "134 Yemen\n",
      "135 Costa Rica\n",
      "136 Jamaica\n",
      "137 Suriname\n",
      "138 Syria\n",
      "139 Iraq\n",
      "140 South Africa\n",
      "141 Germany\n",
      "142 Colombia\n",
      "143 Guinea-Bissau\n",
      "144 Tonga\n",
      "145 Côte d’Ivoire\n",
      "146 Venezuela\n",
      "147 Central African Republic\n",
      "148 United Arab Emirates\n",
      "149 Maldives\n",
      "150 Eswatini\n",
      "151 Aruba\n",
      "152 Nicaragua\n",
      "153 Mauritius\n",
      "154 India\n",
      "155 Finland\n",
      "156 Zambia\n",
      "157 Afghanistan\n",
      "158 Jordan\n",
      "159 Tajikistan\n",
      "160 Paraguay\n",
      "161 Indonesia\n",
      "162 Croatia\n",
      "163 Bangladesh\n",
      "164 Palestinian Territories\n",
      "165 American Samoa\n",
      "166 Chile\n",
      "167 Luxembourg\n",
      "168 Canada\n",
      "169 Netherlands Antilles\n",
      "170 Vietnam\n",
      "171 Serbia\n",
      "172 Saint Kitts and Nevis\n",
      "173 Cabo Verde\n",
      "174 Libya\n",
      "175 Djibouti\n",
      "176 Poland\n",
      "177 Belize\n",
      "178 France\n",
      "179 Norway\n",
      "180 El Salvador\n",
      "181 Moldova\n",
      "182 Ethiopia\n",
      "183 Belgium\n",
      "184 U.S. Virgin Islands\n",
      "185 Guinea\n",
      "186 Ireland\n",
      "187 Macau\n",
      "188 Bosnia and Herzegovina\n",
      "189 Slovenia\n",
      "190 Turkmenistan\n",
      "191 Ghana\n",
      "192 Timor-Leste\n",
      "193 Kenya\n",
      "194 Taiwan\n",
      "195 Tunisia\n",
      "196 Antigua and Barbuda\n",
      "197 Malawi\n",
      "198 South Sudan\n",
      "199 Israel\n",
      "200 Iran\n",
      "201 Papua New Guinea\n",
      "202 Brunei\n",
      "203 Burma\n",
      "204 Netherlands\n",
      "['Chad', 'Sierra Leone', 'Burundi', 'Solomon Islands', 'Hungary', 'Vanuatu', 'Uzbekistan', 'Brazil', 'Hong Kong', 'Botswana', 'Thailand', 'Guatemala', 'Bolivia', 'Qatar', 'Samoa', 'Senegal', 'Laos', 'Czech Republic', 'Switzerland', 'United Kingdom', 'Spain', 'Saint Vincent/Grenadines', 'Armenia', 'Togo', 'Peru', 'Italy', 'Niger', 'Sudan', 'Bulgaria', 'Gabon', 'Belarus', 'Japan', 'British Virgin Islands', 'Dominican Republic', 'Austria', 'Morocco', 'Congo-Kinshasa', 'Estonia', 'Martinique', 'Lebanon', 'Pakistan', 'Namibia', 'Mali', 'Tanzania', 'Greenland', 'Cayman Islands', 'Mozambique', 'Guyana', 'Nigeria', 'Mexico', 'Seychelles', 'Nepal', 'Kyrgyzstan', 'Bhutan', 'Sweden', 'Grenada', 'Russia', 'Rwanda', 'South Korea', 'Ukraine', 'Bermuda', 'Georgia', 'Montenegro', 'Lesotho', 'Denmark', 'Barbados', 'Iceland', 'Portugal', 'Saint Lucia', 'United States', 'New Zealand', 'Kuwait', 'North Korea', 'Reunion', 'Cameroon', 'Comoros', 'Philippines', 'Liberia', 'Eritrea', '\"Gambia', 'Congo-Brazzaville', 'Mauritania', 'Madagascar', 'Lithuania', 'Northern Mariana Islands', 'Oman', 'Zimbabwe', 'Equatorial Guinea', 'Benin', 'Honduras', 'Malta', 'Kazakhstan', 'North Macedonia', 'Argentina', 'Haiti', 'Panama', 'Latvia', 'Bahrain', 'Puerto Rico', 'Algeria', 'Australia', 'Malaysia', 'Azerbaijan', 'Uganda', 'Sao Tome and Principe', 'Guam', 'World', 'Albania', 'Ecuador', 'Kiribati', 'Angola', 'Singapore', 'Egypt', 'Romania', 'Saudi Arabia', 'Somalia', 'Cyprus', 'Uruguay', 'Mongolia', 'The Bahamas', 'China', 'Fiji', 'Guadeloupe', 'Dominica', 'Cambodia', 'Trinidad and Tobago', 'Burkina Faso', 'Turkey', 'Slovakia', 'Greece', 'Kosovo', 'Cuba', 'Sri Lanka', 'Yemen', 'Costa Rica', 'Jamaica', 'Suriname', 'Syria', 'Iraq', 'South Africa', 'Germany', 'Colombia', 'Guinea-Bissau', 'Tonga', 'Côte d’Ivoire', 'Venezuela', 'Central African Republic', 'United Arab Emirates', 'Maldives', 'Eswatini', 'Aruba', 'Nicaragua', 'Mauritius', 'India', 'Finland', 'Zambia', 'Afghanistan', 'Jordan', 'Tajikistan', 'Paraguay', 'Indonesia', 'Croatia', 'Bangladesh', 'Palestinian Territories', 'American Samoa', 'Chile', 'Luxembourg', 'Canada', 'Netherlands Antilles', 'Vietnam', 'Serbia', 'Saint Kitts and Nevis', 'Cabo Verde', 'Libya', 'Djibouti', 'Poland', 'Belize', 'France', 'Norway', 'El Salvador', 'Moldova', 'Ethiopia', 'Belgium', 'U.S. Virgin Islands', 'Guinea', 'Ireland', 'Macau', 'Bosnia and Herzegovina', 'Slovenia', 'Turkmenistan', 'Ghana', 'Timor-Leste', 'Kenya', 'Taiwan', 'Tunisia', 'Antigua and Barbuda', 'Malawi', 'South Sudan', 'Israel', 'Iran', 'Papua New Guinea', 'Brunei', 'Burma', 'Netherlands']\n"
     ]
    }
   ],
   "source": [
    "def quanti_ci_sono(archivio:str, colonna:int, lista:int):\n",
    "    from adige import ArquivoCSV\n",
    "    csv = ArquivoCSV(archivio)\n",
    "    oggetto = csv.extrair_coluna(colonna)\n",
    "    oggetto = list(set(oggetto))\n",
    "    if lista == 1:\n",
    "      ordine = 0\n",
    "      print(f'Ci sono: {len(oggetto)} \\n')\n",
    "      for x in oggetto:\n",
    "        ordine += 1\n",
    "        print(f'{ordine} {x}')\n",
    "    else:\n",
    "      return oggetto\n",
    "\n",
    "quanti_ci_sono(csv_base, 1, 1)\n",
    "paesi = quanti_ci_sono(csv_base, 1, 0)\n",
    "print(paesi)"
   ]
  },
  {
   "cell_type": "code",
   "execution_count": 113,
   "metadata": {},
   "outputs": [
    {
     "name": "stdout",
     "output_type": "stream",
     "text": [
      "['Chad', 'Sierra Leone', 'Burundi', 'Solomon Islands', 'Hungary', 'Vanuatu', 'Uzbekistan', 'Brazil', 'Hong Kong', 'Botswana', 'Thailand', 'Guatemala', 'Bolivia', 'Qatar', 'Samoa', 'Senegal', 'Laos', 'Czech Republic', 'Switzerland', 'United Kingdom', 'Spain', 'Saint Vincent/Grenadines', 'Armenia', 'Togo', 'Peru', 'Italy', 'Niger', 'Sudan', 'Bulgaria', 'Gabon', 'Belarus', 'Japan', 'British Virgin Islands', 'Dominican Republic', 'Austria', 'Morocco', 'Congo-Kinshasa', 'Estonia', 'Martinique', 'Lebanon', 'Pakistan', 'Namibia', 'Mali', 'Tanzania', 'Greenland', 'Cayman Islands', 'Mozambique', 'Guyana', 'Nigeria', 'Mexico', 'Seychelles', 'Nepal', 'Kyrgyzstan', 'Bhutan', 'Sweden', 'Grenada', 'Russia', 'Rwanda', 'South Korea', 'Ukraine', 'Bermuda', 'Georgia', 'Montenegro', 'Lesotho', 'Denmark', 'Barbados', 'Iceland', 'Portugal', 'Saint Lucia', 'United States', 'New Zealand', 'Kuwait', 'North Korea', 'Reunion', 'Cameroon', 'Comoros', 'Philippines', 'Liberia', 'Eritrea', '\"Gambia', 'Congo-Brazzaville', 'Mauritania', 'Madagascar', 'Lithuania', 'Northern Mariana Islands', 'Oman', 'Zimbabwe', 'Equatorial Guinea', 'Benin', 'Honduras', 'Malta', 'Kazakhstan', 'North Macedonia', 'Argentina', 'Haiti', 'Panama', 'Latvia', 'Bahrain', 'Puerto Rico', 'Algeria', 'Australia', 'Malaysia', 'Azerbaijan', 'Uganda', 'Sao Tome and Principe', 'Guam', 'Albania', 'Ecuador', 'Kiribati', 'Angola', 'Singapore', 'Egypt', 'Romania', 'Saudi Arabia', 'Somalia', 'Cyprus', 'Uruguay', 'Mongolia', 'The Bahamas', 'China', 'Fiji', 'Guadeloupe', 'Dominica', 'Cambodia', 'Trinidad and Tobago', 'Burkina Faso', 'Turkey', 'Slovakia', 'Greece', 'Kosovo', 'Cuba', 'Sri Lanka', 'Yemen', 'Costa Rica', 'Jamaica', 'Suriname', 'Syria', 'Iraq', 'South Africa', 'Germany', 'Colombia', 'Guinea-Bissau', 'Tonga', 'Côte d’Ivoire', 'Venezuela', 'Central African Republic', 'United Arab Emirates', 'Maldives', 'Eswatini', 'Aruba', 'Nicaragua', 'Mauritius', 'India', 'Finland', 'Zambia', 'Afghanistan', 'Jordan', 'Tajikistan', 'Paraguay', 'Indonesia', 'Croatia', 'Bangladesh', 'Palestinian Territories', 'American Samoa', 'Chile', 'Luxembourg', 'Canada', 'Netherlands Antilles', 'Vietnam', 'Serbia', 'Saint Kitts and Nevis', 'Cabo Verde', 'Libya', 'Djibouti', 'Poland', 'Belize', 'France', 'Norway', 'El Salvador', 'Moldova', 'Ethiopia', 'Belgium', 'U.S. Virgin Islands', 'Guinea', 'Ireland', 'Macau', 'Bosnia and Herzegovina', 'Slovenia', 'Turkmenistan', 'Ghana', 'Timor-Leste', 'Kenya', 'Taiwan', 'Tunisia', 'Antigua and Barbuda', 'Malawi', 'South Sudan', 'Israel', 'Iran', 'Papua New Guinea', 'Brunei', 'Burma', 'Netherlands']\n"
     ]
    }
   ],
   "source": [
    "# Raccolta dei paesi senza i dati del mondo\n",
    "paesi = quanti_ci_sono(csv_base, 1, 0)\n",
    "paesi_puliti = []\n",
    "for paese in paesi:\n",
    "    if paese != 'World':\n",
    "        paesi_puliti.append(paese)\n",
    "print(paesi_puliti)"
   ]
  },
  {
   "cell_type": "code",
   "execution_count": 114,
   "metadata": {},
   "outputs": [
    {
     "name": "stdout",
     "output_type": "stream",
     "text": [
      "L'elemento 'mela' si ripete 3 volte nella lista.\n",
      "L'elemento 'mela' si ripete 3 volte nella lista.\n",
      "L'elemento 'mela' si ripete 3 volte nella lista.\n"
     ]
    }
   ],
   "source": [
    "# Come misurare quante volte si ripete un elemento in una lista\n",
    "lista = ['mela', 'banana', 'mela', 'arancia', 'mela', 'banana']\n",
    "conteggi = []\n",
    "\n",
    "for x in lista:\n",
    "    conteggio = lista.count(x)\n",
    "    conteggi.append(conteggio)\n",
    "    #print(f\"L'elemento '{x}' si ripete {conteggio} volte nella lista.\")\n",
    "\n",
    "for x in lista:\n",
    "    conteggio = lista.count(x)\n",
    "    if conteggio == max(conteggi):\n",
    "     print(f\"L'elemento '{x}' si ripete {conteggio} volte nella lista.\")"
   ]
  },
  {
   "cell_type": "code",
   "execution_count": 115,
   "metadata": {},
   "outputs": [
    {
     "name": "stdout",
     "output_type": "stream",
     "text": [
      "['natural_gas', 'petroleum_n_other_liquids', 'coal', 'all_energy_types', 'renewables_n_other', 'The', 'nuclear']\n"
     ]
    }
   ],
   "source": [
    "# Classifica delle energie\n",
    "\n",
    "from adige import ArquivoCSV\n",
    "csv = ArquivoCSV(csv_base)\n",
    "\n",
    "types = csv.extrair_coluna(2)\n",
    "types = list(set(types))\n",
    "nt = []\n",
    "for x in types:\n",
    "    x = x.strip()\n",
    "    x = x.replace('\"', '')\n",
    "    nt.append(x)\n",
    "types = nt\n",
    "print(types)"
   ]
  },
  {
   "cell_type": "markdown",
   "metadata": {},
   "source": [
    "### `Prelevando dati globali`"
   ]
  },
  {
   "cell_type": "code",
   "execution_count": 116,
   "metadata": {},
   "outputs": [
    {
     "name": "stdout",
     "output_type": "stream",
     "text": [
      "204\n"
     ]
    }
   ],
   "source": [
    "print(len(quanti_ci_sono(csv_base, 1, 0)))"
   ]
  },
  {
   "cell_type": "code",
   "execution_count": 117,
   "metadata": {},
   "outputs": [
    {
     "name": "stdout",
     "output_type": "stream",
     "text": [
      "87.16\n"
     ]
    }
   ],
   "source": [
    "# Energy Consumption - Quantità di consumo per la specifica fonte di energia, misurata (quad BtuO\n",
    "def energy_consumption(archivio:str, colonna:int, numeri_dopo:int):\n",
    "    from adige import ArquivoCSV\n",
    "    from functools import reduce\n",
    "\n",
    "    energy_consumption = ArquivoCSV(archivio).extrair_coluna(colonna) # Prende la lista\n",
    "    energy_consumption = list(filter(None, energy_consumption)) # Rimuovere gli spazi vuoti\n",
    "    energy_consumption = list(map(float, energy_consumption)) # Trasforma tutto in Float\n",
    "    somma = reduce(lambda x, y: x + y, energy_consumption)\n",
    "    media = reduce(lambda x, y: x + y, energy_consumption) / len(energy_consumption) # Si calcola la mendia\n",
    "    #print(f'Media Energy_Consumption: {round(media, numeri_dopo)} (quad Btu)')\n",
    "    return round(media, numeri_dopo), round(somma)\n",
    "\n",
    "print(energy_consumption(csv_base, -1, 2)[0])"
   ]
  },
  {
   "cell_type": "code",
   "execution_count": 122,
   "metadata": {},
   "outputs": [
    {
     "name": "stdout",
     "output_type": "stream",
     "text": [
      "La velocità di emissione è: 100.766 miliardi di tonnellate di Co2 ad ogni anno.\n"
     ]
    }
   ],
   "source": [
    "# Tassa della crescita dell'emissione di Co2\n",
    "\n",
    "from adige import ArquivoCSV\n",
    "\n",
    "durata = (max(lista_anni_pulita)) - (min(lista_anni_pulita))\n",
    "emissione = energy_consumption(csv_base, -1, 0)[1]\n",
    "velocita_emissione = valore_abbreviato(str(round(int(emissione) / int(durata))))\n",
    "print(f'La velocità di emissione è: {velocita_emissione} miliardi di tonnellate di Co2 ad ogni anno.')\n",
    "\n",
    "anni = list(set(lista_anni_pulita))\n",
    "\n",
    "def pulizia_base(capo):\n",
    "    from adige import limp_csv\n",
    "    limp_csv(csv_dati)\n",
    "    with open(file=csv_dati, mode='a', encoding='utf8') as fp:\n",
    "        fp.write(capo)\n",
    "\n",
    "pulizia_base(intestazioni)\n",
    "\n",
    "nuovo_base = []\n",
    "for anno in anni:\n",
    "    with open(file=csv_base, mode='r', encoding='utf8') as fp:\n",
    "        line = fp.readline()\n",
    "        line = fp.readline()\n",
    "        while line:\n",
    "            #line_list = list(line)\n",
    "            anno_x = line.split(',')[3]\n",
    "            if anno_x == anno:\n",
    "                nuovo_base.append(line)\n",
    "                line = fp.readline()\n",
    "            else:\n",
    "                line = fp.readline()\n"
   ]
  },
  {
   "cell_type": "markdown",
   "metadata": {},
   "source": [
    "### `Dati ad ogni paese`"
   ]
  }
 ],
 "metadata": {
  "kernelspec": {
   "display_name": "Python 3",
   "language": "python",
   "name": "python3"
  },
  "language_info": {
   "codemirror_mode": {
    "name": "ipython",
    "version": 3
   },
   "file_extension": ".py",
   "mimetype": "text/x-python",
   "name": "python",
   "nbconvert_exporter": "python",
   "pygments_lexer": "ipython3",
   "version": "3.11.5"
  }
 },
 "nbformat": 4,
 "nbformat_minor": 2
}
