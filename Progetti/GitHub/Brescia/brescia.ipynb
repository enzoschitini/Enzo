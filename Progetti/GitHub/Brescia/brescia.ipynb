{
 "cells": [
  {
   "cell_type": "markdown",
   "metadata": {},
   "source": [
    "<img src=\"image/Capa.png\" alt=\"ebac-logo\">\n",
    "\n",
    "---\n",
    "\n",
    "# **Brescia** | Python: DataSet Global Peace Index 2023 \n",
    "\n",
    "Caderno de **Códigos**<br> \n",
    "Desenvolvedor [Enzo Schitini](https://enzo-schitini.bubbleapps.io/version-test/)\n",
    "\n",
    "---"
   ]
  },
  {
   "cell_type": "code",
   "execution_count": null,
   "metadata": {},
   "outputs": [],
   "source": []
  },
  {
   "cell_type": "markdown",
   "metadata": {},
   "source": [
    "## -> `Definition`"
   ]
  },
  {
   "cell_type": "markdown",
   "metadata": {},
   "source": [
    "### `About the function of the program`"
   ]
  },
  {
   "cell_type": "markdown",
   "metadata": {},
   "source": [
    "Hello, my name is `Enzo Schtini` and I want to share `Imola` with you. It's an algorithm that reveals incredible data about 'exoplanets and the temperature of stars.'"
   ]
  },
  {
   "cell_type": "code",
   "execution_count": 2,
   "metadata": {},
   "outputs": [],
   "source": [
    "import pandas as pd\n",
    "import seaborn as sns\n",
    "import matplotlib.pyplot as plt\n",
    "import time\n",
    "from functools import reduce\n",
    "\n",
    "from adige import valore_abbreviato\n",
    "from adige import ArquivoCSV\n",
    "\n",
    "index_csv = './index.csv'"
   ]
  },
  {
   "cell_type": "markdown",
   "metadata": {},
   "source": [
    "### `1° Exploratory analysis`"
   ]
  },
  {
   "cell_type": "markdown",
   "metadata": {},
   "source": [
    "##### Context"
   ]
  },
  {
   "cell_type": "markdown",
   "metadata": {},
   "source": [
    "..."
   ]
  },
  {
   "cell_type": "markdown",
   "metadata": {},
   "source": [
    "| Coluna  | Descrição |\n",
    "| ------- | --------- |\n",
    "| Country      | Nome do pais |\n",
    "| iso3c | Nome abreviado |\n",
    "| year   | --- |\n",
    "| Overall Scores    | Pontuação geral |\n",
    "| Safety and Security | Segurança e proteção |\n",
    "| Ongoing Conflict | Conflito contínuo |\n",
    "| Militarian | Militar |"
   ]
  },
  {
   "cell_type": "code",
   "execution_count": 3,
   "metadata": {},
   "outputs": [
    {
     "name": "stdout",
     "output_type": "stream",
     "text": [
      "Data information: 2.593 lines and 13 columns.\n"
     ]
    }
   ],
   "source": [
    "df = pd.read_csv(index_csv, na_values='na')\n",
    "\n",
    "struttura = df.shape\n",
    "struttura = str(struttura).replace('(', '').replace(')', '')\n",
    "struttura = str(struttura).strip().split(sep=',')\n",
    "print(f'Data information: {valore_abbreviato(struttura[0])} lines and {valore_abbreviato(struttura[1])} columns.')"
   ]
  },
  {
   "cell_type": "code",
   "execution_count": 4,
   "metadata": {},
   "outputs": [
    {
     "data": {
      "text/plain": [
       "Country                 object\n",
       "iso3c                   object\n",
       "year                     int64\n",
       "Overall Scores         float64\n",
       "Safety and Security    float64\n",
       "Ongoing Conflict       float64\n",
       "MilitarianAlbania      float64\n",
       "ALB                    float64\n",
       "2008                   float64\n",
       "1.791                  float64\n",
       "2.236                  float64\n",
       "1.247                  float64\n",
       "1.776                  float64\n",
       "dtype: object"
      ]
     },
     "execution_count": 4,
     "metadata": {},
     "output_type": "execute_result"
    }
   ],
   "source": [
    "df.dtypes"
   ]
  },
  {
   "cell_type": "markdown",
   "metadata": {},
   "source": [
    " - Atributes **categorical**."
   ]
  },
  {
   "cell_type": "code",
   "execution_count": 5,
   "metadata": {},
   "outputs": [
    {
     "data": {
      "text/html": [
       "<div>\n",
       "<style scoped>\n",
       "    .dataframe tbody tr th:only-of-type {\n",
       "        vertical-align: middle;\n",
       "    }\n",
       "\n",
       "    .dataframe tbody tr th {\n",
       "        vertical-align: top;\n",
       "    }\n",
       "\n",
       "    .dataframe thead th {\n",
       "        text-align: right;\n",
       "    }\n",
       "</style>\n",
       "<table border=\"1\" class=\"dataframe\">\n",
       "  <thead>\n",
       "    <tr style=\"text-align: right;\">\n",
       "      <th></th>\n",
       "      <th>count</th>\n",
       "      <th>unique</th>\n",
       "      <th>top</th>\n",
       "      <th>freq</th>\n",
       "    </tr>\n",
       "  </thead>\n",
       "  <tbody>\n",
       "    <tr>\n",
       "      <th>Country</th>\n",
       "      <td>2593</td>\n",
       "      <td>163</td>\n",
       "      <td>United Arab Emirates</td>\n",
       "      <td>16</td>\n",
       "    </tr>\n",
       "    <tr>\n",
       "      <th>iso3c</th>\n",
       "      <td>2593</td>\n",
       "      <td>163</td>\n",
       "      <td>ARE</td>\n",
       "      <td>16</td>\n",
       "    </tr>\n",
       "  </tbody>\n",
       "</table>\n",
       "</div>"
      ],
      "text/plain": [
       "        count unique                   top freq\n",
       "Country  2593    163  United Arab Emirates   16\n",
       "iso3c    2593    163                   ARE   16"
      ]
     },
     "execution_count": 5,
     "metadata": {},
     "output_type": "execute_result"
    }
   ],
   "source": [
    "df.select_dtypes('object').describe().transpose()"
   ]
  },
  {
   "cell_type": "markdown",
   "metadata": {},
   "source": [
    " - Atributes **numeric**."
   ]
  },
  {
   "cell_type": "code",
   "execution_count": 6,
   "metadata": {},
   "outputs": [
    {
     "data": {
      "text/html": [
       "<div>\n",
       "<style scoped>\n",
       "    .dataframe tbody tr th:only-of-type {\n",
       "        vertical-align: middle;\n",
       "    }\n",
       "\n",
       "    .dataframe tbody tr th {\n",
       "        vertical-align: top;\n",
       "    }\n",
       "\n",
       "    .dataframe thead th {\n",
       "        text-align: right;\n",
       "    }\n",
       "</style>\n",
       "<table border=\"1\" class=\"dataframe\">\n",
       "  <thead>\n",
       "    <tr style=\"text-align: right;\">\n",
       "      <th></th>\n",
       "      <th>count</th>\n",
       "      <th>mean</th>\n",
       "      <th>std</th>\n",
       "      <th>min</th>\n",
       "      <th>25%</th>\n",
       "      <th>50%</th>\n",
       "      <th>75%</th>\n",
       "      <th>max</th>\n",
       "    </tr>\n",
       "  </thead>\n",
       "  <tbody>\n",
       "    <tr>\n",
       "      <th>year</th>\n",
       "      <td>2593.0</td>\n",
       "      <td>2015.530274</td>\n",
       "      <td>4.603486</td>\n",
       "      <td>2008.000</td>\n",
       "      <td>2012.000</td>\n",
       "      <td>2016.000</td>\n",
       "      <td>2020.000</td>\n",
       "      <td>2023.000</td>\n",
       "    </tr>\n",
       "    <tr>\n",
       "      <th>Overall Scores</th>\n",
       "      <td>2593.0</td>\n",
       "      <td>2.017454</td>\n",
       "      <td>0.443238</td>\n",
       "      <td>1.081</td>\n",
       "      <td>1.727</td>\n",
       "      <td>1.974</td>\n",
       "      <td>2.231</td>\n",
       "      <td>3.588</td>\n",
       "    </tr>\n",
       "    <tr>\n",
       "      <th>Safety and Security</th>\n",
       "      <td>2593.0</td>\n",
       "      <td>2.343771</td>\n",
       "      <td>0.566121</td>\n",
       "      <td>1.178</td>\n",
       "      <td>2.004</td>\n",
       "      <td>2.357</td>\n",
       "      <td>2.674</td>\n",
       "      <td>4.177</td>\n",
       "    </tr>\n",
       "    <tr>\n",
       "      <th>Ongoing Conflict</th>\n",
       "      <td>2593.0</td>\n",
       "      <td>1.714017</td>\n",
       "      <td>0.567966</td>\n",
       "      <td>1.000</td>\n",
       "      <td>1.403</td>\n",
       "      <td>1.604</td>\n",
       "      <td>2.006</td>\n",
       "      <td>3.828</td>\n",
       "    </tr>\n",
       "    <tr>\n",
       "      <th>MilitarianAlbania</th>\n",
       "      <td>2593.0</td>\n",
       "      <td>1.891795</td>\n",
       "      <td>0.406097</td>\n",
       "      <td>1.012</td>\n",
       "      <td>1.643</td>\n",
       "      <td>1.833</td>\n",
       "      <td>2.078</td>\n",
       "      <td>4.108</td>\n",
       "    </tr>\n",
       "    <tr>\n",
       "      <th>ALB</th>\n",
       "      <td>0.0</td>\n",
       "      <td>NaN</td>\n",
       "      <td>NaN</td>\n",
       "      <td>NaN</td>\n",
       "      <td>NaN</td>\n",
       "      <td>NaN</td>\n",
       "      <td>NaN</td>\n",
       "      <td>NaN</td>\n",
       "    </tr>\n",
       "    <tr>\n",
       "      <th>2008</th>\n",
       "      <td>0.0</td>\n",
       "      <td>NaN</td>\n",
       "      <td>NaN</td>\n",
       "      <td>NaN</td>\n",
       "      <td>NaN</td>\n",
       "      <td>NaN</td>\n",
       "      <td>NaN</td>\n",
       "      <td>NaN</td>\n",
       "    </tr>\n",
       "    <tr>\n",
       "      <th>1.791</th>\n",
       "      <td>0.0</td>\n",
       "      <td>NaN</td>\n",
       "      <td>NaN</td>\n",
       "      <td>NaN</td>\n",
       "      <td>NaN</td>\n",
       "      <td>NaN</td>\n",
       "      <td>NaN</td>\n",
       "      <td>NaN</td>\n",
       "    </tr>\n",
       "    <tr>\n",
       "      <th>2.236</th>\n",
       "      <td>0.0</td>\n",
       "      <td>NaN</td>\n",
       "      <td>NaN</td>\n",
       "      <td>NaN</td>\n",
       "      <td>NaN</td>\n",
       "      <td>NaN</td>\n",
       "      <td>NaN</td>\n",
       "      <td>NaN</td>\n",
       "    </tr>\n",
       "    <tr>\n",
       "      <th>1.247</th>\n",
       "      <td>0.0</td>\n",
       "      <td>NaN</td>\n",
       "      <td>NaN</td>\n",
       "      <td>NaN</td>\n",
       "      <td>NaN</td>\n",
       "      <td>NaN</td>\n",
       "      <td>NaN</td>\n",
       "      <td>NaN</td>\n",
       "    </tr>\n",
       "    <tr>\n",
       "      <th>1.776</th>\n",
       "      <td>0.0</td>\n",
       "      <td>NaN</td>\n",
       "      <td>NaN</td>\n",
       "      <td>NaN</td>\n",
       "      <td>NaN</td>\n",
       "      <td>NaN</td>\n",
       "      <td>NaN</td>\n",
       "      <td>NaN</td>\n",
       "    </tr>\n",
       "  </tbody>\n",
       "</table>\n",
       "</div>"
      ],
      "text/plain": [
       "                      count         mean       std       min       25%  \\\n",
       "year                 2593.0  2015.530274  4.603486  2008.000  2012.000   \n",
       "Overall Scores       2593.0     2.017454  0.443238     1.081     1.727   \n",
       "Safety and Security  2593.0     2.343771  0.566121     1.178     2.004   \n",
       "Ongoing Conflict     2593.0     1.714017  0.567966     1.000     1.403   \n",
       "MilitarianAlbania    2593.0     1.891795  0.406097     1.012     1.643   \n",
       "ALB                     0.0          NaN       NaN       NaN       NaN   \n",
       "2008                    0.0          NaN       NaN       NaN       NaN   \n",
       "1.791                   0.0          NaN       NaN       NaN       NaN   \n",
       "2.236                   0.0          NaN       NaN       NaN       NaN   \n",
       "1.247                   0.0          NaN       NaN       NaN       NaN   \n",
       "1.776                   0.0          NaN       NaN       NaN       NaN   \n",
       "\n",
       "                          50%       75%       max  \n",
       "year                 2016.000  2020.000  2023.000  \n",
       "Overall Scores          1.974     2.231     3.588  \n",
       "Safety and Security     2.357     2.674     4.177  \n",
       "Ongoing Conflict        1.604     2.006     3.828  \n",
       "MilitarianAlbania       1.833     2.078     4.108  \n",
       "ALB                       NaN       NaN       NaN  \n",
       "2008                      NaN       NaN       NaN  \n",
       "1.791                     NaN       NaN       NaN  \n",
       "2.236                     NaN       NaN       NaN  \n",
       "1.247                     NaN       NaN       NaN  \n",
       "1.776                     NaN       NaN       NaN  "
      ]
     },
     "execution_count": 6,
     "metadata": {},
     "output_type": "execute_result"
    }
   ],
   "source": [
    "df.drop('Country', axis=1).select_dtypes('number').describe().transpose()"
   ]
  },
  {
   "cell_type": "markdown",
   "metadata": {},
   "source": [
    "##### Missing data"
   ]
  },
  {
   "cell_type": "code",
   "execution_count": 7,
   "metadata": {},
   "outputs": [
    {
     "data": {
      "text/plain": [
       "Country                False\n",
       "iso3c                  False\n",
       "year                   False\n",
       "Overall Scores         False\n",
       "Safety and Security    False\n",
       "Ongoing Conflict       False\n",
       "MilitarianAlbania      False\n",
       "ALB                     True\n",
       "2008                    True\n",
       "1.791                   True\n",
       "2.236                   True\n",
       "1.247                   True\n",
       "1.776                   True\n",
       "dtype: bool"
      ]
     },
     "execution_count": 7,
     "metadata": {},
     "output_type": "execute_result"
    }
   ],
   "source": [
    "df.isna().any()"
   ]
  },
  {
   "cell_type": "markdown",
   "metadata": {},
   "source": [
    " - The function below generates some statistics on the missing data columns."
   ]
  },
  {
   "cell_type": "code",
   "execution_count": 8,
   "metadata": {},
   "outputs": [],
   "source": [
    "def stats_dados_faltantes(df: pd.DataFrame) -> None:\n",
    "\n",
    "  stats_dados_faltantes = []\n",
    "  for col in df.columns:\n",
    "    if df[col].isna().any():\n",
    "      qtd, _ = df[df[col].isna()].shape\n",
    "      total, _ = df.shape\n",
    "      dict_dados_faltantes = {col: {'quantity': qtd, \"percentage\": round(100 * qtd/total, 2)}}\n",
    "      stats_dados_faltantes.append(dict_dados_faltantes)\n",
    "\n",
    "  for stat in stats_dados_faltantes:\n",
    "    print(stat)"
   ]
  },
  {
   "cell_type": "code",
   "execution_count": 9,
   "metadata": {},
   "outputs": [
    {
     "name": "stdout",
     "output_type": "stream",
     "text": [
      "{'ALB': {'quantity': 2593, 'percentage': 100.0}}\n",
      "{'2008': {'quantity': 2593, 'percentage': 100.0}}\n",
      "{'1.791': {'quantity': 2593, 'percentage': 100.0}}\n",
      "{'2.236': {'quantity': 2593, 'percentage': 100.0}}\n",
      "{'1.247': {'quantity': 2593, 'percentage': 100.0}}\n",
      "{'1.776': {'quantity': 2593, 'percentage': 100.0}}\n"
     ]
    }
   ],
   "source": [
    "stats_dados_faltantes(df=df)"
   ]
  },
  {
   "cell_type": "markdown",
   "metadata": {},
   "source": [
    "### `2° Data cleansing`"
   ]
  },
  {
   "cell_type": "code",
   "execution_count": 10,
   "metadata": {},
   "outputs": [
    {
     "name": "stdout",
     "output_type": "stream",
     "text": [
      "Numero iniziale: 2593\n",
      "Numero finale: 2592\n"
     ]
    }
   ],
   "source": [
    "from adige import ArquivoCSV\n",
    "csv = ArquivoCSV('./index.csv')\n",
    "csv = csv.extrair_coluna(0)\n",
    "print(f'Numero iniziale: {len(csv)}')\n",
    "\n",
    "def pulizia(archivio):\n",
    "    file = []\n",
    "    with open(file=archivio, mode='r', encoding='utf-8') as fp:\n",
    "        line = fp.readline()\n",
    "        line = fp.readline()\n",
    "        while line:\n",
    "            line_sep = line.split(sep=',')\n",
    "            if line_sep[3] != '':\n",
    "                file.append(line)\n",
    "                line = fp.readline()\n",
    "            else:\n",
    "                line = fp.readline()\n",
    "    from adige import limp_csv\n",
    "    limp_csv(archivio)\n",
    "\n",
    "    with open(file=archivio, mode='a', encoding='utf-8') as fp:\n",
    "        fp.write('Country,iso3c,year,Overall Scores,Safety and Security,Ongoing Conflict,Militarian')\n",
    "        for x in file:\n",
    "            fp.write(x)\n",
    "\n",
    "pulizia('./index.csv')\n",
    "csv = ArquivoCSV('./index.csv')\n",
    "csv = csv.extrair_coluna(0)\n",
    "print(f'Numero finale: {len(csv)}')"
   ]
  },
  {
   "cell_type": "markdown",
   "metadata": {},
   "source": [
    "### `3° Data visualization`"
   ]
  },
  {
   "cell_type": "code",
   "execution_count": 11,
   "metadata": {},
   "outputs": [],
   "source": [
    "def cattegorie(file, colonna:int):\n",
    "    csv = ArquivoCSV(file)\n",
    "    lista = list(set(csv.extrair_coluna(colonna)))\n",
    "    return list(filter(None, lista))"
   ]
  },
  {
   "cell_type": "code",
   "execution_count": 12,
   "metadata": {},
   "outputs": [
    {
     "name": "stdout",
     "output_type": "stream",
     "text": [
      "I dati vanno dal 2008 fino a 2023, tutto sommato: 16 anni di analise.\n"
     ]
    }
   ],
   "source": [
    "print(f'I dati vanno dal {min(cattegorie(index_csv, 2))} fino a {max(cattegorie(index_csv, 2))}, tutto sommato: {len(cattegorie(index_csv, 2))} anni di analise.')"
   ]
  },
  {
   "cell_type": "markdown",
   "metadata": {},
   "source": [
    "##### Dati dei paesi"
   ]
  },
  {
   "cell_type": "code",
   "execution_count": 13,
   "metadata": {},
   "outputs": [],
   "source": [
    "paese_nome = 'Italy'"
   ]
  },
  {
   "cell_type": "code",
   "execution_count": 14,
   "metadata": {},
   "outputs": [
    {
     "name": "stdout",
     "output_type": "stream",
     "text": [
      "['Italy,ITA,2008,1.588,1.752,1.073,2.041', 'Italy,ITA,2009,1.673,1.948,1.08,2.033', 'Italy,ITA,2010,1.636,1.852,1.083,2.045', 'Italy,ITA,2011,1.655,1.932,1.073,1.996', 'Italy,ITA,2012,1.677,1.961,1.057,2.059', 'Italy,ITA,2013,1.703,2.028,1.057,2.045', 'Italy,ITA,2014,1.667,1.954,1.057,2.031', 'Italy,ITA,2015,1.668,2.014,1.062,1.919', 'Italy,ITA,2016,1.662,1.994,1.067,1.924', 'Italy,ITA,2017,1.649,1.973,1.064,1.913', 'Italy,ITA,2018,1.701,2.095,1.057,1.922', 'Italy,ITA,2019,1.676,2.018,1.055,1.96', 'Italy,ITA,2020,1.63,1.945,1.048,1.909', 'Italy,ITA,2021,1.65,1.969,1.041,1.957', 'Italy,ITA,2022,1.642,1.924,1.041,2.003', 'Italy,ITA,2023,1.662,1.93,1.046,2.07']\n",
      "16\n"
     ]
    },
    {
     "data": {
      "text/plain": [
       "'Italy,ITA,2008,1.588,1.752,1.073,2.041'"
      ]
     },
     "execution_count": 14,
     "metadata": {},
     "output_type": "execute_result"
    }
   ],
   "source": [
    "def trovare_paese(paese:str) -> list:\n",
    "    paesi = []\n",
    "    with open(file=index_csv, mode='r', encoding='utf-8') as fp:\n",
    "        line = fp.readline()\n",
    "        line = fp.readline()\n",
    "        while line:\n",
    "            line = line.strip()\n",
    "            line_x = line.split(sep=',')\n",
    "            if line_x[0] == paese:\n",
    "                paesi.append(line)\n",
    "                line = fp.readline()\n",
    "            else:\n",
    "                line = fp.readline()\n",
    "    return paesi\n",
    "\n",
    "print(trovare_paese(paese_nome))\n",
    "print(len(trovare_paese(paese_nome)))\n",
    "trovare_paese(paese_nome)[0]"
   ]
  },
  {
   "cell_type": "code",
   "execution_count": 15,
   "metadata": {},
   "outputs": [
    {
     "name": "stdout",
     "output_type": "stream",
     "text": [
      "['1.588', '1.673', '1.636', '1.655', '1.677', '1.703', '1.667', '1.668', '1.662', '1.649', '1.701', '1.676', '1.63', '1.65', '1.642', '1.662']\n"
     ]
    }
   ],
   "source": [
    "def calcoli_paese(paesi:list):\n",
    "\n",
    "    overall_scores = []\n",
    "    safety_security = []\n",
    "    ongoing_conflict = []\n",
    "    militarian = []\n",
    "\n",
    "    for x in paesi:\n",
    "        x = str(x)\n",
    "        x_sep = x.split(sep=',')\n",
    "        overall_scores.append((x_sep)[3])\n",
    "        safety_security.append((x_sep)[4])\n",
    "        ongoing_conflict.append((x_sep)[5])\n",
    "        militarian.append((x_sep)[6])\n",
    "    \n",
    "    return overall_scores, safety_security, ongoing_conflict, militarian\n",
    "\n",
    "overall_scores = calcoli_paese(trovare_paese(paese_nome))[0]\n",
    "print(overall_scores)"
   ]
  },
  {
   "cell_type": "code",
   "execution_count": 16,
   "metadata": {},
   "outputs": [
    {
     "name": "stdout",
     "output_type": "stream",
     "text": [
      "[2008, 2009, 2010, 2011, 2012, 2013, 2014, 2015, 2016, 2017, 2018, 2019, 2020, 2021, 2022, 2023]\n",
      "[3.372, 3.373, 3.326, 3.083, 3.031, 2.917, 2.933, 3.158, 3.368, 3.314, 3.225, 3.18, 3.118, 3.138, 3.028, 3.006]\n",
      "Le medie di Italy sono: \n",
      "Pontuação geral: 3.16 \n",
      "Segurança e proteção: 3.82 \n",
      "Conflito contínuo: 2.94  \n",
      "Militar: 2.39.\n"
     ]
    },
    {
     "data": {
      "image/png": "[encoded data removed]",
      "text/plain": [
       "<Figure size 640x480 with 1 Axes>"
      ]
     },
     "metadata": {},
     "output_type": "display_data"
    },
    {
     "data": {
      "text/plain": [
       "['Italy', 3.16, 3.82, 2.94, 2.39]"
      ]
     },
     "execution_count": 16,
     "metadata": {},
     "output_type": "execute_result"
    }
   ],
   "source": [
    "def grafico_paese(paese:str):\n",
    "    # Gli anni\n",
    "    anni = list(map(int, cattegorie(index_csv, 2)))\n",
    "    anni.sort()\n",
    "    print(anni) \n",
    "    # Dati prelevati\n",
    "    overall_scores = list(map(float, calcoli_paese(trovare_paese(paese))[0]))\n",
    "    safety_security = list(map(float, calcoli_paese(trovare_paese(paese))[1]))\n",
    "    ongoing_conflict = list(map(float, calcoli_paese(trovare_paese(paese))[2]))\n",
    "    militarian = list(map(float, calcoli_paese(trovare_paese(paese))[3]))\n",
    "    print(overall_scores)\n",
    "    # Le medie\n",
    "    overall_scores_media = round(reduce(lambda x, y: x + y, overall_scores) / len(anni), 2)\n",
    "    safety_security_media = round(reduce(lambda x, y: x + y, safety_security) / len(anni), 2)\n",
    "    ongoing_conflict_media = round(reduce(lambda x, y: x + y, ongoing_conflict) / len(anni), 2)\n",
    "    militarian_media = round(reduce(lambda x, y: x + y, militarian) / len(anni), 2)\n",
    "    medie = [paese_nome, overall_scores_media, safety_security_media, ongoing_conflict_media, militarian_media]\n",
    "    print(f'Le medie di {paese_nome} sono: \\nPontuação geral: {overall_scores_media} \\nSegurança e proteção: {safety_security_media} \\nConflito contínuo: {ongoing_conflict_media}  \\nMilitar: {militarian_media}.')\n",
    "    # Grafico\n",
    "    x  = anni\n",
    "    y1 = overall_scores\n",
    "    y2 = safety_security\n",
    "    y3 = ongoing_conflict\n",
    "    y4 = militarian\n",
    "    plt.title(f'Indice di pace globale 2023 in {paese_nome}')\n",
    "    plt.plot(x, y1, color = \"green\", label=\"overall_scores\")\n",
    "    plt.plot(x, y2, color = \"blue\", label=\"safety_security\")\n",
    "    plt.plot(x, y3, color = \"orange\", label=\"ongoing_conflict\")\n",
    "    plt.plot(x, y4, color = \"red\", label=\"militarian\")\n",
    "    plt.xlabel(\"Anni\")\n",
    "    plt.ylabel(\"Punteggi\")\n",
    "    plt.savefig('Grafico')\n",
    "    plt.legend()\n",
    "    plt.show()\n",
    "\n",
    "    return medie\n",
    "\n",
    "grafico_paese('Iraq')"
   ]
  },
  {
   "cell_type": "markdown",
   "metadata": {},
   "source": [
    "##### Dati globali"
   ]
  },
  {
   "cell_type": "code",
   "execution_count": 17,
   "metadata": {},
   "outputs": [
    {
     "name": "stdout",
     "output_type": "stream",
     "text": [
      "['Italy,ITA,2008,1.588,1.752,1.073,2.041', 'Italy,ITA,2009,1.673,1.948,1.08,2.033', 'Italy,ITA,2010,1.636,1.852,1.083,2.045', 'Italy,ITA,2011,1.655,1.932,1.073,1.996', 'Italy,ITA,2012,1.677,1.961,1.057,2.059', 'Italy,ITA,2013,1.703,2.028,1.057,2.045', 'Italy,ITA,2014,1.667,1.954,1.057,2.031', 'Italy,ITA,2015,1.668,2.014,1.062,1.919', 'Italy,ITA,2016,1.662,1.994,1.067,1.924', 'Italy,ITA,2017,1.649,1.973,1.064,1.913', 'Italy,ITA,2018,1.701,2.095,1.057,1.922', 'Italy,ITA,2019,1.676,2.018,1.055,1.96', 'Italy,ITA,2020,1.63,1.945,1.048,1.909', 'Italy,ITA,2021,1.65,1.969,1.041,1.957', 'Italy,ITA,2022,1.642,1.924,1.041,2.003', 'Italy,ITA,2023,1.662,1.93,1.046,2.07']\n",
      "['Italy,ITA,2013,1.703,2.028,1.057,2.045', 'Italy,ITA,2018,1.701,2.095,1.057,1.922', 'Italy,ITA,2012,1.677,1.961,1.057,2.059', 'Italy,ITA,2019,1.676,2.018,1.055,1.96', 'Italy,ITA,2009,1.673,1.948,1.08,2.033', 'Italy,ITA,2015,1.668,2.014,1.062,1.919', 'Italy,ITA,2014,1.667,1.954,1.057,2.031', 'Italy,ITA,2016,1.662,1.994,1.067,1.924', 'Italy,ITA,2023,1.662,1.93,1.046,2.07', 'Italy,ITA,2011,1.655,1.932,1.073,1.996', 'Italy,ITA,2021,1.65,1.969,1.041,1.957', 'Italy,ITA,2017,1.649,1.973,1.064,1.913', 'Italy,ITA,2022,1.642,1.924,1.041,2.003', 'Italy,ITA,2010,1.636,1.852,1.083,2.045', 'Italy,ITA,2020,1.63,1.945,1.048,1.909', 'Italy,ITA,2008,1.588,1.752,1.073,2.041']\n",
      " \n",
      " \n",
      "--------------------------\n",
      "1° Italy - 1.703  --> Overall Scores 2013\n",
      "2° Italy - 1.701  --> Overall Scores 2018\n",
      "3° Italy - 1.677  --> Overall Scores 2012\n",
      "4° Italy - 1.676  --> Overall Scores 2019\n",
      "5° Italy - 1.673  --> Overall Scores 2009\n",
      "6° Italy - 1.668  --> Overall Scores 2015\n",
      "7° Italy - 1.667  --> Overall Scores 2014\n",
      "8° Italy - 1.662  --> Overall Scores 2016\n",
      "9° Italy - 1.662  --> Overall Scores 2023\n",
      "10° Italy - 1.655  --> Overall Scores 2011\n",
      "11° Italy - 1.65  --> Overall Scores 2021\n",
      "12° Italy - 1.649  --> Overall Scores 2017\n",
      "13° Italy - 1.642  --> Overall Scores 2022\n",
      "14° Italy - 1.636  --> Overall Scores 2010\n",
      "15° Italy - 1.63  --> Overall Scores 2020\n",
      "16° Italy - 1.588  --> Overall Scores 2008\n",
      "--------------------------\n"
     ]
    }
   ],
   "source": [
    "# Gruppetto dei cinque\n",
    "\n",
    "data = trovare_paese(paese_nome)\n",
    "print(data)\n",
    "\n",
    "# Ordina i dati in base alla temperatura (dal più alto al più basso)\n",
    "data.sort(key=lambda x: float(x.split(',')[3]), reverse=True)\n",
    "print(data)\n",
    "\n",
    "def smistando(data:list):\n",
    "   ordem = 0\n",
    "   print(' \\n ')\n",
    "   print('--------------------------')\n",
    "   for x in data:\n",
    "      x = x.strip().split(sep=',')\n",
    "      ordem = ordem + 1\n",
    "      print(f'{ordem}° {x[0]} - {x[3]}  --> Overall Scores {x[2]}')\n",
    "   print('--------------------------')\n",
    "smistando(data)"
   ]
  },
  {
   "cell_type": "code",
   "execution_count": 18,
   "metadata": {},
   "outputs": [
    {
     "name": "stdout",
     "output_type": "stream",
     "text": [
      "['3.126', '2.048', '1.794', '1.642', '1.879', '2.143', '1.432', '1.396', '2.225', '2.247', '1.482', '2.123', '1.751', '2.054', '1.607', '2.139', '1.773', '2.101', '1.942', '2.005', '1.851', '1.842', '2.65', '1.38', '1.435', '1.722', '2.167', '2.356', '2.027', '2.796', '2.066', '2.598', '1.781', '2.041', '1.898', '1.4', '1.55', '1.998', '1.26', '2.094', '2.415', '2.063', '2.184', '2.438', '1.665', '1.664', '2.31', '1.373', '1.682', '2.049', '1.741', '2.525', '1.729', '2.266', '1.927', '2.242', '1.945', '1.97', '2.159', '2.08', '2.232', '1.612', '2.026', '1.533', '1.687', '2.404', '1.472', '2.528', '3.083', '1.14', '2.697', '1.655', '2.041', '1.86', '1.38', '2.073', '2.395', '2.275', '2.073', '1.885', '1.975', '1.524', '1.737', '2.336', '1.992', '2.654', '2.529', '1.875', '1.795', '1.725', '2.036', '1.997', '1.998', '2.326', '1.837', '2.153', '2.111', '2.035', '1.846', '1.961', '2.246', '1.619', '1.704', '1.531', '1.989', '1.985', '2.346', '1.865', '1.528', '1.442', '2.089', '1.325', '1.856', '2.901', '1.811', '1.98', '2.226', '1.969', '1.534', '2.938', '1.434', '1.917', '1.477', '1.568', '2.884', '2.124', '2.161', '2.98', '1.933', '1.444', '1.819', '2.141', '3.088', '1.961', '1.584', '1.348', '1.439', '2.05', '2.216', '2.527', '1.893', '2.305', '2.113', '2.152', '1.792', '2.096', '1.854', '2.347', '1.684', '1.789', '2.277', '2.118', '1.571', '2.265', '2.251', '2.421', '1.849', '2.561', '2.352', '1.762', '2.39', '3.254', '1.922', '1.824', '1.793', '1.929', '2.032', '1.375', '1.247', '2.293', '2.268', '1.441', '1.872', '1.925', '1.982', '1.638', '2.132', '1.802', '2.114', '1.966', '2.09', '1.543', '1.763', '3.156', '1.329', '1.36', '1.608', '2.111', '2.059', '2.234', '3', '2.152', '2.623', '1.693', '2.033', '1.897', '1.383', '1.429', '2.075', '1.229', '2.037', '2.174', '1.966', '2.354', '2.462', '1.49', '1.629', '2.233', '1.353', '1.735', '1.989', '1.714', '2.028', '1.711', '2.205', '2.062', '2.066', '1.836', '1.895', '2.074', '2.03', '2.075', '1.558', '2.033', '1.493', '1.662', '2.312', '1.42', '2.406', '3.158', '1.164', '2.565', '1.668', '1.984', '1.926', '1.342', '1.973', '2.342', '2.182', '2.083', '1.746', '1.883', '1.665', '1.734', '2.529', '1.897', '2.727', '2.142', '1.866', '1.698', '1.614', '2.058', '1.887', '1.815', '2.225', '1.911', '2.493', '2.184', '1.805', '1.715', '2.012', '2.181', '1.553', '1.74', '1.644', '1.956', '2.205', '2.652', '1.948', '1.467', '1.471', '1.882', '1.309', '2.031', '2.97', '1.92', '1.999', '2.329', '1.904', '1.458', '2.914', '1.39', '2.048', '1.619', '1.505', '2.984', '2.184', '2.081', '3.053', '1.796', '1.353', '1.808', '2.178', '3.086', '1.82', '3.262', '1.513', '1.379', '1.39', '2.017', '3.295', '2.454', '1.833', '2.266', '2.101', '2.108', '1.861', '2.024', '2.008', '2.355', '1.704', '1.874', '2.262', '2.723', '1.661', '2.234', '2.12', '2.485', '1.899', '2.765', '2.416', '1.818', '2.158', '3.24', '2.034', '1.819', '1.665', '1.972', '2.135', '1.423', '1.287', '2.286', '2.292', '1.467', '2.021', '1.832', '2.073', '1.684', '2.144', '1.785', '2.069', '1.997', '2.019', '1.567', '1.725', '2.793', '1.318', '1.39', '1.621', '2.075', '2.424', '1.969', '2.776', '2.073', '2.57', '1.788', '2.073', '1.892', '1.435', '1.498', '1.958', '1.222', '2.059', '2.289', '2.026', '2.378', '2.425', '1.578', '1.678', '2.335', '1.353', '1.729', '1.997', '1.715', '2.341', '1.743', '2.146', '2.018', '2.156', '1.832', '2.03', '2.203', '1.967', '2.14', '1.602', '1.926', '1.494', '1.671', '2.337', '1.423', '2.51', '2.917', '1.197', '2.64', '1.703', '2.046', '1.914', '1.377', '1.96', '2.426', '2.351', '2.092', '1.784', '1.92', '1.623', '1.758', '2.356', '1.851', '2.54', '2.196', '1.863', '1.739', '1.71', '2.056', '1.939', '1.951', '2.381', '1.917', '2.276', '2.223', '1.777', '1.889', '1.896', '2.178', '1.542', '1.759', '1.578', '1.924', '1.978', '2.486', '1.887', '1.476', '1.531', '1.995', '1.314', '1.907', '3.015', '1.801', '2.001', '2.266', '1.935', '1.5', '2.893', '1.469', '2.065', '1.569', '1.55', '2.862', '2.232', '2.162', '3.009', '1.948', '1.47', '1.825', '2.148', '3.104', '1.959', '2.752', '1.58', '1.385', '1.427', '2.043', '3.221', '2.303', '1.872', '2.277', '2.208', '2.184', '1.798', '2.031', '2.037', '2.405', '1.615', '1.798', '2.179', '2.199', '1.622', '2.247', '2.224', '2.287', '1.872', '2.539', '2.327', '1.715', '2.328', '3.386', '1.936', '1.786', '1.929', '1.934', '2.069', '1.421', '1.309', '2.289', '2.569', '1.483', '1.995', '2.037', '1.953', '1.595', '2.298', '1.897', '2.007', '1.937', '2.203', '1.502', '1.737', '2.991', '1.323', '1.342', '1.56', '2.123', '2.156', '2.435', '2.878', '2.271', '2.646', '1.698', '2.011', '1.906', '1.334', '1.476', '2.112', '1.312', '2.029', '2.171', '1.844', '2.386', '2.545', '1.471', '1.597', '2.358', '1.432', '1.909', '2.034', '1.721', '2.055', '1.774', '2.059', '2.178', '2.126', '1.812', '1.908', '2.13', '1.983', '2.088', '1.573', '1.932', '1.546', '1.712', '2.342', '1.395', '2.396', '3.314', '1.1', '2.645', '1.649', '1.944', '1.966', '1.327', '1.941', '2.33', '2.123', '2.003', '1.776', '1.885', '1.877', '1.756', '2.612', '1.923', '2.964', '1.92', '2.017', '1.714', '1.57', '1.959', '1.906', '1.826', '2.388', '2.014', '2.482', '2.021', '1.803', '1.727', '1.989', '2.248', '1.526', '1.848', '1.676', '1.847', '2.364', '2.816', '1.941', '1.473', '1.467', '2.001', '1.278', '1.898', '2.878', '1.81', '1.947', '2.385', '1.93', '1.584', '2.909', '1.279', '2.006', '2.449', '1.543', '1.529', '2.97', '2.067', '2.389', '2.959', '1.808', '1.398', '1.748', '2.176', '3.039', '1.807', '3.242', '1.599', '1.339', '1.508', '1.928', '3.379', '2.536', '1.859', '2.189', '2.052', '2.207', '1.794', '2.067', '1.972', '2.628', '1.72', '1.835', '2.186', '2.925', '1.639', '2.314', '2.034', '2.65', '1.886', '3.184', '2.319', '1.779', '2.164', '3.162', '1.943', '1.781', '1.647', '1.899', '2.213', '1.394', '1.362', '2.238', '2.316', '1.493', '2.096', '1.722', '2.023', '1.677', '1.833', '1.778', '2.136', '2.002', '1.932', '1.913', '1.845', '2.542', '1.44', '1.461', '1.675', '2.179', '2.147', '2.141', '2.799', '2.107', '2.658', '1.645', '2.056', '1.904', '1.442', '1.57', '2.02', '1.304', '2.071', '2.273', '2.117', '1.902', '2.51', '1.705', '1.708', '2.277', '1.373', '1.704', '2.042', '1.74', '2.827', '1.823', '2.15', '1.864', '2.14', '1.902', '1.982', '2.108', '2.108', '2.277', '1.607', '2.063', '1.481', '1.672', '2.436', '1.44', '2.452', '3.326', '1.134', '2.779', '1.636', '1.999', '1.857', '1.385', '2.145', '2.424', '2.205', '2.094', '1.811', '1.951', '1.51', '1.714', '2.368', '1.987', '2.011', '2.609', '1.869', '1.696', '1.719', '1.968', '1.992', '1.879', '2.202', '1.89', '2.251', '2.207', '1.996', '2.019', '1.839', '2.208', '1.603', '1.798', '1.631', '2.055', '2.129', '2.36', '1.828', '1.549', '1.381', '1.949', '1.316', '1.692', '2.903', '1.867', '2.016', '2.214', '1.914', '1.627', '2.891', '1.396', '1.959', '1.477', '1.593', '2.946', '1.966', '2.26', '2.944', '1.931', '1.488', '1.824', '2.121', '3.212', '1.976', '1.541', '1.35', '1.441', '1.88', '2.211', '2.839', '1.873', '2.29', '2.132', '2.125', '1.862', '2.119', '1.711', '2.441', '1.709', '1.773', '2.228', '2.19', '1.664', '2.301', '2.219', '2.419', '1.847', '2.527', '2.38', '1.859', '2.522', '3.167', '2.065', '1.824', '1.735', '1.882', '2.076', '1.382', '1.277', '2.299', '2.266', '1.424', '1.972', '1.719', '1.999', '1.586', '2.116', '1.738', '2.075', '1.951', '2.09', '1.567', '1.862', '3.089', '1.296', '1.371', '1.591', '2.073', '2.2', '2.042', '2.912', '2.117', '2.601', '1.751', '2.05', '1.946', '1.415', '1.435', '1.93', '1.202', '2.029', '2.212', '1.99', '2.547', '2.452', '1.519', '1.576', '2.318', '1.351', '1.709', '1.952', '1.706', '2.18', '1.742', '2.13', '2.047', '2.3', '1.857', '2.047', '2.064', '1.985', '2.103', '1.564', '2.018', '1.476', '1.713', '2.348', '1.397', '2.371', '2.933', '1.185', '2.568', '1.667', '2.014', '1.882', '1.369', '2.01', '2.393', '2.215', '2.084', '1.768', '1.915', '1.587', '1.735', '2.488', '1.853', '2.341', '2.101', '1.821', '1.69', '1.655', '2.085', '1.9', '1.88', '2.291', '1.926', '2.347', '2.146', '1.809', '1.744', '1.974', '2.189', '1.535', '1.781', '1.555', '1.888', '1.93', '2.594', '1.86', '1.481', '1.553', '1.953', '1.311', '1.961', '3.015', '1.844', '1.956', '2.311', '1.94', '1.484', '2.902', '1.417', '1.988', '1.535', '1.528', '2.971', '2.271', '2.054', '3.114', '1.872', '1.435', '1.81', '2.087', '3.131', '1.893', '3.088', '1.533', '1.384', '1.397', '2.046', '3.301', '2.425', '1.912', '2.304', '2.175', '2.147', '1.833', '2.002', '2.034', '2.376', '1.606', '1.814', '2.208', '2.478', '1.629', '2.234', '2.145', '2.448', '1.835', '2.575', '2.356', '1.8', '2.225', '3.545', '1.97', '1.764', '1.979', '1.904', '1.933', '1.565', '1.31', '2.173', '2.527', '1.544', '2.176', '2.767', '2.063', '1.557', '2.165', '1.857', '2.278', '1.977', '2.452', '1.386', '1.814', '2.927', '1.39', '1.362', '1.841', '2.018', '2.16', '2.72', '3.109', '2.223', '2.738', '1.775', '2.112', '1.909', '1.317', '1.453', '2.211', '1.298', '2.022', '2.126', '1.96', '2.335', '2.519', '1.637', '1.565', '2.805', '1.439', '1.918', '2.019', '1.699', '2.061', '1.785', '2.4', '1.83', '2.088', '1.9', '1.843', '2.131', '2.12', '2.229', '1.438', '2.201', '1.433', '1.775', '2.398', '1.283', '2.808', '3.028', '1.081', '2.552', '1.642', '1.989', '1.919', '1.34', '2.067', '2.272', '2.013', '1.952', '1.791', '1.948', '1.718', '1.82', '2.56', '1.97', '2.807', '2.027', '2.082', '1.658', '1.624', '2.001', '1.881', '1.846', '2.616', '1.707', '2.805', '2.612', '1.826', '1.759', '2.256', '2.259', '1.575', '1.934', '1.477', '1.891', '2.638', '2.665', '2.321', '1.521', '1.476', '1.967', '1.316', '1.915', '2.792', '1.879', '2.122', '2.288', '2.027', '1.54', '2.894', '1.334', '1.989', '2.405', '1.535', '1.666', '2.994', '2.039', '2.322', '2.994', '1.851', '1.345', '1.803', '2.256', '3.068', '1.862', '3.191', '1.508', '1.31', '1.591', '2.042', '3.371', '2.589', '2.134', '2.131', '2.057', '2.125', '1.837', '1.979', '1.998', '2.755', '1.647', '2.051', '2.346', '2.686', '1.791', '2.439', '2.01', '2.683', '1.789', '3.404', '2.305', '1.871', '2.326', '3.512', '1.988', '1.723', '1.892', '1.911', '2.086', '1.418', '1.272', '2.264', '2.481', '1.55', '1.914', '2.076', '2.014', '1.576', '2.288', '1.917', '2.031', '1.986', '2.16', '1.421', '1.768', '3.057', '1.323', '1.4', '1.628', '2.061', '2.184', '2.507', '3.091', '2.304', '2.661', '1.74', '1.991', '1.846', '1.339', '1.516', '2.189', '1.31', '2.045', '2.188', '1.907', '2.414', '2.645', '1.606', '1.609', '2.428', '1.434', '1.919', '2.079', '1.78', '2.051', '1.78', '2.072', '1.988', '2.15', '1.859', '1.924', '2.114', '2.035', '2.157', '1.556', '1.975', '1.586', '1.739', '2.336', '1.348', '2.515', '3.225', '1.113', '2.654', '1.701', '1.958', '2.057', '1.331', '1.942', '2.315', '2.085', '2.078', '1.795', '1.959', '1.788', '1.78', '2.572', '1.858', '2.943', '1.934', '2.101', '1.702', '1.57', '1.962', '1.888', '1.788', '2.426', '1.93', '2.454', '2.15', '1.745', '1.739', '2.114', '2.247', '1.538', '1.839', '1.623', '1.85', '2.381', '2.685', '1.892', '1.486', '1.492', '2.014', '1.235', '1.954', '2.839', '1.828', '1.925', '2.376', '1.952', '1.606', '2.894', '1.309', '2.021', '2.436', '1.751', '1.507', '3.077', '2.204', '2.448', '2.926', '1.717', '1.395', '1.725', '2.24', '3.083', '1.78', '3.279', '1.539', '1.354', '1.482', '1.946', '3.346', '2.387', '2.019', '2.147', '2.067', '2.205', '1.823', '2.019', '2.011', '2.753', '1.733', '1.932', '2.263', '2.793', '1.729', '2.301', '2.03', '2.719', '1.906', '3.195', '2.32', '1.795', '2.2', '3.581', '1.918', '1.774', '2.022', '1.948', '1.935', '1.434', '1.265', '2.046', '2.458', '1.528', '2.206', '2.294', '2.028', '1.596', '2.148', '1.9', '2.033', '2.037', '2.446', '1.417', '1.815', '2.956', '1.337', '1.365', '1.815', '1.949', '2.113', '2.643', '3.039', '2.243', '2.663', '1.709', '2.048', '1.885', '1.346', '1.502', '2.168', '1.307', '1.961', '2.186', '2.031', '2.397', '2.582', '1.605', '1.568', '2.436', '1.361', '1.94', '2.128', '1.778', '2.022', '1.829', '2.036', '1.931', '2.014', '1.817', '1.844', '2.155', '2.065', '2.206', '1.531', '2.132', '1.548', '1.835', '2.446', '1.351', '2.786', '3.118', '1.103', '2.647', '1.63', '1.972', '1.986', '1.346', '1.993', '2.333', '2.036', '1.971', '1.747', '1.973', '1.712', '1.818', '2.577', '1.824', '2.99', '2.039', '2.088', '1.652', '1.625', '2.09', '1.874', '1.816', '2.565', '1.807', '2.555', '2.218', '1.821', '1.751', '2.133', '2.22', '1.556', '1.912', '1.524', '1.827', '2.498', '2.746', '2.32', '1.532', '1.514', '2.015', '1.294', '1.923', '2.811', '1.87', '1.993', '2.305', '1.965', '1.595', '2.939', '1.279', '2.005', '2.488', '1.651', '1.554', '2.971', '1.968', '2.369', '2.867', '1.754', '1.327', '1.864', '2.224', '3.053', '1.8', '3.278', '1.539', '1.308', '1.512', '1.907', '3.299', '2.552', '2.105', '2.178', '2.138', '2.189', '1.798', '2.016', '1.956', '2.758', '1.683', '1.902', '2.345', '2.724', '1.688', '2.372', '2.07', '2.701', '1.96', '3.34', '2.358', '1.819', '2.322', '3.448', '2.02', '1.745', '1.979', '1.837', '1.929', '1.525', '1.316', '2.09', '2.393', '1.523', '2.177', '2.868', '2.051', '1.643', '2.145', '1.892', '2.248', '2.001', '2.462', '1.496', '1.762', '2.934', '1.35', '1.339', '1.874', '2.009', '2.053', '2.66', '3.214', '2.21', '2.693', '1.731', '2.103', '1.904', '1.379', '1.456', '2.196', '1.31', '2.019', '2.094', '2.095', '2.267', '2.505', '1.649', '1.563', '2.872', '1.399', '1.939', '2.068', '1.693', '2.071', '1.799', '2.359', '1.888', '2.045', '2.013', '1.89', '2.13', '2.134', '2.265', '1.45', '2.395', '1.508', '1.829', '2.314', '1.312', '2.8', '3.006', '1.124', '2.706', '1.662', '1.986', '1.895', '1.336', '1.98', '2.254', '2.11', '1.947', '1.763', '1.946', '1.669', '1.779', '2.581', '1.946', '2.605', '2.136', '2.191', '1.671', '1.582', '2.02', '1.873', '1.846', '2.599', '1.713', '2.963', '2.741', '1.772', '1.765', '2.259', '2.228', '1.546', '1.97', '1.513', '1.859', '2.625', '2.713', '2.294', '1.49', '1.55', '2.006', '1.313', '1.794', '2.745', '1.942', '2.13', '2.229', '2.095', '1.634', '2.848', '1.333', '1.942', '2.538', '1.524', '1.649', '3.142', '2.051', '2.26', '3.023', '1.827', '1.332', '1.792', '2.279', '3.036', '1.921', '3.221', '1.578', '1.334', '1.625', '2.168', '3.294', '2.699', '2.13', '2.061', '2.114', '2.107', '1.796', '1.946', '2.01', '2.8', '1.649', '2.058', '2.3', '3.043', '1.798', '2.448', '2.033', '2.693', '1.745', '3.35', '2.405', '1.898', '2.3', '3.338', '1.96', '1.779', '1.826', '1.954', '2.037', '1.406', '1.243', '2.275', '2.541', '1.459', '1.921', '2.015', '1.938', '1.612', '2.191', '1.794', '2.059', '1.891', '2.14', '1.469', '1.728', '3.076', '1.324', '1.355', '1.572', '2.102', '2.18', '2.41', '2.898', '2.23', '2.58', '1.695', '2.02', '1.913', '1.329', '1.44', '2.151', '1.232', '2.038', '2.202', '1.95', '2.379', '2.509', '1.495', '1.614', '2.238', '1.373', '1.8', '2.007', '1.712', '2.028', '1.751', '2.114', '2.04', '2.06', '1.805', '1.915', '2.124', '2.05', '2.124', '1.58', '2.014', '1.473', '1.676', '2.371', '1.416', '2.334', '3.368', '1.163', '2.642', '1.662', '1.956', '1.94', '1.371', '1.97', '2.354', '2.15', '2.071', '1.788', '1.93', '1.723', '1.811', '2.559', '1.933', '2.974', '2.041', '1.938', '1.725', '1.575', '2.07', '1.93', '1.783', '2.274', '1.98', '2.327', '2.041', '1.763', '1.795', '1.974', '2.15', '1.545', '1.877', '1.614', '1.898', '2.148', '2.837', '1.892', '1.463', '1.479', '1.982', '1.289', '1.983', '2.985', '1.839', '1.963', '2.319', '1.956', '1.511', '2.884', '1.301', '2.02', '2.507', '1.58', '1.546', '2.979', '2.191', '2.205', '3.044', '1.798', '1.391', '1.76', '2.124', '3.118', '1.761', '3.275', '1.578', '1.342', '1.441', '1.974', '3.33', '2.389', '1.887', '2.161', '2.072', '2.124', '1.83', '2.021', '1.95', '2.432', '1.708', '1.891', '2.191', '2.964', '1.648', '2.205', '2.082', '2.622', '1.871', '3.049', '2.327', '1.794', '2.139', '3.538', '1.952', '1.733', '1.886', '1.984', '2.047', '1.439', '1.259', '2.274', '2.509', '1.474', '1.925', '2.198', '2.087', '1.603', '2.246', '1.884', '2.046', '1.977', '2.449', '1.404', '1.801', '3.084', '1.32', '1.373', '1.654', '1.986', '2.08', '2.569', '3.081', '2.238', '2.672', '1.735', '2.018', '1.867', '1.343', '1.5', '2.126', '1.299', '2.023', '2.213', '1.943', '2.381', '2.548', '1.677', '1.579', '2.439', '1.393', '1.829', '2.119', '1.711', '1.994', '1.776', '2.029', '1.909', '2.08', '1.876', '1.9', '2.193', '2.083', '2.221', '1.568', '2.047', '1.568', '1.741', '2.418', '1.34', '2.525', '3.18', '1.093', '2.672', '1.676', '1.943', '1.904', '1.356', '1.903', '2.294', '2.042', '2.017', '1.794', '1.966', '1.762', '1.756', '2.673', '1.802', '2.959', '1.989', '2.152', '1.67', '1.597', '2.082', '1.919', '1.768', '2.46', '1.793', '2.53', '2.26', '1.81', '1.763', '2.069', '2.228', '1.541', '1.819', '1.595', '1.886', '2.322', '2.716', '2.261', '1.49', '1.503', '2.001', '1.285', '1.928', '2.799', '1.815', '1.939', '2.407', '1.939', '1.58', '2.865', '1.277', '2.096', '2.418', '1.639', '1.543', '3.043', '1.95', '2.405', '2.777', '1.783', '1.346', '1.817', '2.222', '3.005', '1.751', '3.272', '1.519', '1.319', '1.523', '1.887', '3.298', '2.506', '2.106', '2.181', '2.144', '2.223', '1.759', '2.045', '1.928', '2.736', '1.718', '1.916', '2.238', '2.752', '1.679', '2.395', '2.044', '2.734', '1.902', '3.34', '2.442', '1.773', '2.31', '3.588', '2.016', '1.781', '1.98', '1.926', '1.938', '1.47', '1.319', '2.151', '2.416', '1.515', '2.146', '2.544', '2.018', '1.556', '2.132', '1.855', '2.231', '2.018', '2.403', '1.396', '1.761', '2.914', '1.318', '1.378', '1.787', '1.989', '2.132', '2.703', '3.118', '2.269', '2.689', '1.718', '2.05', '1.898', '1.334', '1.492', '2.113', '1.293', '1.972', '2.167', '2.012', '2.441', '2.567', '1.627', '1.558', '2.56', '1.406', '1.923', '2.037', '1.708', '2.011', '1.794', '2.063', '1.874', '2.037', '1.879', '1.898', '2.166', '2.119', '2.308', '1.459', '2.068', '1.437', '1.735', '2.434', '1.295', '2.763', '3.138', '1.145', '2.543', '1.65', '1.97', '1.967', '1.334', '1.913', '2.281', '1.921', '2.008', '1.814', '1.98', '1.709', '1.781', '2.597', '1.924', '2.981', '2.144', '2.113', '1.649', '1.637', '2.038', '1.847', '1.851', '2.625', '1.684', '2.685', '2.409', '1.799', '1.757', '2.136', '2.27', '1.591', '1.914', '1.496', '1.854', '2.579', '2.645', '2.338', '1.531', '1.486', '2.021', '1.278', '1.919', '2.821', '1.883', '2.022', '2.34', '2.03', '1.505', '2.879', '1.336', '2.005', '2.427', '1.601', '1.559', '2.973', '2.061', '2.377', '2.88', '1.798', '1.341', '1.844', '2.18', '3.1', '1.802', '3.21', '1.548', '1.298', '1.521', '1.888', '3.281', '2.556', '2.17', '2.154', '2.043', '2.136', '1.79', '2.024', '1.964', '2.731', '1.66', '1.963', '2.326', '2.524', '1.782', '2.539', '2.058', '2.757', '1.828', '3.351', '2.358', '1.94', '2.306', '3.184', '1.997', '1.823', '1.7', '1.867', '2.129', '1.461', '1.371', '2.29', '2.264', '1.506', '2.067', '1.704', '2.109', '1.651', '2.049', '1.816', '2.126', '1.998', '1.965', '1.64', '1.774', '2.66', '1.369', '1.404', '1.643', '2.089', '2.299', '2.066', '2.758', '2.058', '2.602', '1.719', '2.076', '1.939', '1.446', '1.554', '1.895', '1.236', '2.045', '2.305', '2.035', '2.284', '2.457', '1.574', '1.676', '2.421', '1.352', '1.74', '2.014', '1.713', '2.448', '1.732', '2.059', '2.002', '2.192', '1.891', '2.047', '2.202', '1.956', '2.247', '1.592', '1.976', '1.506', '1.686', '2.351', '1.433', '2.565', '3.031', '1.204', '2.677', '1.677', '2.102', '1.925', '1.422', '2.127', '2.348', '2.461', '2.08', '1.807', '1.913', '1.611', '1.768', '2.329', '1.943', '2.481', '2.236', '1.852', '1.773', '1.732', '2.091', '1.978', '1.947', '2.423', '1.863', '2.17', '2.207', '1.975', '1.827', '1.834', '2.304', '1.624', '1.786', '1.629', '1.934', '2.054', '2.505', '1.928', '1.506', '1.544', '1.97', '1.326', '1.905', '2.96', '1.854', '2.017', '2.287', '1.955', '1.516', '2.882', '1.457', '1.963', '1.535', '1.55', '2.863', '2.149', '2.259', '3.04', '1.912', '1.445', '1.866', '2.201', '3.158', '1.992', '2.481', '1.602', '1.39', '1.427', '2.061', '2.607', '2.526', '1.872', '2.315', '2.17', '2.222', '1.812', '2.16', '1.988', '2.311', '1.623', '1.765', '2.296', '2.087', '1.602', '2.269', '2.261', '2.304', '1.926', '2.592', '2.348', '1.814', '2.344', '1.82', '2.12', '1.395', '1.328', '2.164', '2.336', '1.433', '2.133', '1.685', '2.011', '1.677', '1.879', '1.702', '2.139', '1.952', '1.952', '1.818', '1.796', '2.727', '1.33', '1.448', '1.631', '2.085', '2.308', '2.114', '2.773', '2.148', '2.659', '1.639', '2.077', '1.725', '1.445', '1.552', '2.013', '1.269', '1.987', '2.253', '2.145', '1.923', '2.445', '1.629', '1.693', '2.295', '1.344', '1.726', '1.985', '1.745', '2.708', '1.662', '2.065', '1.883', '2.191', '1.967', '1.964', '2.109', '2.045', '2.171', '1.642', '2.066', '1.389', '1.683', '2.363', '1.38', '2.431', '3.372', '1.133', '2.821', '1.588', '1.974', '1.817', '1.391', '2.107', '2.364', '2.368', '2.013', '1.722', '1.947', '1.591', '1.86', '2.596', '1.989', '2.068', '2.438', '1.861', '1.725', '1.701', '2.001', '1.981', '1.65', '2.115', '1.87', '2.125', '2.222', '2.019', '1.977', '1.798', '2.302', '1.607', '1.795', '1.649', '2.042', '1.974', '2.345', '1.866', '1.533', '1.345', '2.091', '1.314', '1.688', '2.629', '1.77', '1.982', '2.148', '1.958', '1.555', '2.84', '1.344', '1.842', '1.459', '1.541', '2.915', '1.916', '2.136', '3.081', '1.94', '1.544', '1.806', '2.008', '3.075', '1.901', '1.527', '1.336', '1.411', '1.888', '2.09', '2.781', '1.895', '2.244', '2.21', '2.041', '2.019', '2.078', '1.734', '2.354', '1.814', '1.735', '2.412', '2.088', '1.656', '2.26', '2.137', '2.263', '1.795', '2.357', '2.179', '1.909', '2.338', '3.235', '2.009', '1.779', '1.627', '1.886', '2.157', '1.42', '1.362', '2.234', '2.31', '1.479', '2.08', '1.784', '1.945', '1.684', '1.884', '1.773', '2.15', '2.002', '1.958', '1.837', '1.796', '2.622', '1.372', '1.471', '1.653', '2.075', '2.232', '2.03', '2.779', '2.083', '2.627', '1.643', '2.065', '1.715', '1.473', '1.553', '2.007', '1.274', '1.994', '2.275', '2.166', '1.882', '2.446', '1.693', '1.75', '2.343', '1.358', '1.74', '1.954', '1.759', '2.758', '1.76', '2.172', '1.883', '2.136', '1.867', '1.955', '2.073', '2.062', '2.15', '1.676', '2.094', '1.504', '1.675', '2.387', '1.452', '2.361', '3.373', '1.152', '2.728', '1.673', '1.969', '1.814', '1.388', '2.124', '2.358', '2.31', '2.098', '1.774', '1.95', '1.58', '1.819', '2.392', '1.968', '2.034', '2.505', '1.912', '1.692', '1.784', '1.993', '1.967', '1.91', '2.177', '1.922', '2.168', '2.296', '2.041', '1.993', '1.865', '2.354', '1.605', '1.821', '1.651', '2.061', '2.088', '2.351', '1.841', '1.521', '1.356', '1.991', '1.342', '1.727', '2.88', '1.747', '1.954', '2.227', '1.935', '1.589', '2.843', '1.356', '1.896', '1.422', '1.536', '2.991', '1.906', '2.086', '3.058', '1.852', '1.523', '1.777', '2.048', '3.151', '1.971', '1.524', '1.342', '1.421', '1.903', '2.189', '2.775', '1.893', '2.325', '2.175', '2.028', '1.913', '2.049', '1.778', '2.466', '1.785', '1.74', '2.342', '2.174', '1.665', '2.352', '2.126', '2.284', '1.825', '2.438', '2.391', '1.851', '2.588']\n",
      "2.02\n"
     ]
    }
   ],
   "source": [
    "def media_globale_anno():\n",
    "    anni = cattegorie(index_csv, 2)\n",
    "    scores = []\n",
    "    for anno in anni:\n",
    "        with open(file=index_csv, mode='r', encoding='utf-8') as fp:\n",
    "            line = fp.readline()\n",
    "            line = fp.readline()\n",
    "            while line:\n",
    "                line_x = line.strip().split(sep=',')\n",
    "                if line_x[2] == anno:\n",
    "                    scores.append(line_x[3])\n",
    "                    line = fp.readline()\n",
    "                else:\n",
    "                    line = fp.readline()\n",
    "    \n",
    "    scores = list(filter(None, scores))\n",
    "    print(scores)\n",
    "    scores = list(map(float, scores))\n",
    "    media = round(reduce(lambda x, y: x + y, scores) / float(len(scores)), 2)\n",
    "    print(media)\n",
    "\n",
    "media_globale_anno()"
   ]
  }
 ],
 "metadata": {
  "kernelspec": {
   "display_name": "Python 3",
   "language": "python",
   "name": "python3"
  },
  "language_info": {
   "codemirror_mode": {
    "name": "ipython",
    "version": 3
   },
   "file_extension": ".py",
   "mimetype": "text/x-python",
   "name": "python",
   "nbconvert_exporter": "python",
   "pygments_lexer": "ipython3",
   "version": "3.11.5"
  }
 },
 "nbformat": 4,
 "nbformat_minor": 2
}
