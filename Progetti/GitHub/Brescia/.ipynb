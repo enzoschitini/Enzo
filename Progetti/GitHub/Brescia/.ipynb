{
 "cells": [
  {
   "cell_type": "code",
   "execution_count": 12,
   "metadata": {},
   "outputs": [],
   "source": [
    "import pandas as pd\n",
    "import seaborn as sns\n",
    "import matplotlib.pyplot as plt\n",
    "import time\n",
    "from functools import reduce\n",
    "\n",
    "from adige import valore_abbreviato\n",
    "from adige import ArquivoCSV\n",
    "\n",
    "index_csv = './index.csv'\n",
    "paese_nome = 'Italy'"
   ]
  },
  {
   "cell_type": "code",
   "execution_count": 13,
   "metadata": {},
   "outputs": [],
   "source": [
    "def cattegorie(file, colonna:int):\n",
    "    csv = ArquivoCSV(file)\n",
    "    lista = list(set(csv.extrair_coluna(colonna)))\n",
    "    return list(filter(None, lista))"
   ]
  },
  {
   "cell_type": "code",
   "execution_count": 14,
   "metadata": {},
   "outputs": [
    {
     "name": "stdout",
     "output_type": "stream",
     "text": [
      "['Italy,ITA,2008,1.588,1.752,1.073,2.041', 'Italy,ITA,2009,1.673,1.948,1.08,2.033', 'Italy,ITA,2010,1.636,1.852,1.083,2.045', 'Italy,ITA,2011,1.655,1.932,1.073,1.996', 'Italy,ITA,2012,1.677,1.961,1.057,2.059', 'Italy,ITA,2013,1.703,2.028,1.057,2.045', 'Italy,ITA,2014,1.667,1.954,1.057,2.031', 'Italy,ITA,2015,1.668,2.014,1.062,1.919', 'Italy,ITA,2016,1.662,1.994,1.067,1.924', 'Italy,ITA,2017,1.649,1.973,1.064,1.913', 'Italy,ITA,2018,1.701,2.095,1.057,1.922', 'Italy,ITA,2019,1.676,2.018,1.055,1.96', 'Italy,ITA,2020,1.63,1.945,1.048,1.909', 'Italy,ITA,2021,1.65,1.969,1.041,1.957', 'Italy,ITA,2022,1.642,1.924,1.041,2.003', 'Italy,ITA,2023,1.662,1.93,1.046,2.07']\n",
      "16\n"
     ]
    },
    {
     "data": {
      "text/plain": [
       "'Italy,ITA,2008,1.588,1.752,1.073,2.041'"
      ]
     },
     "execution_count": 14,
     "metadata": {},
     "output_type": "execute_result"
    }
   ],
   "source": [
    "def trovare_paese(paese:str) -> list:\n",
    "    paesi = []\n",
    "    with open(file=index_csv, mode='r', encoding='utf-8') as fp:\n",
    "        line = fp.readline()\n",
    "        line = fp.readline()\n",
    "        while line:\n",
    "            line = line.strip()\n",
    "            line_x = line.split(sep=',')\n",
    "            if line_x[0] == paese:\n",
    "                paesi.append(line)\n",
    "                line = fp.readline()\n",
    "            else:\n",
    "                line = fp.readline()\n",
    "    return paesi\n",
    "\n",
    "print(trovare_paese(paese_nome))\n",
    "print(len(trovare_paese(paese_nome)))\n",
    "trovare_paese(paese_nome)[0]"
   ]
  },
  {
   "cell_type": "code",
   "execution_count": 15,
   "metadata": {},
   "outputs": [
    {
     "name": "stdout",
     "output_type": "stream",
     "text": [
      "['1.588', '1.673', '1.636', '1.655', '1.677', '1.703', '1.667', '1.668', '1.662', '1.649', '1.701', '1.676', '1.63', '1.65', '1.642', '1.662']\n"
     ]
    }
   ],
   "source": [
    "def calcoli_paese(paesi:list):\n",
    "\n",
    "    overall_scores = []\n",
    "    safety_security = []\n",
    "    ongoing_conflict = []\n",
    "    militarian = []\n",
    "\n",
    "    for x in paesi:\n",
    "        x = str(x)\n",
    "        x_sep = x.split(sep=',')\n",
    "        overall_scores.append((x_sep)[3])\n",
    "        safety_security.append((x_sep)[4])\n",
    "        ongoing_conflict.append((x_sep)[5])\n",
    "        militarian.append((x_sep)[6])\n",
    "    \n",
    "    return overall_scores, safety_security, ongoing_conflict, militarian\n",
    "\n",
    "overall_scores = calcoli_paese(trovare_paese(paese_nome))[0]\n",
    "print(overall_scores)"
   ]
  },
  {
   "cell_type": "code",
   "execution_count": 16,
   "metadata": {},
   "outputs": [
    {
     "data": {
      "text/plain": [
       "['Italy', 1.66, 1.96, 1.06, 1.99]"
      ]
     },
     "execution_count": 16,
     "metadata": {},
     "output_type": "execute_result"
    }
   ],
   "source": [
    "def grafico_paese(paese:str):\n",
    "    # Gli anni\n",
    "    anni = list(map(int, cattegorie(index_csv, 2)))\n",
    "    anni.sort()\n",
    "    #print(anni) \n",
    "    # Dati prelevati\n",
    "    overall_scores = list(map(float, calcoli_paese(trovare_paese(paese))[0]))\n",
    "    safety_security = list(map(float, calcoli_paese(trovare_paese(paese))[1]))\n",
    "    ongoing_conflict = list(map(float, calcoli_paese(trovare_paese(paese))[2]))\n",
    "    militarian = list(map(float, calcoli_paese(trovare_paese(paese))[3]))\n",
    "    #print(overall_scores)\n",
    "    # Le medie\n",
    "    overall_scores_media = round(reduce(lambda x, y: x + y, overall_scores) / len(anni), 2)\n",
    "    safety_security_media = round(reduce(lambda x, y: x + y, safety_security) / len(anni), 2)\n",
    "    ongoing_conflict_media = round(reduce(lambda x, y: x + y, ongoing_conflict) / len(anni), 2)\n",
    "    militarian_media = round(reduce(lambda x, y: x + y, militarian) / len(anni), 2)\n",
    "    medie = [paese, overall_scores_media, safety_security_media, ongoing_conflict_media, militarian_media]\n",
    "    #print(f'Le medie di {paese_nome} sono: \\nPontuação geral: {overall_scores_media} \\nSegurança e proteção: {safety_security_media} \\nConflito contínuo: {ongoing_conflict_media}  \\nMilitar: {militarian_media}.')\n",
    "\n",
    "    return medie\n",
    "\n",
    "grafico_paese(paese=paese_nome)"
   ]
  },
  {
   "cell_type": "code",
   "execution_count": 17,
   "metadata": {},
   "outputs": [],
   "source": [
    "def medie_paesi_periodo():\n",
    "    paesi = cattegorie(index_csv, 0)\n",
    "    print(paesi)\n",
    "    tutti = []\n",
    "    for x in paesi:\n",
    "        tutti.append(grafico_paese(paese=x))\n",
    "        #print(grafico_paese(paese=x))\n",
    "    #print(tutti)\n",
    "    return tutti"
   ]
  },
  {
   "cell_type": "code",
   "execution_count": 18,
   "metadata": {},
   "outputs": [
    {
     "name": "stdout",
     "output_type": "stream",
     "text": [
      "['Uzbekistan', 'Cameroon', 'Chad', 'Czech Republic', 'Dominican Republic', 'Guinea-Bissau', 'Japan', 'Ireland', 'Papua New Guinea', 'Iraq', 'Montenegro', 'Iceland', 'Mozambique', 'Canada', 'France', 'Guyana', 'Yemen', 'Zambia', 'Bolivia', 'Senegal', 'Palestine', 'Honduras', 'Argentina', 'Cuba', 'Democratic Republic of the Congo', 'Zimbabwe', \"Cote d' Ivoire\", 'Cambodia', 'New Zealand', 'Costa Rica', 'Colombia', 'Norway', 'Bosnia and Herzegovina', 'Benin', 'Burkina Faso', 'Egypt', 'India', 'Botswana', 'Kenya', 'Austria', 'Tajikistan', 'Pakistan', 'Malawi', 'Peru', 'Cyprus', 'Taiwan', 'Iran', 'Belgium', 'Kuwait', 'Turkiye', 'Central African Republic', 'Republic of the Congo', 'Eswatini', 'Turkmenistan', 'United Kingdom', 'Armenia', 'Moldova', 'Vietnam', 'Guinea', 'Jamaica', 'Malaysia', 'Afghanistan', 'Tanzania', 'United Arab Emirates', 'Gabon', 'Djibouti', 'Nigeria', 'Estonia', 'Qatar', 'Sudan', 'Bangladesh', 'Portugal', 'Madagascar', 'Sierra Leone', 'South Africa', 'Ethiopia', 'Sweden', 'Chile', 'Nepal', 'Ukraine', 'Mauritania', 'Nicaragua', 'China', 'Kyrgyz Republic', 'Mongolia', 'Kazakhstan', 'Latvia', 'El Salvador', 'Romania', 'Angola', 'South Sudan', 'Germany', 'Ecuador', 'Jordan', 'Singapore', 'Israel', 'Morocco', 'Uruguay', 'Slovakia', 'Algeria', 'Togo', 'Thailand', 'Bhutan', 'Bahrain', 'Ghana', 'Spain', 'Finland', 'Rwanda', 'Poland', 'Mauritius', 'Lithuania', 'Timor-Leste', 'Paraguay', 'Bulgaria', 'Saudi Arabia', 'Uganda', 'Switzerland', 'South Korea', 'Oman', 'Haiti', 'Greece', 'Laos', 'Netherlands', 'Niger', 'Namibia', 'Mali', 'Libya', 'Slovenia', 'Croatia', 'Hungary', 'Albania', 'Russia', 'Indonesia', 'The Gambia', 'North Korea', 'Myanmar', 'Kosovo', 'Serbia', 'Eritrea', 'Panama', 'Lebanon', 'Australia', 'Guatemala', 'Venezuela', 'Belarus', 'Liberia', 'North Macedonia', 'Sri Lanka', 'Philippines', 'Tunisia', 'Burundi', 'Brazil', 'Denmark', 'Lesotho', 'Trinidad and Tobago', 'Syria', 'United States of America', 'Italy', 'Somalia', 'Mexico', 'Azerbaijan', 'Georgia', 'Equatorial Guinea']\n",
      "['Uzbekistan/ 2.12/ 2.37/ 1.86/ 2.07', 'Cameroon/ 2.33/ 2.76/ 2.21/ 1.78', 'Chad/ 2.55/ 2.89/ 2.5/ 2.11', 'Czech Republic/ 1.39/ 1.63/ 1.13/ 1.29', 'Dominican Republic/ 2.03/ 2.67/ 1.37/ 1.81', 'Guinea-Bissau/ 2.13/ 2.45/ 1.7/ 2.23', 'Japan/ 1.36/ 1.3/ 1.4/ 1.39', 'Ireland/ 1.38/ 1.54/ 1.2/ 1.39', 'Papua New Guinea/ 1.96/ 2.48/ 1.44/ 1.81', 'Iraq/ 3.16/ 3.82/ 2.94/ 2.39', 'Montenegro/ 1.86/ 2.23/ 1.42/ 1.85', 'Iceland/ 1.14/ 1.24/ 1.03/ 1.12', 'Mozambique/ 2.01/ 2.41/ 1.74/ 1.74', 'Canada/ 1.34/ 1.44/ 1.08/ 1.55', 'France/ 1.81/ 1.74/ 1.21/ 2.77', 'Guyana/ 2.05/ 2.8/ 1.45/ 1.57', 'Yemen/ 2.91/ 3.28/ 2.84/ 2.42', 'Zambia/ 1.82/ 2.36/ 1.25/ 1.69', 'Bolivia/ 1.98/ 2.4/ 1.47/ 1.98', 'Senegal/ 1.84/ 2.06/ 1.74/ 1.64', 'Palestine/ 1.23/ 1.32/ 1.29/ 0.99', 'Honduras/ 2.19/ 2.89/ 1.53/ 1.89', 'Argentina/ 1.91/ 2.55/ 1.36/ 1.55', 'Cuba/ 2.05/ 2.52/ 1.8/ 1.57', 'Democratic Republic of the Congo/ 2.94/ 3.54/ 2.9/ 2.03', 'Zimbabwe/ 2.31/ 2.73/ 1.99/ 2.06', \"Cote d' Ivoire/ 2.19/ 2.76/ 1.79/ 1.8\", 'Cambodia/ 2.04/ 2.43/ 1.57/ 2.04', 'New Zealand/ 1.3/ 1.55/ 1.04/ 1.24', 'Costa Rica/ 1.72/ 2.14/ 1.25/ 1.65', 'Colombia/ 2.64/ 3.42/ 2.14/ 1.96', 'Norway/ 1.47/ 1.28/ 1.16/ 2.31', 'Bosnia and Herzegovina/ 1.82/ 2.12/ 1.63/ 1.57', 'Benin/ 2.05/ 2.34/ 1.85/ 1.86', 'Burkina Faso/ 2.06/ 2.43/ 1.79/ 1.81', 'Egypt/ 2.28/ 2.61/ 2.08/ 2.01', 'India/ 2.37/ 2.28/ 2.5/ 2.47', 'Botswana/ 1.79/ 2.44/ 1.0/ 1.75', 'Kenya/ 2.34/ 2.74/ 2.24/ 1.87', 'Austria/ 1.31/ 1.44/ 1.05/ 1.45', 'Tajikistan/ 2.12/ 2.35/ 2.15/ 1.75', 'Pakistan/ 2.87/ 2.92/ 3.11/ 2.57', 'Malawi/ 1.83/ 2.17/ 1.47/ 1.78', 'Peru/ 2.0/ 2.52/ 1.49/ 1.81', 'Cyprus/ 1.88/ 2.17/ 1.6/ 1.65', 'Taiwan/ 1.69/ 1.64/ 1.65/ 1.85', 'Iran/ 2.53/ 2.78/ 2.56/ 2.09', 'Belgium/ 1.49/ 1.73/ 1.1/ 1.61', 'Kuwait/ 1.67/ 1.74/ 1.43/ 1.91', 'Turkiye/ 2.54/ 2.8/ 2.61/ 2.02', 'Central African Republic/ 2.89/ 3.45/ 2.67/ 2.22', 'Republic of the Congo/ 2.17/ 2.7/ 1.66/ 2.0', 'Eswatini/ 1.98/ 2.61/ 1.35/ 1.74', 'Turkmenistan/ 2.15/ 2.55/ 1.75/ 2.04', 'United Kingdom/ 1.73/ 1.73/ 1.14/ 2.55', 'Armenia/ 2.06/ 2.09/ 2.01/ 2.08', 'Moldova/ 1.92/ 2.31/ 1.86/ 1.33', 'Vietnam/ 1.86/ 2.14/ 1.38/ 2.03', 'Guinea/ 2.15/ 2.63/ 1.59/ 2.11', 'Jamaica/ 1.99/ 2.76/ 1.2/ 1.78', 'Malaysia/ 1.59/ 2.09/ 1.07/ 1.39', 'Afghanistan/ 3.14/ 3.64/ 3.13/ 2.35', 'Tanzania/ 1.86/ 2.33/ 1.55/ 1.5', 'United Arab Emirates/ 1.71/ 1.69/ 1.33/ 2.29', 'Gabon/ 2.03/ 2.5/ 1.59/ 1.84', 'Djibouti/ 2.07/ 2.31/ 1.79/ 2.1', 'Nigeria/ 2.59/ 3.09/ 2.58/ 1.84', 'Estonia/ 1.63/ 1.81/ 1.46/ 1.52', 'Qatar/ 1.56/ 1.49/ 1.32/ 2.04', 'Sudan/ 2.98/ 3.27/ 3.1/ 2.37', 'Bangladesh/ 2.02/ 2.41/ 1.81/ 1.66', 'Portugal/ 1.36/ 1.58/ 1.07/ 1.37', 'Madagascar/ 1.85/ 2.27/ 1.56/ 1.52', 'Sierra Leone/ 1.81/ 2.17/ 1.45/ 1.68', 'South Africa/ 2.35/ 3.15/ 1.79/ 1.75', 'Ethiopia/ 2.42/ 2.65/ 2.54/ 1.92', 'Sweden/ 1.47/ 1.38/ 1.19/ 2.03', 'Chile/ 1.68/ 2.09/ 1.09/ 1.82', 'Nepal/ 2.0/ 2.51/ 1.51/ 1.78', 'Ukraine/ 2.53/ 2.81/ 2.43/ 2.2', 'Mauritania/ 2.24/ 2.79/ 1.7/ 2.06', 'Nicaragua/ 2.02/ 2.52/ 1.63/ 1.71', 'China/ 2.07/ 2.26/ 1.84/ 2.05', 'Kyrgyz Republic/ 2.18/ 2.47/ 2.03/ 1.94', 'Mongolia/ 1.82/ 2.4/ 1.35/ 1.42', 'Kazakhstan/ 2.01/ 2.46/ 1.63/ 1.8', 'Latvia/ 1.65/ 1.98/ 1.39/ 1.42', 'El Salvador/ 2.16/ 2.95/ 1.49/ 1.73', 'Romania/ 1.56/ 1.8/ 1.15/ 1.73', 'Angola/ 1.86/ 2.24/ 1.49/ 1.73', 'South Sudan/ 2.35/ 2.75/ 2.25/ 1.77', 'Germany/ 1.5/ 1.56/ 1.08/ 1.98', 'Ecuador/ 2.02/ 2.52/ 1.58/ 1.76', 'Jordan/ 1.91/ 2.12/ 1.55/ 2.06', 'Singapore/ 1.41/ 1.32/ 1.06/ 2.11', 'Israel/ 2.66/ 2.35/ 2.21/ 3.88', 'Morocco/ 2.03/ 2.27/ 1.89/ 1.82', 'Uruguay/ 1.68/ 2.18/ 1.04/ 1.69', 'Slovakia/ 1.55/ 1.75/ 1.44/ 1.36', 'Algeria/ 2.22/ 2.44/ 2.07/ 2.12', 'Togo/ 1.97/ 2.37/ 1.59/ 1.81', 'Thailand/ 2.22/ 2.83/ 1.99/ 1.5', 'Bhutan/ 1.58/ 1.75/ 1.43/ 1.44', 'Bahrain/ 2.11/ 2.41/ 1.89/ 1.94', 'Ghana/ 1.76/ 2.03/ 1.49/ 1.7', 'Spain/ 1.6/ 1.79/ 1.21/ 1.83', 'Finland/ 1.38/ 1.31/ 1.16/ 1.83', 'Rwanda/ 2.08/ 2.35/ 1.96/ 1.76', 'Poland/ 1.55/ 1.68/ 1.37/ 1.57', 'Mauritius/ 1.57/ 2.12/ 1.0/ 1.39', 'Lithuania/ 1.7/ 2.0/ 1.37/ 1.62', 'Timor-Leste/ 1.83/ 2.18/ 1.4/ 1.83', 'Paraguay/ 1.99/ 2.52/ 1.48/ 1.81', 'Bulgaria/ 1.62/ 2.01/ 1.06/ 1.74', 'Saudi Arabia/ 2.25/ 2.29/ 2.06/ 2.51', 'Uganda/ 2.27/ 2.72/ 2.04/ 1.81', 'Switzerland/ 1.39/ 1.33/ 1.02/ 2.04', 'South Korea/ 1.79/ 1.57/ 1.8/ 2.14', 'Oman/ 1.88/ 1.96/ 1.31/ 2.61', 'Haiti/ 2.06/ 2.56/ 1.68/ 1.78', 'Greece/ 1.94/ 1.99/ 1.66/ 2.29', 'Laos/ 1.78/ 2.04/ 1.43/ 1.83', 'Netherlands/ 1.5/ 1.47/ 1.07/ 2.17', 'Niger/ 2.24/ 2.56/ 2.18/ 1.83', 'Namibia/ 1.92/ 2.52/ 1.25/ 1.84', 'Mali/ 2.42/ 2.86/ 2.26/ 1.97', 'Libya/ 2.63/ 2.95/ 2.54/ 2.27', 'Slovenia/ 1.34/ 1.33/ 1.43/ 1.25', 'Croatia/ 1.56/ 1.72/ 1.29/ 1.67', 'Hungary/ 1.5/ 1.71/ 1.44/ 1.2', 'Albania/ 1.67/ 2.04/ 1.22/ 1.66', 'Russia/ 2.97/ 3.12/ 2.59/ 3.27', 'Indonesia/ 1.72/ 2.09/ 1.48/ 1.41', 'The Gambia/ 1.96/ 2.4/ 1.58/ 1.72', 'North Korea/ 2.89/ 2.94/ 2.57/ 3.27', 'Myanmar/ 2.25/ 2.53/ 2.28/ 1.78', 'Kosovo/ 1.94/ 2.28/ 1.8/ 1.57', 'Serbia/ 1.87/ 2.12/ 1.65/ 1.74', 'Eritrea/ 2.5/ 3.28/ 1.85/ 1.89', 'Panama/ 1.84/ 2.46/ 1.25/ 1.58', 'Lebanon/ 2.51/ 2.59/ 2.59/ 2.29', 'Australia/ 1.44/ 1.56/ 1.11/ 1.69', 'Guatemala/ 2.13/ 2.79/ 1.65/ 1.7', 'Venezuela/ 2.53/ 3.23/ 1.98/ 2.12', 'Belarus/ 2.12/ 2.4/ 1.88/ 1.97', 'Liberia/ 1.92/ 2.37/ 1.43/ 1.83', 'North Macedonia/ 1.86/ 2.11/ 1.59/ 1.84', 'Sri Lanka/ 2.19/ 2.44/ 1.97/ 2.11', 'Philippines/ 2.29/ 2.72/ 2.25/ 1.69', 'Tunisia/ 1.93/ 2.33/ 1.7/ 1.59', 'Burundi/ 2.39/ 2.81/ 2.29/ 1.8', 'Brazil/ 2.17/ 3.0/ 1.3/ 1.96', 'Denmark/ 1.27/ 1.3/ 1.16/ 1.38', 'Lesotho/ 1.98/ 2.48/ 1.48/ 1.81', 'Trinidad and Tobago/ 2.04/ 2.75/ 1.21/ 1.99', 'Syria/ 2.98/ 3.18/ 3.19/ 2.38', 'United States of America/ 2.32/ 2.22/ 1.9/ 3.07', 'Italy/ 1.66/ 1.96/ 1.06/ 1.99', 'Somalia/ 3.09/ 3.53/ 3.17/ 2.22', 'Mexico/ 2.38/ 3.02/ 2.12/ 1.72', 'Azerbaijan/ 2.22/ 2.4/ 2.04/ 2.14', 'Georgia/ 2.26/ 2.58/ 2.08/ 1.92', 'Equatorial Guinea/ 1.88/ 2.22/ 1.45/ 1.91']\n"
     ]
    }
   ],
   "source": [
    "def lista_string():\n",
    "   tutti = medie_paesi_periodo()\n",
    "   lista = []\n",
    "   for x in tutti:\n",
    "      x = [str(elemento) for elemento in x]\n",
    "      stringa = '/ '.join(x)\n",
    "      lista.append(stringa)\n",
    "      #print(stringa)\n",
    "   return lista\n",
    "\n",
    "lista = lista_string()\n",
    "print(lista)"
   ]
  },
  {
   "cell_type": "code",
   "execution_count": 19,
   "metadata": {},
   "outputs": [
    {
     "name": "stdout",
     "output_type": "stream",
     "text": [
      "['Uzbekistan', 'Cameroon', 'Chad', 'Czech Republic', 'Dominican Republic', 'Guinea-Bissau', 'Japan', 'Ireland', 'Papua New Guinea', 'Iraq', 'Montenegro', 'Iceland', 'Mozambique', 'Canada', 'France', 'Guyana', 'Yemen', 'Zambia', 'Bolivia', 'Senegal', 'Palestine', 'Honduras', 'Argentina', 'Cuba', 'Democratic Republic of the Congo', 'Zimbabwe', \"Cote d' Ivoire\", 'Cambodia', 'New Zealand', 'Costa Rica', 'Colombia', 'Norway', 'Bosnia and Herzegovina', 'Benin', 'Burkina Faso', 'Egypt', 'India', 'Botswana', 'Kenya', 'Austria', 'Tajikistan', 'Pakistan', 'Malawi', 'Peru', 'Cyprus', 'Taiwan', 'Iran', 'Belgium', 'Kuwait', 'Turkiye', 'Central African Republic', 'Republic of the Congo', 'Eswatini', 'Turkmenistan', 'United Kingdom', 'Armenia', 'Moldova', 'Vietnam', 'Guinea', 'Jamaica', 'Malaysia', 'Afghanistan', 'Tanzania', 'United Arab Emirates', 'Gabon', 'Djibouti', 'Nigeria', 'Estonia', 'Qatar', 'Sudan', 'Bangladesh', 'Portugal', 'Madagascar', 'Sierra Leone', 'South Africa', 'Ethiopia', 'Sweden', 'Chile', 'Nepal', 'Ukraine', 'Mauritania', 'Nicaragua', 'China', 'Kyrgyz Republic', 'Mongolia', 'Kazakhstan', 'Latvia', 'El Salvador', 'Romania', 'Angola', 'South Sudan', 'Germany', 'Ecuador', 'Jordan', 'Singapore', 'Israel', 'Morocco', 'Uruguay', 'Slovakia', 'Algeria', 'Togo', 'Thailand', 'Bhutan', 'Bahrain', 'Ghana', 'Spain', 'Finland', 'Rwanda', 'Poland', 'Mauritius', 'Lithuania', 'Timor-Leste', 'Paraguay', 'Bulgaria', 'Saudi Arabia', 'Uganda', 'Switzerland', 'South Korea', 'Oman', 'Haiti', 'Greece', 'Laos', 'Netherlands', 'Niger', 'Namibia', 'Mali', 'Libya', 'Slovenia', 'Croatia', 'Hungary', 'Albania', 'Russia', 'Indonesia', 'The Gambia', 'North Korea', 'Myanmar', 'Kosovo', 'Serbia', 'Eritrea', 'Panama', 'Lebanon', 'Australia', 'Guatemala', 'Venezuela', 'Belarus', 'Liberia', 'North Macedonia', 'Sri Lanka', 'Philippines', 'Tunisia', 'Burundi', 'Brazil', 'Denmark', 'Lesotho', 'Trinidad and Tobago', 'Syria', 'United States of America', 'Italy', 'Somalia', 'Mexico', 'Azerbaijan', 'Georgia', 'Equatorial Guinea']\n",
      "['Uzbekistan/ 2.12/ 2.37/ 1.86/ 2.07', 'Cameroon/ 2.33/ 2.76/ 2.21/ 1.78', 'Chad/ 2.55/ 2.89/ 2.5/ 2.11', 'Czech Republic/ 1.39/ 1.63/ 1.13/ 1.29', 'Dominican Republic/ 2.03/ 2.67/ 1.37/ 1.81', 'Guinea-Bissau/ 2.13/ 2.45/ 1.7/ 2.23', 'Japan/ 1.36/ 1.3/ 1.4/ 1.39', 'Ireland/ 1.38/ 1.54/ 1.2/ 1.39', 'Papua New Guinea/ 1.96/ 2.48/ 1.44/ 1.81', 'Iraq/ 3.16/ 3.82/ 2.94/ 2.39', 'Montenegro/ 1.86/ 2.23/ 1.42/ 1.85', 'Iceland/ 1.14/ 1.24/ 1.03/ 1.12', 'Mozambique/ 2.01/ 2.41/ 1.74/ 1.74', 'Canada/ 1.34/ 1.44/ 1.08/ 1.55', 'France/ 1.81/ 1.74/ 1.21/ 2.77', 'Guyana/ 2.05/ 2.8/ 1.45/ 1.57', 'Yemen/ 2.91/ 3.28/ 2.84/ 2.42', 'Zambia/ 1.82/ 2.36/ 1.25/ 1.69', 'Bolivia/ 1.98/ 2.4/ 1.47/ 1.98', 'Senegal/ 1.84/ 2.06/ 1.74/ 1.64', 'Palestine/ 1.23/ 1.32/ 1.29/ 0.99', 'Honduras/ 2.19/ 2.89/ 1.53/ 1.89', 'Argentina/ 1.91/ 2.55/ 1.36/ 1.55', 'Cuba/ 2.05/ 2.52/ 1.8/ 1.57', 'Democratic Republic of the Congo/ 2.94/ 3.54/ 2.9/ 2.03', 'Zimbabwe/ 2.31/ 2.73/ 1.99/ 2.06', \"Cote d' Ivoire/ 2.19/ 2.76/ 1.79/ 1.8\", 'Cambodia/ 2.04/ 2.43/ 1.57/ 2.04', 'New Zealand/ 1.3/ 1.55/ 1.04/ 1.24', 'Costa Rica/ 1.72/ 2.14/ 1.25/ 1.65', 'Colombia/ 2.64/ 3.42/ 2.14/ 1.96', 'Norway/ 1.47/ 1.28/ 1.16/ 2.31', 'Bosnia and Herzegovina/ 1.82/ 2.12/ 1.63/ 1.57', 'Benin/ 2.05/ 2.34/ 1.85/ 1.86', 'Burkina Faso/ 2.06/ 2.43/ 1.79/ 1.81', 'Egypt/ 2.28/ 2.61/ 2.08/ 2.01', 'India/ 2.37/ 2.28/ 2.5/ 2.47', 'Botswana/ 1.79/ 2.44/ 1.0/ 1.75', 'Kenya/ 2.34/ 2.74/ 2.24/ 1.87', 'Austria/ 1.31/ 1.44/ 1.05/ 1.45', 'Tajikistan/ 2.12/ 2.35/ 2.15/ 1.75', 'Pakistan/ 2.87/ 2.92/ 3.11/ 2.57', 'Malawi/ 1.83/ 2.17/ 1.47/ 1.78', 'Peru/ 2.0/ 2.52/ 1.49/ 1.81', 'Cyprus/ 1.88/ 2.17/ 1.6/ 1.65', 'Taiwan/ 1.69/ 1.64/ 1.65/ 1.85', 'Iran/ 2.53/ 2.78/ 2.56/ 2.09', 'Belgium/ 1.49/ 1.73/ 1.1/ 1.61', 'Kuwait/ 1.67/ 1.74/ 1.43/ 1.91', 'Turkiye/ 2.54/ 2.8/ 2.61/ 2.02', 'Central African Republic/ 2.89/ 3.45/ 2.67/ 2.22', 'Republic of the Congo/ 2.17/ 2.7/ 1.66/ 2.0', 'Eswatini/ 1.98/ 2.61/ 1.35/ 1.74', 'Turkmenistan/ 2.15/ 2.55/ 1.75/ 2.04', 'United Kingdom/ 1.73/ 1.73/ 1.14/ 2.55', 'Armenia/ 2.06/ 2.09/ 2.01/ 2.08', 'Moldova/ 1.92/ 2.31/ 1.86/ 1.33', 'Vietnam/ 1.86/ 2.14/ 1.38/ 2.03', 'Guinea/ 2.15/ 2.63/ 1.59/ 2.11', 'Jamaica/ 1.99/ 2.76/ 1.2/ 1.78', 'Malaysia/ 1.59/ 2.09/ 1.07/ 1.39', 'Afghanistan/ 3.14/ 3.64/ 3.13/ 2.35', 'Tanzania/ 1.86/ 2.33/ 1.55/ 1.5', 'United Arab Emirates/ 1.71/ 1.69/ 1.33/ 2.29', 'Gabon/ 2.03/ 2.5/ 1.59/ 1.84', 'Djibouti/ 2.07/ 2.31/ 1.79/ 2.1', 'Nigeria/ 2.59/ 3.09/ 2.58/ 1.84', 'Estonia/ 1.63/ 1.81/ 1.46/ 1.52', 'Qatar/ 1.56/ 1.49/ 1.32/ 2.04', 'Sudan/ 2.98/ 3.27/ 3.1/ 2.37', 'Bangladesh/ 2.02/ 2.41/ 1.81/ 1.66', 'Portugal/ 1.36/ 1.58/ 1.07/ 1.37', 'Madagascar/ 1.85/ 2.27/ 1.56/ 1.52', 'Sierra Leone/ 1.81/ 2.17/ 1.45/ 1.68', 'South Africa/ 2.35/ 3.15/ 1.79/ 1.75', 'Ethiopia/ 2.42/ 2.65/ 2.54/ 1.92', 'Sweden/ 1.47/ 1.38/ 1.19/ 2.03', 'Chile/ 1.68/ 2.09/ 1.09/ 1.82', 'Nepal/ 2.0/ 2.51/ 1.51/ 1.78', 'Ukraine/ 2.53/ 2.81/ 2.43/ 2.2', 'Mauritania/ 2.24/ 2.79/ 1.7/ 2.06', 'Nicaragua/ 2.02/ 2.52/ 1.63/ 1.71', 'China/ 2.07/ 2.26/ 1.84/ 2.05', 'Kyrgyz Republic/ 2.18/ 2.47/ 2.03/ 1.94', 'Mongolia/ 1.82/ 2.4/ 1.35/ 1.42', 'Kazakhstan/ 2.01/ 2.46/ 1.63/ 1.8', 'Latvia/ 1.65/ 1.98/ 1.39/ 1.42', 'El Salvador/ 2.16/ 2.95/ 1.49/ 1.73', 'Romania/ 1.56/ 1.8/ 1.15/ 1.73', 'Angola/ 1.86/ 2.24/ 1.49/ 1.73', 'South Sudan/ 2.35/ 2.75/ 2.25/ 1.77', 'Germany/ 1.5/ 1.56/ 1.08/ 1.98', 'Ecuador/ 2.02/ 2.52/ 1.58/ 1.76', 'Jordan/ 1.91/ 2.12/ 1.55/ 2.06', 'Singapore/ 1.41/ 1.32/ 1.06/ 2.11', 'Israel/ 2.66/ 2.35/ 2.21/ 3.88', 'Morocco/ 2.03/ 2.27/ 1.89/ 1.82', 'Uruguay/ 1.68/ 2.18/ 1.04/ 1.69', 'Slovakia/ 1.55/ 1.75/ 1.44/ 1.36', 'Algeria/ 2.22/ 2.44/ 2.07/ 2.12', 'Togo/ 1.97/ 2.37/ 1.59/ 1.81', 'Thailand/ 2.22/ 2.83/ 1.99/ 1.5', 'Bhutan/ 1.58/ 1.75/ 1.43/ 1.44', 'Bahrain/ 2.11/ 2.41/ 1.89/ 1.94', 'Ghana/ 1.76/ 2.03/ 1.49/ 1.7', 'Spain/ 1.6/ 1.79/ 1.21/ 1.83', 'Finland/ 1.38/ 1.31/ 1.16/ 1.83', 'Rwanda/ 2.08/ 2.35/ 1.96/ 1.76', 'Poland/ 1.55/ 1.68/ 1.37/ 1.57', 'Mauritius/ 1.57/ 2.12/ 1.0/ 1.39', 'Lithuania/ 1.7/ 2.0/ 1.37/ 1.62', 'Timor-Leste/ 1.83/ 2.18/ 1.4/ 1.83', 'Paraguay/ 1.99/ 2.52/ 1.48/ 1.81', 'Bulgaria/ 1.62/ 2.01/ 1.06/ 1.74', 'Saudi Arabia/ 2.25/ 2.29/ 2.06/ 2.51', 'Uganda/ 2.27/ 2.72/ 2.04/ 1.81', 'Switzerland/ 1.39/ 1.33/ 1.02/ 2.04', 'South Korea/ 1.79/ 1.57/ 1.8/ 2.14', 'Oman/ 1.88/ 1.96/ 1.31/ 2.61', 'Haiti/ 2.06/ 2.56/ 1.68/ 1.78', 'Greece/ 1.94/ 1.99/ 1.66/ 2.29', 'Laos/ 1.78/ 2.04/ 1.43/ 1.83', 'Netherlands/ 1.5/ 1.47/ 1.07/ 2.17', 'Niger/ 2.24/ 2.56/ 2.18/ 1.83', 'Namibia/ 1.92/ 2.52/ 1.25/ 1.84', 'Mali/ 2.42/ 2.86/ 2.26/ 1.97', 'Libya/ 2.63/ 2.95/ 2.54/ 2.27', 'Slovenia/ 1.34/ 1.33/ 1.43/ 1.25', 'Croatia/ 1.56/ 1.72/ 1.29/ 1.67', 'Hungary/ 1.5/ 1.71/ 1.44/ 1.2', 'Albania/ 1.67/ 2.04/ 1.22/ 1.66', 'Russia/ 2.97/ 3.12/ 2.59/ 3.27', 'Indonesia/ 1.72/ 2.09/ 1.48/ 1.41', 'The Gambia/ 1.96/ 2.4/ 1.58/ 1.72', 'North Korea/ 2.89/ 2.94/ 2.57/ 3.27', 'Myanmar/ 2.25/ 2.53/ 2.28/ 1.78', 'Kosovo/ 1.94/ 2.28/ 1.8/ 1.57', 'Serbia/ 1.87/ 2.12/ 1.65/ 1.74', 'Eritrea/ 2.5/ 3.28/ 1.85/ 1.89', 'Panama/ 1.84/ 2.46/ 1.25/ 1.58', 'Lebanon/ 2.51/ 2.59/ 2.59/ 2.29', 'Australia/ 1.44/ 1.56/ 1.11/ 1.69', 'Guatemala/ 2.13/ 2.79/ 1.65/ 1.7', 'Venezuela/ 2.53/ 3.23/ 1.98/ 2.12', 'Belarus/ 2.12/ 2.4/ 1.88/ 1.97', 'Liberia/ 1.92/ 2.37/ 1.43/ 1.83', 'North Macedonia/ 1.86/ 2.11/ 1.59/ 1.84', 'Sri Lanka/ 2.19/ 2.44/ 1.97/ 2.11', 'Philippines/ 2.29/ 2.72/ 2.25/ 1.69', 'Tunisia/ 1.93/ 2.33/ 1.7/ 1.59', 'Burundi/ 2.39/ 2.81/ 2.29/ 1.8', 'Brazil/ 2.17/ 3.0/ 1.3/ 1.96', 'Denmark/ 1.27/ 1.3/ 1.16/ 1.38', 'Lesotho/ 1.98/ 2.48/ 1.48/ 1.81', 'Trinidad and Tobago/ 2.04/ 2.75/ 1.21/ 1.99', 'Syria/ 2.98/ 3.18/ 3.19/ 2.38', 'United States of America/ 2.32/ 2.22/ 1.9/ 3.07', 'Italy/ 1.66/ 1.96/ 1.06/ 1.99', 'Somalia/ 3.09/ 3.53/ 3.17/ 2.22', 'Mexico/ 2.38/ 3.02/ 2.12/ 1.72', 'Azerbaijan/ 2.22/ 2.4/ 2.04/ 2.14', 'Georgia/ 2.26/ 2.58/ 2.08/ 1.92', 'Equatorial Guinea/ 1.88/ 2.22/ 1.45/ 1.91']\n",
      " \n",
      " \n",
      "--------------------------\n",
      "1° Iraq --> Overall Scores  3.16\n",
      "2° Afghanistan --> Overall Scores  3.14\n",
      "3° Somalia --> Overall Scores  3.09\n",
      "4° Sudan --> Overall Scores  2.98\n",
      "5° Syria --> Overall Scores  2.98\n",
      "6° Russia --> Overall Scores  2.97\n",
      "7° Democratic Republic of the Congo --> Overall Scores  2.94\n",
      "8° Yemen --> Overall Scores  2.91\n",
      "9° Central African Republic --> Overall Scores  2.89\n",
      "10° North Korea --> Overall Scores  2.89\n",
      "11° Pakistan --> Overall Scores  2.87\n",
      "12° Israel --> Overall Scores  2.66\n",
      "13° Colombia --> Overall Scores  2.64\n",
      "14° Libya --> Overall Scores  2.63\n",
      "15° Nigeria --> Overall Scores  2.59\n",
      "16° Chad --> Overall Scores  2.55\n",
      "17° Turkiye --> Overall Scores  2.54\n",
      "18° Iran --> Overall Scores  2.53\n",
      "19° Ukraine --> Overall Scores  2.53\n",
      "20° Venezuela --> Overall Scores  2.53\n",
      "21° Lebanon --> Overall Scores  2.51\n",
      "22° Eritrea --> Overall Scores  2.5\n",
      "23° Ethiopia --> Overall Scores  2.42\n",
      "24° Mali --> Overall Scores  2.42\n",
      "25° Burundi --> Overall Scores  2.39\n",
      "26° Mexico --> Overall Scores  2.38\n",
      "27° India --> Overall Scores  2.37\n",
      "28° South Africa --> Overall Scores  2.35\n",
      "29° South Sudan --> Overall Scores  2.35\n",
      "30° Kenya --> Overall Scores  2.34\n",
      "31° Cameroon --> Overall Scores  2.33\n",
      "32° United States of America --> Overall Scores  2.32\n",
      "33° Zimbabwe --> Overall Scores  2.31\n",
      "34° Philippines --> Overall Scores  2.29\n",
      "35° Egypt --> Overall Scores  2.28\n",
      "36° Uganda --> Overall Scores  2.27\n",
      "37° Georgia --> Overall Scores  2.26\n",
      "38° Saudi Arabia --> Overall Scores  2.25\n",
      "39° Myanmar --> Overall Scores  2.25\n",
      "40° Mauritania --> Overall Scores  2.24\n",
      "41° Niger --> Overall Scores  2.24\n",
      "42° Algeria --> Overall Scores  2.22\n",
      "43° Thailand --> Overall Scores  2.22\n",
      "44° Azerbaijan --> Overall Scores  2.22\n",
      "45° Honduras --> Overall Scores  2.19\n",
      "46° Cote d' Ivoire --> Overall Scores  2.19\n",
      "47° Sri Lanka --> Overall Scores  2.19\n",
      "48° Kyrgyz Republic --> Overall Scores  2.18\n",
      "49° Republic of the Congo --> Overall Scores  2.17\n",
      "50° Brazil --> Overall Scores  2.17\n",
      "51° El Salvador --> Overall Scores  2.16\n",
      "52° Turkmenistan --> Overall Scores  2.15\n",
      "53° Guinea --> Overall Scores  2.15\n",
      "54° Guinea-Bissau --> Overall Scores  2.13\n",
      "55° Guatemala --> Overall Scores  2.13\n",
      "56° Uzbekistan --> Overall Scores  2.12\n",
      "57° Tajikistan --> Overall Scores  2.12\n",
      "58° Belarus --> Overall Scores  2.12\n",
      "59° Bahrain --> Overall Scores  2.11\n",
      "60° Rwanda --> Overall Scores  2.08\n",
      "61° Djibouti --> Overall Scores  2.07\n",
      "62° China --> Overall Scores  2.07\n",
      "63° Burkina Faso --> Overall Scores  2.06\n",
      "64° Armenia --> Overall Scores  2.06\n",
      "65° Haiti --> Overall Scores  2.06\n",
      "66° Guyana --> Overall Scores  2.05\n",
      "67° Cuba --> Overall Scores  2.05\n",
      "68° Benin --> Overall Scores  2.05\n",
      "69° Cambodia --> Overall Scores  2.04\n",
      "70° Trinidad and Tobago --> Overall Scores  2.04\n",
      "71° Dominican Republic --> Overall Scores  2.03\n",
      "72° Gabon --> Overall Scores  2.03\n",
      "73° Morocco --> Overall Scores  2.03\n",
      "74° Bangladesh --> Overall Scores  2.02\n",
      "75° Nicaragua --> Overall Scores  2.02\n",
      "76° Ecuador --> Overall Scores  2.02\n",
      "77° Mozambique --> Overall Scores  2.01\n",
      "78° Kazakhstan --> Overall Scores  2.01\n",
      "79° Peru --> Overall Scores  2.0\n",
      "80° Nepal --> Overall Scores  2.0\n",
      "81° Jamaica --> Overall Scores  1.99\n",
      "82° Paraguay --> Overall Scores  1.99\n",
      "83° Bolivia --> Overall Scores  1.98\n",
      "84° Eswatini --> Overall Scores  1.98\n",
      "85° Lesotho --> Overall Scores  1.98\n",
      "86° Togo --> Overall Scores  1.97\n",
      "87° Papua New Guinea --> Overall Scores  1.96\n",
      "88° The Gambia --> Overall Scores  1.96\n",
      "89° Greece --> Overall Scores  1.94\n",
      "90° Kosovo --> Overall Scores  1.94\n",
      "91° Tunisia --> Overall Scores  1.93\n",
      "92° Moldova --> Overall Scores  1.92\n",
      "93° Namibia --> Overall Scores  1.92\n",
      "94° Liberia --> Overall Scores  1.92\n",
      "95° Argentina --> Overall Scores  1.91\n",
      "96° Jordan --> Overall Scores  1.91\n",
      "97° Cyprus --> Overall Scores  1.88\n",
      "98° Oman --> Overall Scores  1.88\n",
      "99° Equatorial Guinea --> Overall Scores  1.88\n",
      "100° Serbia --> Overall Scores  1.87\n",
      "101° Montenegro --> Overall Scores  1.86\n",
      "102° Vietnam --> Overall Scores  1.86\n",
      "103° Tanzania --> Overall Scores  1.86\n",
      "104° Angola --> Overall Scores  1.86\n",
      "105° North Macedonia --> Overall Scores  1.86\n",
      "106° Madagascar --> Overall Scores  1.85\n",
      "107° Senegal --> Overall Scores  1.84\n",
      "108° Panama --> Overall Scores  1.84\n",
      "109° Malawi --> Overall Scores  1.83\n",
      "110° Timor-Leste --> Overall Scores  1.83\n",
      "111° Zambia --> Overall Scores  1.82\n",
      "112° Bosnia and Herzegovina --> Overall Scores  1.82\n",
      "113° Mongolia --> Overall Scores  1.82\n",
      "114° France --> Overall Scores  1.81\n",
      "115° Sierra Leone --> Overall Scores  1.81\n",
      "116° Botswana --> Overall Scores  1.79\n",
      "117° South Korea --> Overall Scores  1.79\n",
      "118° Laos --> Overall Scores  1.78\n",
      "119° Ghana --> Overall Scores  1.76\n",
      "120° United Kingdom --> Overall Scores  1.73\n",
      "121° Costa Rica --> Overall Scores  1.72\n",
      "122° Indonesia --> Overall Scores  1.72\n",
      "123° United Arab Emirates --> Overall Scores  1.71\n",
      "124° Lithuania --> Overall Scores  1.7\n",
      "125° Taiwan --> Overall Scores  1.69\n",
      "126° Chile --> Overall Scores  1.68\n",
      "127° Uruguay --> Overall Scores  1.68\n",
      "128° Kuwait --> Overall Scores  1.67\n",
      "129° Albania --> Overall Scores  1.67\n",
      "130° Italy --> Overall Scores  1.66\n",
      "131° Latvia --> Overall Scores  1.65\n",
      "132° Estonia --> Overall Scores  1.63\n",
      "133° Bulgaria --> Overall Scores  1.62\n",
      "134° Spain --> Overall Scores  1.6\n",
      "135° Malaysia --> Overall Scores  1.59\n",
      "136° Bhutan --> Overall Scores  1.58\n",
      "137° Mauritius --> Overall Scores  1.57\n",
      "138° Qatar --> Overall Scores  1.56\n",
      "139° Romania --> Overall Scores  1.56\n",
      "140° Croatia --> Overall Scores  1.56\n",
      "141° Slovakia --> Overall Scores  1.55\n",
      "142° Poland --> Overall Scores  1.55\n",
      "143° Germany --> Overall Scores  1.5\n",
      "144° Netherlands --> Overall Scores  1.5\n",
      "145° Hungary --> Overall Scores  1.5\n",
      "146° Belgium --> Overall Scores  1.49\n",
      "147° Norway --> Overall Scores  1.47\n",
      "148° Sweden --> Overall Scores  1.47\n",
      "149° Australia --> Overall Scores  1.44\n",
      "150° Singapore --> Overall Scores  1.41\n",
      "151° Czech Republic --> Overall Scores  1.39\n",
      "152° Switzerland --> Overall Scores  1.39\n",
      "153° Ireland --> Overall Scores  1.38\n",
      "154° Finland --> Overall Scores  1.38\n",
      "155° Japan --> Overall Scores  1.36\n",
      "156° Portugal --> Overall Scores  1.36\n",
      "157° Canada --> Overall Scores  1.34\n",
      "158° Slovenia --> Overall Scores  1.34\n",
      "159° Austria --> Overall Scores  1.31\n",
      "160° New Zealand --> Overall Scores  1.3\n",
      "161° Denmark --> Overall Scores  1.27\n",
      "162° Palestine --> Overall Scores  1.23\n",
      "163° Iceland --> Overall Scores  1.14\n",
      "--------------------------\n"
     ]
    }
   ],
   "source": [
    "# Gruppetto dei cinque\n",
    "\n",
    "data = lista_string()\n",
    "print(data)\n",
    "\n",
    "# Ordina i dati in base alla temperatura (dal più alto al più basso)\n",
    "data.sort(key=lambda x: float(x.split('/')[1]), reverse=True)\n",
    "\n",
    "def smistando(data:list):\n",
    "   ordem = 0\n",
    "   print(' \\n ')\n",
    "   print('--------------------------')\n",
    "   for x in data:\n",
    "      x = x.strip().split(sep='/')\n",
    "      ordem = ordem + 1\n",
    "      print(f'{ordem}° {x[0]} --> Overall Scores {x[1]}')\n",
    "   print('--------------------------')\n",
    "smistando(data)"
   ]
  },
  {
   "cell_type": "code",
   "execution_count": 21,
   "metadata": {},
   "outputs": [
    {
     "name": "stdout",
     "output_type": "stream",
     "text": [
      "Valore maggiore: 3.16 e minimo valore: 1.14 -> Media: 2.01\n"
     ]
    }
   ],
   "source": [
    "def media_generale(cosa:int, lista):\n",
    "   dati = lista\n",
    "   data = []\n",
    "   for i in dati:\n",
    "      i_sep = i.split(sep='/')\n",
    "      i = float(i_sep[cosa].strip())\n",
    "      data.append(i)\n",
    "   media = round(reduce(lambda x, y: x + y, data) / float(len(data)), 2)\n",
    "   print(f'Valore maggiore: {max(data)} e minimo valore: {min(data)} -> Media: {media}')\n",
    "\n",
    "media_generale(1, data)"
   ]
  }
 ],
 "metadata": {
  "kernelspec": {
   "display_name": "Python 3",
   "language": "python",
   "name": "python3"
  },
  "language_info": {
   "codemirror_mode": {
    "name": "ipython",
    "version": 3
   },
   "file_extension": ".py",
   "mimetype": "text/x-python",
   "name": "python",
   "nbconvert_exporter": "python",
   "pygments_lexer": "ipython3",
   "version": "3.11.5"
  }
 },
 "nbformat": 4,
 "nbformat_minor": 2
}
