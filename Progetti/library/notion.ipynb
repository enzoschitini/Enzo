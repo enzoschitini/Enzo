{
 "cells": [
  {
   "cell_type": "markdown",
   "metadata": {},
   "source": [
    "<img src=\"Images/Group.png\" alt=\"ebac-logo\">\n",
    "\n",
    "---\n",
    "\n",
    "# **Módulo MCR** | Python: Gestão & planejamento dos recursos\n",
    "Caderno de **Tarefas**<br> \n",
    "Desenvolvedor [Enzo Schitini](https://enzo-schitini.bubbleapps.io/version-test/)\n",
    "\n",
    "---"
   ]
  },
  {
   "cell_type": "markdown",
   "metadata": {},
   "source": [
    "## 1\\. Organização"
   ]
  },
  {
   "cell_type": "markdown",
   "metadata": {},
   "source": [
    "#### **Tópicos**\n",
    "\n",
    "<ol type=\"1\">\n",
    "  <li>Exercicios modulo 05</li>\n",
    "</ol>"
   ]
  },
  {
   "cell_type": "markdown",
   "metadata": {},
   "source": [
    "### **Gestão dos conteúdos** "
   ]
  },
  {
   "cell_type": "markdown",
   "metadata": {},
   "source": [
    "| **Nome** | **Descrição** | **Data** | **Status** |\n",
    "| ---------- | ---------- | ---------- | ---------- |\n",
    "| Heranças | Programação de objetos | 17/10 | 👏 |\n",
    "| Gráficos | Com varios valores | 28/10 | 👏 |\n",
    "| `Modulo 10` | Principais comandos | --- | --- |\n",
    "| Dati dell'internet | Principais comandos | --- | --- |\n",
    "| Pandas | Principais comandos | --- | --- |"
   ]
  },
  {
   "cell_type": "markdown",
   "metadata": {},
   "source": [
    "### **Gestão dos projetos** "
   ]
  },
  {
   "cell_type": "markdown",
   "metadata": {},
   "source": [
    "| **Nome** | **Descrição** | **Data** | **Status** |\n",
    "| ---------- | ---------- | ---------- | ---------- |\n",
    "| Climate Change | Earth Surface Temperature | 28/09 | 👏 |\n",
    "| Imola | DataSet Space | 15/10 | 👏 |\n",
    "| Brescia | Peace Index | 25/10 | 👏 |\n",
    "| LearnData | Tabella con dati sporchi | --- | --- |"
   ]
  },
  {
   "cell_type": "markdown",
   "metadata": {},
   "source": [
    "### **Links importantes** "
   ]
  },
  {
   "cell_type": "markdown",
   "metadata": {},
   "source": [
    "| **Nome do site** | **Descrição** |\n",
    "| ---------- | ---------- |\n",
    "|[Enzo Schitini 👏](https://enzo-schitini.bubbleapps.io/version-test/) | Código de segurança de um cartão de crédito |\n",
    "| [kaggle](https://www.kaggle.com/) | You're on a roll! Jump back in, or start something new |\n",
    "|[PEP 8](https://peps.python.org/pep-0008/) | Guida di stile per il codice Python |\n",
    "|[Real Python](https://realpython.com/) | Benvenuto in Real Python, Enzo! |\n",
    "|[Notion](https://www.notion.so/enzoschitini/Data-Science-4f008c5a981a4cfc8ca9438c51f61d9c) | Appunti per progetti e studio |\n",
    "|[Google DataSet](https://datasetsearch.research.google.com/) | Trovare dati  |"
   ]
  },
  {
   "cell_type": "markdown",
   "metadata": {},
   "source": [
    "### **La percentuale di ogni modulo** "
   ]
  },
  {
   "cell_type": "markdown",
   "metadata": {},
   "source": [
    "| **Modulo** | **Di cosa parla** | **Data** | **Status** |\n",
    "| ---------- | ---------- | ---------- | ---------- |\n",
    "| `Modulo 01` | Variabili i tipi di dati | --- | 87% |\n",
    "| `Modulo 02` | Strutture di dati | --- | 66% |\n",
    "| `Modulo 03` | Flussi condizionali | --- | 95% |\n",
    "| `Modulo 04` | Archivi e funzioni | --- | 90% |\n",
    "| `Modulo 05` | Programmazione funzionale | --- | 96% |\n",
    "| `Modulo 06` | Programmazione orientata a oggetti | --- | 73% |\n",
    "| `Modulo 07` | Moduli e pacchetti | --- | 78% |\n",
    "| `Modulo 08` | Trattamento di errori | --- | 98% |\n",
    "| `Modulo 09` | Scripting | --- | 57% |\n",
    "| `Modulo 10` | Analisi esplorativa | --- | 35% |\n",
    "| ---------- | ---------- | ---------- | ---------- |\n",
    "| `Punteggio` | 775 su 1000 | ---------- | ---------- |"
   ]
  },
  {
   "cell_type": "markdown",
   "metadata": {},
   "source": [
    "### **Feitos** "
   ]
  },
  {
   "cell_type": "markdown",
   "metadata": {},
   "source": [
    "| **Nome** | **Descrição** | **Data** | **Status** |\n",
    "| ---------- | ---------- | ---------- | ---------- |\n",
    "| PDF | Criar PDF | 05/10  | 👏 |\n",
    "| Imagem | Converter formatos | 01/10 | 👏 |\n",
    "| Funções | Programação funcional | 05/10 | 👏 |\n",
    "| GitHub | Trabalhar com versões | 06/10 | 👏 |\n",
    "| `Classes` | Aplicar médodos a pessoas | 09/10 | 👏 |\n",
    "| `Classes CSV` | Manipolar arquivo CSV | 10/10 | 👏 |"
   ]
  },
  {
   "cell_type": "markdown",
   "metadata": {},
   "source": [
    "### **Em pausa** "
   ]
  },
  {
   "cell_type": "markdown",
   "metadata": {},
   "source": [
    "| **Nome** | **Descrição** | **Data** | **Status** | **-** |\n",
    "| ---------- | ---------- | ---------- | ---------- | --- |\n",
    "| Umbria | Emissione di Co2 | 16/10 | 22% | ❌ |"
   ]
  },
  {
   "cell_type": "markdown",
   "metadata": {},
   "source": [
    "### **CURSO** "
   ]
  },
  {
   "cell_type": "markdown",
   "metadata": {},
   "source": [
    "## `Python PDF`"
   ]
  },
  {
   "cell_type": "markdown",
   "metadata": {},
   "source": [
    "`pip install/uninstall matplotlib` - Todos os recursos para a construção de gráficos"
   ]
  },
  {
   "cell_type": "markdown",
   "metadata": {},
   "source": [
    "#### `Random`"
   ]
  },
  {
   "cell_type": "markdown",
   "metadata": {},
   "source": [
    "from random imposrt random\n",
    "\n",
    "numeros = [round(100*random())for_ in range(0,100)]\n",
    "print(numeros)\n",
    "\n",
    "import random\n",
    "numeros_aleatorios = random.randint(0,100)"
   ]
  },
  {
   "cell_type": "markdown",
   "metadata": {},
   "source": [
    "#### `Elementos repetidos`"
   ]
  },
  {
   "cell_type": "markdown",
   "metadata": {},
   "source": [
    "REMOÇÃO \n",
    "\n",
    "original_list = [1, 2, 3, 4, 2, 3, 5, 6, 4] \n",
    "new_list = list(set(original_list)) \n",
    "print(new_list) # [1, 2, 3, 4, 5, 6]  \n",
    "\n",
    "CONTANDO A REPETIÇÃO \n",
    "\n",
    "from collections import Counter  \n",
    "lista = [1, 2, 3, 4, 2, 3, 5, 6, 4] \n",
    "contagem = Counter(lista)  \n",
    "for elemento, quantidade in contagem.items(): \n",
    " print(f 'O elemento {elemento} aparece {quantidade} vezes na lista.')"
   ]
  },
  {
   "cell_type": "markdown",
   "metadata": {},
   "source": [
    "`pip install/uninstall reportlab` - Recursos para a construção de PDF"
   ]
  },
  {
   "cell_type": "markdown",
   "metadata": {},
   "source": [
    "## `Data Science - O que é necessario`"
   ]
  },
  {
   "cell_type": "markdown",
   "metadata": {},
   "source": [
    "<ol type=\"1\">\n",
    "  <li>Entendimento do problema e do contexto de negócio</li>\n",
    "  <li>Aquisição de dados</li>\n",
    "  <li>Limpeza de dados</li>\n",
    "  <li>Análise exploratória dos dados</li>\n",
    "  <li>Manipolação dos dados: seleção, criação, formatação, agregação</li>\n",
    "  <li>Modelagem de dados</li>\n",
    "  <li>Avaliação</li>\n",
    "  <li>Produção: Deploy, relatório automático, manutenção e monitoramento</li>\n",
    "</ol>"
   ]
  }
 ],
 "metadata": {
  "kernelspec": {
   "display_name": "Python 3",
   "language": "python",
   "name": "python3"
  },
  "language_info": {
   "codemirror_mode": {
    "name": "ipython",
    "version": 3
   },
   "file_extension": ".py",
   "mimetype": "text/x-python",
   "name": "python",
   "nbconvert_exporter": "python",
   "pygments_lexer": "ipython3",
   "version": "3.11.5"
  },
  "orig_nbformat": 4
 },
 "nbformat": 4,
 "nbformat_minor": 2
}
