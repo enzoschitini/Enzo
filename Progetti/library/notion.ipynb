{
 "cells": [
  {
   "cell_type": "markdown",
   "metadata": {},
   "source": [
    "<img src=\"Images/Group.png\" alt=\"ebac-logo\">\n",
    "\n",
    "---\n",
    "\n",
    "# **Módulo MCR** | Python: Gestão & planejamento dos recursos\n",
    "Caderno de **Tarefas**<br> \n",
    "Desenvolvedor [Enzo Schitini](https://enzo-schitini.bubbleapps.io/version-test/)\n",
    "\n",
    "---"
   ]
  },
  {
   "cell_type": "markdown",
   "metadata": {},
   "source": [
    "## 1\\. Organização"
   ]
  },
  {
   "cell_type": "markdown",
   "metadata": {},
   "source": [
    "#### **Tópicos**\n",
    "\n",
    "<ol type=\"1\">\n",
    "  <li>Exercicios modulo 05</li>\n",
    "</ol>"
   ]
  },
  {
   "cell_type": "markdown",
   "metadata": {},
   "source": [
    "### **Gestão dos conteúdos** "
   ]
  },
  {
   "cell_type": "markdown",
   "metadata": {},
   "source": [
    "| **Nome** | **Descrição** | **Data** | **Status** |\n",
    "| ---------- | ---------- | ---------- | ---------- |\n",
    "| `Heranças` | Programação de objetos | 03/10 | 50% |\n",
    "| Gráficos | Com varios valores | --- | --- |\n",
    "| Pandas | Principais comandos | --- | --- |"
   ]
  },
  {
   "cell_type": "markdown",
   "metadata": {},
   "source": [
    "### **Gestão dos projetos** "
   ]
  },
  {
   "cell_type": "markdown",
   "metadata": {},
   "source": [
    "| **Nome** | **Descrição** | **Data** | **Status** |\n",
    "| ---------- | ---------- | ---------- | ---------- |\n",
    "| Climate Change | Earth Surface Temperature | 28/09 | 👏 |\n",
    "| Imola | DataSet Space | 13/10 | 78% |"
   ]
  },
  {
   "cell_type": "markdown",
   "metadata": {},
   "source": [
    "### **Links importantes** "
   ]
  },
  {
   "cell_type": "markdown",
   "metadata": {},
   "source": [
    "| **Nome do site** | **Descrição** |\n",
    "| ---------- | ---------- |\n",
    "|[Enzo Schitini 👏](https://enzo-schitini.bubbleapps.io/version-test/) | Código de segurança de um cartão de crédito |\n",
    "| [kaggle](https://www.kaggle.com/) | You're on a roll! Jump back in, or start something new |"
   ]
  },
  {
   "cell_type": "markdown",
   "metadata": {},
   "source": [
    "### **Feitos** "
   ]
  },
  {
   "cell_type": "markdown",
   "metadata": {},
   "source": [
    "| **Nome** | **Descrição** | **Data** | **Status** |\n",
    "| ---------- | ---------- | ---------- | ---------- |\n",
    "| PDF | Criar PDF | 05/10  | 👏 |\n",
    "| Imagem | Converter formatos | 01/10 | 👏 |\n",
    "| Funções | Programação funcional | 05/10 | 👏 |\n",
    "| GitHub | Trabalhar com versões | 06/10 | 👏 |\n",
    "| `Classes` | Aplicar médodos a pessoas | 09/10 | 👏 |\n",
    "| `Classes CSV` | Manipolar arquivo CSV | 10/10 | 👏 |"
   ]
  },
  {
   "cell_type": "markdown",
   "metadata": {},
   "source": [
    "### **Em pausa** "
   ]
  },
  {
   "cell_type": "markdown",
   "metadata": {},
   "source": [
    "| **Nome** | **Descrição** | **Data** | **Status** | **-** |\n",
    "| ---------- | ---------- | ---------- | ---------- | --- |\n",
    "| LearnData | Tabela de base | --- | 68% | ❌ |"
   ]
  },
  {
   "cell_type": "markdown",
   "metadata": {},
   "source": [
    "### **CURSO** "
   ]
  },
  {
   "cell_type": "markdown",
   "metadata": {},
   "source": [
    "## `Python PDF`"
   ]
  },
  {
   "cell_type": "markdown",
   "metadata": {},
   "source": [
    "`pip install/uninstall matplotlib` - Todos os recursos para a construção de gráficos"
   ]
  },
  {
   "cell_type": "markdown",
   "metadata": {},
   "source": [
    "#### `Random`"
   ]
  },
  {
   "cell_type": "markdown",
   "metadata": {},
   "source": [
    "from random imposrt random\n",
    "\n",
    "numeros = [round(100*random())for_ in range(0,100)]\n",
    "print(numeros)\n",
    "\n",
    "import random\n",
    "numeros_aleatorios = random.randint(0,100)"
   ]
  },
  {
   "cell_type": "markdown",
   "metadata": {},
   "source": [
    "#### `Elementos repetidos`"
   ]
  },
  {
   "cell_type": "markdown",
   "metadata": {},
   "source": [
    "REMOÇÃO \n",
    "\n",
    "original_list = [1, 2, 3, 4, 2, 3, 5, 6, 4] \n",
    "new_list = list(set(original_list)) \n",
    "print(new_list) # [1, 2, 3, 4, 5, 6]  \n",
    "\n",
    "CONTANDO A REPETIÇÃO \n",
    "\n",
    "from collections import Counter  \n",
    "lista = [1, 2, 3, 4, 2, 3, 5, 6, 4] \n",
    "contagem = Counter(lista)  \n",
    "for elemento, quantidade in contagem.items(): \n",
    " print(f 'O elemento {elemento} aparece {quantidade} vezes na lista.')"
   ]
  },
  {
   "cell_type": "markdown",
   "metadata": {},
   "source": [
    "`pip install/uninstall reportlab` - Recursos para a construção de PDF"
   ]
  },
  {
   "cell_type": "markdown",
   "metadata": {},
   "source": [
    "## `Data Science - O que é necessario`"
   ]
  },
  {
   "cell_type": "markdown",
   "metadata": {},
   "source": [
    "<ol type=\"1\">\n",
    "  <li>Entendimento do problema e do contexto de negócio</li>\n",
    "  <li>Aquisição de dados</li>\n",
    "  <li>Limpeza de dados</li>\n",
    "  <li>Análise exploratória dos dados</li>\n",
    "  <li>Manipolação dos dados: seleção, criação, formatação, agregação</li>\n",
    "  <li>Modelagem de dados</li>\n",
    "  <li>Avaliação</li>\n",
    "  <li>Produção: Deploy, relatório automático, manutenção e monitoramento</li>\n",
    "</ol>"
   ]
  }
 ],
 "metadata": {
  "kernelspec": {
   "display_name": "Python 3",
   "language": "python",
   "name": "python3"
  },
  "language_info": {
   "name": "python",
   "version": "3.11.5"
  },
  "orig_nbformat": 4
 },
 "nbformat": 4,
 "nbformat_minor": 2
}
